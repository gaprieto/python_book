{
 "cells": [
  {
   "cell_type": "markdown",
   "metadata": {},
   "source": [
    "# Capítulo 8\n",
    "## Números Complejos"
   ]
  },
  {
   "cell_type": "markdown",
   "metadata": {},
   "source": [
    "El uso de números complejos puede no ser familiar para muchos de Uds. en Geociencias, pero en el tratamiento de datos y series de tiempo, se usa para el análisis de Fourier, y en geofísica también es muy utilizado.\n",
    "\n",
    "En algunos lenguajes, el uso de números complejos no es sencillo. En Fortran por ejemplo, un número complejo es estandar, mientras que en C/C++ no lo es y se requiere cargar librerías para poder trabajar con ellos. "
   ]
  },
  {
   "cell_type": "markdown",
   "metadata": {},
   "source": [
    "En Python se puede definir un número complejo usando\n",
    "```\n",
    "z = complex(2,3)\n",
    "```\n",
    "o también \n",
    "```\n",
    "z = 2+3j\n",
    "```\n",
    "donde `j` se usa en vez de `i` en Matlab.\n",
    "\n",
    "Un programa básico con algunos ejemplos básicos del uso de números complejos en Python se muestra:"
   ]
  },
  {
   "cell_type": "code",
   "execution_count": 18,
   "metadata": {},
   "outputs": [],
   "source": [
    "# basic_complex.py\n",
    "# Some basic complex number concepts\n",
    "\n",
    "import cmath\n",
    "\n",
    "z0 = 1j\n",
    "z1 = 1j * 1j\n",
    "\n",
    "print(z0)\n",
    "print(z1)\n",
    "\n"
   ]
  },
  {
   "cell_type": "code",
   "execution_count": null,
   "metadata": {},
   "outputs": [],
   "source": [
    "z0 =  complex(2,3)\n",
    "z  = 2+3j\n",
    "print(z, z0)"
   ]
  },
  {
   "cell_type": "code",
   "execution_count": null,
   "metadata": {},
   "outputs": [],
   "source": [
    "print(z.real)\n",
    "print(z.imag)\n",
    "print(z.conjugate())\n",
    "\n",
    "z = complex(3,4)\n",
    "print(z, abs(z))\n",
    "print(pow(z, 2))\n"
   ]
  },
  {
   "cell_type": "code",
   "execution_count": 17,
   "metadata": {},
   "outputs": [],
   "source": [
    "# Some function on complex\n",
    "print(\"Functions on complex numbers\")\n",
    "z = complex(2,3)\n",
    "zsin = cmath.sin(z)\n",
    "zcos = cmath.cos(z)\n",
    "\n",
    "print('For z = ', z)\n",
    "print('cos(z), sin(z)', zcos, zsin)"
   ]
  },
  {
   "cell_type": "markdown",
   "metadata": {},
   "source": [
    "### Hágalo Ud mismo\n",
    "\n",
    "#### Algunos ejemplos de números complejos\n",
    "Escriba un programa con interacción del usuario para multiplicar dos números complejos. Imprima los resultados, el valor absoluto y su raíz cuadrada. \n",
    "\n",
    "\n"
   ]
  },
  {
   "cell_type": "code",
   "execution_count": 16,
   "metadata": {},
   "outputs": [],
   "source": [
    "# testcomplex.py\n",
    "import cmath\n",
    "\n",
    "zreal,zimag = input(\"Enter first  complex number \").split()\n",
    "a = complex(float(zreal),float(zimag))\n",
    "zreal,zimag = input(\"Enter first  complex number \").split()\n",
    "b = complex(float(zreal),float(zimag))\n",
    "\n",
    "\n",
    "\n"
   ]
  },
  {
   "cell_type": "markdown",
   "metadata": {},
   "source": [
    "Los números complejos en Python se representan como dos pares de números en parentesis, el segundo con una `j`. Por esto, no es fácil pedir el `input` del usuario. Se solicita dos números y el programa los lee y los pone dentro de un número complejo. Cualquiera de los siguientes casos\n",
    "```\n",
    "1, 1\n",
    "(1, 1j)\n",
    "1+1j\n",
    "```\n",
    "producirían errores en nuestro programa\n",
    "\n",
    "Python proporciona las funciones para unir dos números dentro de un complejo, o extraer la parte real e imaginarias de un número complejo. "
   ]
  },
  {
   "cell_type": "code",
   "execution_count": 14,
   "metadata": {},
   "outputs": [],
   "source": [
    "# testcomplex2.py\n",
    "import cmath\n",
    "import numpy as np\n",
    "\n",
    "zreal = np.random.rand()\n",
    "zimag = np.random.rand()\n",
    "a = complex(zreal,zimag)\n",
    "\n",
    "\n"
   ]
  },
  {
   "cell_type": "markdown",
   "metadata": {},
   "source": [
    "### Arreglos de números complejos \n",
    "\n",
    "`NumPy` tiene la capacidad de trabajar con arreglos de números complejos, lo cual puede ser de gran utilidad. Incluso las operaciones en `numpy` trabajan sin problema (o por lo menos la parte que he mirado) con arreglos complejos y sin necesidad de cargar `cmath`.\n",
    "\n",
    "Abajo un ejemplo simple de creación de un arreglo complejo, y el uso de multiplicación matricial `matmul()` con arreglos complejos. \n",
    "\n"
   ]
  },
  {
   "cell_type": "code",
   "execution_count": null,
   "metadata": {},
   "outputs": [],
   "source": [
    "a = np.array([1+2j, 3+4j, 5+6j])\n",
    "a = a[:, np.newaxis]\n",
    "b = a.T\n",
    "\n",
    "print('Array a, (3,1) ', a)\n",
    "print('Array b, (1,3) ', b)\n"
   ]
  },
  {
   "cell_type": "code",
   "execution_count": null,
   "metadata": {},
   "outputs": [],
   "source": [
    "a = np.array([1+2j, 3+4j, 5+6j])\n",
    "a = a[:, np.newaxis]\n",
    "b = a.T\n",
    "\n",
    "print('Array a, (3,1) ', a)\n",
    "print('Array b, (1,3) ', b)\n",
    "\n",
    "\n"
   ]
  },
  {
   "cell_type": "code",
   "execution_count": null,
   "metadata": {},
   "outputs": [],
   "source": [
    "c = np.matmul(a,b)\n",
    "\n",
    "print ('matmul(a*a.T)')\n",
    "print(c)\n",
    "\n",
    "c = np.matmul(a,np.conjugate(b))\n",
    "\n",
    "print ('matmul(a*conj(a.T))')\n",
    "print(c)\n",
    "\n",
    "c = np.matmul(a,np.conjugate(b))\n",
    "\n",
    "print ('sqrt(c)')\n",
    "print(np.sqrt(c))"
   ]
  },
  {
   "cell_type": "markdown",
   "metadata": {},
   "source": [
    "## Fractales\n",
    "\n",
    "Si no lo han visto, en internet se encuentran figuras muy llamativas de fractales. Uno de los sets mas famosos son el *Mandelbrot Set*, el cual es relativamente fácil de generar en un programa de computador. Para hacerlo, se requiere poder manejar números complejos en Python. \n",
    "\n",
    "La idea básica detrás del cálculo de fractales es que hay ciertas funciones complejas que, cuando se calculan repetidamente, pueden divergir o estar limitadas. El que divergan o no, es muy sensible a pequeños cambios en el valor del número complejo que inicia el cálculo. Esto se observa muy cerca de ciertas regiones en el plano complejo. \n",
    "\n",
    "Una de las imagenes más famosas de fractales es el *Mandelbrot Set*. Para generar este *set*, empezamos considerando un número complejo `c`, al cual se le aplica el siguiente algoritmo:\n",
    "```\n",
    "    comience con z=0 \n",
    "    calcule repetidamente z = z*z + c\n",
    "    verifique si |z| > 2 y cuantas repeticiones\n",
    "    requirió para sobrepasar ese límite. \n",
    "```\n",
    "\n",
    "Por ejemplo, si $c=0.3 + 0.3i$, entonces:\n",
    "```\n",
    "   1ra rep: z =  0.30 + 0.30i  |z| = 0.42\n",
    "   2da rep: z =  0.30 + 0.48i  |z| = 0.57\n",
    "   3ra rep: z =  0.16 + 0.59i  |z| = 0.61\n",
    "   4ta rep: z = -0.02 + 0.49i  |z| = 0.49\n",
    "```\n",
    "En este caso, `z` permanecerá limitado aún hasta después de miles de iteraciones. Sin embargo, para $c=0.5 + 1.0i$:\n",
    "```\n",
    "   1ra iter: z =  0.50 + 1.00i  |z| = 1.10\n",
    "   2da iter: z = -0.25 + 2.00i  |z| = 2.00\n",
    "   3ra iter: z = -3.44 + 0.00i  |z| = 3.40\n",
    "   4ta iter: z = 12.32 + 1.00i  |z| = 12.4\n",
    "   5ta iter: z = 151.1 +25.63i  |z| = 153.4\n",
    "```\n",
    "y el valor de `z` rápidamente explota a valores infinitos. En la iteración 10 el valor seguramente ya excederá la capacidad para que un computador pueda guardar el número en memoria. Sin embargo, podemos evitar hacer estos cálculos de `z` una vez su valor absoluto exceda 2.0, ya que se puede demostrar que una vez ese valor es alcanzado, `z` tiende a diverger. \n",
    "\n",
    "El cálculo se realiza para una serie de valores de `c` y el resultado se grafica como función de la posición de `c` en el plano complejo (la parte real en el eje `x` la parte imaginaria en el eje `y` y el número de iteraciones como valor de amplitud). El *Mandelbrot set*, es el set de números complejos `c` para los cuales el tamaño de $z^2+c$ es finito aun después de un número infinito de iteraciones. Una buena aproximación, es por ejemplo realizar esta operación hasta un número grande de iteraciones (1000 puede ser un buen ejemplo), y asumir que si $|z|>2$, el valor va a diverger.  \n",
    "\n"
   ]
  },
  {
   "cell_type": "markdown",
   "metadata": {},
   "source": [
    "### Hágalo Ud mismo\n",
    "\n",
    "Escriba un código para calcular el *Mandelbrot set*, donde se define de manera automática el número de puntos para el eje `x` y el eje `y` (eje de los reales e imaginarios).\n",
    "\n",
    "Por ejemplo, siempre haga 100 puntos en `x` y 100 en `y`, para un total de 10.000 puntos (`x,y`).\n",
    "\n",
    "También permita que el usuario defina la región (`Xmin`, `Xmax`, `Ymin`,`Ymax`) donde quiere hacer el cálculo (es como permitir hacer zoom).\n",
    "\n",
    "Para cada punto\n",
    "```\n",
    "c = complex(x,y)\n",
    "```\n",
    "cuente el número de repeticiones que necesita hacer para que $|z|>2$. Si ha hecho más de 1000 repeticiones, pare y continue con el siguiente par de números (`x,y`).\n",
    "\n",
    "Haga la figura a color de `x`, `y` y el número de repeticiones, que sería una matriz de 100,100 (por ejemplo con `imshow`). "
   ]
  },
  {
   "cell_type": "code",
   "execution_count": 13,
   "metadata": {},
   "outputs": [],
   "source": [
    "# mandel1.py\n",
    "# Plot the mandelbrot set for a number of points\n",
    "#\n",
    "\n",
    "import numpy as np\n",
    "import matplotlib.pyplot as plt\n",
    "\n",
    "# Defina los límites X,Y \n",
    "x1,x2,y1,y2 = input(\"Enter x1,x2,y1,y2 \").split()\n",
    "\n"
   ]
  },
  {
   "cell_type": "code",
   "execution_count": null,
   "metadata": {},
   "outputs": [],
   "source": []
  }
 ],
 "metadata": {
  "kernelspec": {
   "display_name": "Python 3",
   "language": "python",
   "name": "python3"
  },
  "language_info": {
   "codemirror_mode": {
    "name": "ipython",
    "version": 3
   },
   "file_extension": ".py",
   "mimetype": "text/x-python",
   "name": "python",
   "nbconvert_exporter": "python",
   "pygments_lexer": "ipython3",
   "version": "3.7.8"
  }
 },
 "nbformat": 4,
 "nbformat_minor": 4
}
