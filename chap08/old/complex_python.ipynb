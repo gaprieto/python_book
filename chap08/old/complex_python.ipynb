{
 "cells": [
  {
   "cell_type": "markdown",
   "metadata": {},
   "source": [
    "# Números Complejos\n",
    "\n",
    "El uso de números complejos puede no ser familiar para muchos de Uds. en\n",
    "Geociencias, pero en el tratamiento de datos y series de tiempo, se usa para el análisis de Fourier, en geofísica también es muy utilizado.\n",
    "\n",
    "En algunos lenguajes, el uso de números complejos no es sencillo. En Fortran por ejemplo, un número complejo es estandar, mientras que en C/C++ no lo es y se requiere cargar librerías para poder trabajar con ellos. En Python se puede definir un número complejo usando\n",
    "```\n",
    "z = complex(2,3)\n",
    "```\n",
    "o también\n",
    "```\n",
    "z = 2+3j\n",
    "```\n",
    "donde `j` se usa en vez de `i` en Matlab.\n",
    "\n",
    "Un programa con algunos ejemplos básicos del uso de números complejos:"
   ]
  },
  {
   "cell_type": "code",
   "execution_count": 1,
   "metadata": {},
   "outputs": [
    {
     "name": "stdout",
     "output_type": "stream",
     "text": [
      "1j\n",
      "(-1+0j)\n",
      "(2+3j) (2+3j)\n",
      "2.0\n",
      "3.0\n",
      "(2-3j)\n",
      "(3+4j) 5.0\n",
      "(-7+24j)\n",
      "Functions on complex numbers\n",
      "For z =  (2+3j)\n",
      "cos(z), sin(z) (-4.189625690968807-9.109227893755337j) (9.15449914691143-4.168906959966565j)\n"
     ]
    }
   ],
   "source": [
    "# basic_complex.py\n",
    "# Some basic complex number concepts\n",
    "\n",
    "import cmath\n",
    "\n",
    "z0 = 1j\n",
    "z1 = 1j * 1j\n",
    "\n",
    "print(z0)\n",
    "print(z1)\n",
    "\n",
    "z0 =  complex(2,3)\n",
    "z  = 2+3j\n",
    "print(z, z0)\n",
    "\n",
    "print(z.real)\n",
    "print(z.imag)\n",
    "print(z.conjugate())\n",
    "\n",
    "z = complex(3,4)\n",
    "print(z, abs(z))\n",
    "print(pow(z, 2))\n",
    "\n",
    "# Some function on complex\n",
    "print(\"Functions on complex numbers\")\n",
    "z = complex(2,3)\n",
    "zsin = cmath.sin(z)\n",
    "zcos = cmath.cos(z)\n",
    "\n",
    "print('For z = ', z)\n",
    "print('cos(z), sin(z)', zcos, zsin)\n"
   ]
  },
  {
   "cell_type": "markdown",
   "metadata": {},
   "source": [
    "# Algunos ejemplos de números complejos\n",
    "\n",
    "Acá otro programa con interacción del usuario para multiplicar dos números complejos"
   ]
  },
  {
   "cell_type": "code",
   "execution_count": 4,
   "metadata": {},
   "outputs": [
    {
     "name": "stdout",
     "output_type": "stream",
     "text": [
      "Enter first  complex number 2 3 \n",
      "Enter second complex number 5 3\n",
      "Product         =  (1+21j)\n",
      "abs of product  =  21.02379604162864\n",
      "sqrt of product =  (3.3184179997122603+3.164158343195599j)\n"
     ]
    }
   ],
   "source": [
    "# testcomplex.py\n",
    "\n",
    "import cmath\n",
    "\n",
    "zreal,zimag = input(\"Enter first  complex number \").split()\n",
    "a = complex(float(zreal),float(zimag))\n",
    "\n",
    "zreal,zimag = input(\"Enter second complex number \").split()\n",
    "b = complex(float(zreal),float(zimag))\n",
    "\n",
    "c = a*b\n",
    "\n",
    "print('Product         = ', c)\n",
    "print('abs of product  = ', abs(c))\n",
    "print('sqrt of product = ', cmath.sqrt(c))\n",
    "\n"
   ]
  },
  {
   "cell_type": "markdown",
   "metadata": {},
   "source": [
    "Los números complejos en Python se representan como dos pares de números en parentesis, el segundo con una j. Por esto, no es fácil pedir el input del usuario.\n",
    "\n",
    "Se solicita dos números y el programa los lee y los pone dentro de un número complejo. Cualquiera de los siguientes casos\n",
    "```\n",
    "1, 1\n",
    "(1, 1j)\n",
    "1+1j\n",
    "```\n",
    "producirían errores en nuestro programa\n",
    "\n",
    "Python proporciona las funciones para unir dos n??meros dentro de un complejo, o extraer la parte real e imaginarias de un número complejo."
   ]
  },
  {
   "cell_type": "code",
   "execution_count": 5,
   "metadata": {},
   "outputs": [
    {
     "name": "stdout",
     "output_type": "stream",
     "text": [
      "Enter real part 3\n",
      "Enter imaginary part 2\n",
      "z =  (3+2j)\n",
      "exp(a) =  (-8.358532650935372+18.263727040666765j)\n",
      "Real and Imaginary parts  -8.358532650935372 18.263727040666765\n"
     ]
    }
   ],
   "source": [
    "# testcomplex2.py\n",
    "\n",
    "import cmath\n",
    "\n",
    "zreal = input(\"Enter real part \")\n",
    "zimag = input(\"Enter imaginary part \")\n",
    "\n",
    "a = complex(float(zreal),float(zimag))\n",
    "print ('z = ', a)\n",
    "\n",
    "a = cmath.exp(a)\n",
    "print ('exp(a) = ', a)\n",
    "\n",
    "print ('Real and Imaginary parts ', a.real, a.imag)\n"
   ]
  },
  {
   "cell_type": "markdown",
   "metadata": {},
   "source": [
    "# Arreglos de números complejos\n",
    "\n",
    "`NumPy` tiene la capacidad de trabajar con arreglos de números complejos, lo cual puede ser de gran utilidad. Incluso las operaciones en numpy trabajan sin problema (o por lo menos la parte que he mirado) con arreglos complejos.\n",
    "\n",
    "Abajo un ejemplo simple de creeación de un arreglo complejo, y el uso de\n",
    "multiplicación matricial `matmul()` con arreglos complejos.\n"
   ]
  },
  {
   "cell_type": "code",
   "execution_count": 6,
   "metadata": {},
   "outputs": [
    {
     "name": "stdout",
     "output_type": "stream",
     "text": [
      "Complex array  (3,)\n",
      "[1.+2.j 3.+4.j 5.+6.j]\n",
      "Imag part  [2. 4. 6.]\n",
      "New array  [1. +8.j 3.+10.j 5.+12.j]\n",
      "Array a, (3,1)  [[1.+2.j]\n",
      " [3.+4.j]\n",
      " [5.+6.j]]\n",
      "Array b, (1,3)  [[1.+2.j 3.+4.j 5.+6.j]]\n",
      "matmul(a*a.T)\n",
      "[[ -3. +4.j  -5.+10.j  -7.+16.j]\n",
      " [ -5.+10.j  -7.+24.j  -9.+38.j]\n",
      " [ -7.+16.j  -9.+38.j -11.+60.j]]\n",
      "matmul(a*conj(a.T))\n",
      "[[ 5.+0.j 11.+2.j 17.+4.j]\n",
      " [11.-2.j 25.+0.j 39.+2.j]\n",
      " [17.-4.j 39.-2.j 61.+0.j]]\n"
     ]
    }
   ],
   "source": [
    "# array_complex.py\n",
    "\n",
    "import cmath\n",
    "import numpy as np\n",
    "\n",
    "a = np.array([1+2j, 3+4j, 5+6j])\n",
    "\n",
    "print('Complex array ', a.shape)\n",
    "print(a)\n",
    "\n",
    "print ('Imag part ', a.imag)\n",
    "a.imag = np.array([8, 10, 12])\n",
    "\n",
    "print('New array ', a)\n",
    "\n",
    "a = np.array([1+2j, 3+4j, 5+6j])\n",
    "a = a[:, np.newaxis]\n",
    "b = a.T\n",
    "\n",
    "print('Array a, (3,1) ', a)\n",
    "print('Array b, (1,3) ', b)\n",
    "\n",
    "c = np.matmul(a,b)\n",
    "\n",
    "print ('matmul(a*a.T)')\n",
    "print(c)\n",
    "\n",
    "c = np.matmul(a,np.conjugate(b))\n",
    "\n",
    "print ('matmul(a*conj(a.T))')\n",
    "print(c)\n"
   ]
  },
  {
   "cell_type": "markdown",
   "metadata": {},
   "source": [
    "# Fractales\n",
    "\n",
    "Si no lo han visto, en internet se encuentran figuras muy llamativas de fractales. Uno de los sets mas famosos son el Mandelbrot Set, el cual es relativamente fácil de generar en un programa de computador. Para hacerlo, se requiere poder manejar números complejos en Python.\n",
    "\n",
    "La idea básica detrás del cálculo de fractales es que hay ciertas funciones complejas que, cuando se calculan repetidamente, pueden divergir o estar limitadas. El que divergan o no, es muy sensible a pequeños cambios en el valor del número complejo que inicia el cálculo. Esto se observa muy cerca de ciertas\n",
    "regiones en el plano complejo.\n",
    "\n",
    "Una de las imagenes más famosas de fratales es el Mandelbrot Set. Para\n",
    "generar este set, empezamos considerando un númerp complejo c, al cual se le aplica el siguiente algoritmo:\n",
    "```\n",
    "set z=0 to start\n",
    "then repeateadly compute z = z*z + c\n",
    "until |z| > 2 OR the number of iterations exceeds some number\n",
    "output the number of iterations\n",
    "```\n",
    "\n",
    "Por ejemplo, si c = 0.3 + 0.3i, entonces:\n",
    "```\n",
    "1ra iter: z = 0.30 + 0.30i |z| = 0.42\n",
    "2da iter: z = 0.30 + 0.48i |z| = 0.57\n",
    "3ra iter: z = 0.16 + 0.59i |z| = 0.61\n",
    "4ta iter: z = -0.02 + 0.49i |z| = 0.49\n",
    "```\n",
    "En este caso, z permanecerá limitado aún hasta después de miles de iteraciones.\n",
    "\n",
    "Sin embargo, para c = 0.5 + 1.0i:\n",
    "```\n",
    "1ra iter: z = 0.50 + 1.00i |z| = 1.10\n",
    "2da iter: z = -0.25 + 2.00i |z| = 2.00\n",
    "3ra iter: z = -3.44 + 0.00i |z| = 3.40\n",
    "4ta iter: z = 12.32 + 1.00i |z| = 12.4\n",
    "5ta iter: z = 151.1 +25.63i |z| = 153.4\n",
    "```\n",
    "y el valor de z rápidamente explota a valores infinitos. En la iteración 10 el valor\n",
    "seguramente ya excederá la capacidad para que un computador pueda guardar\n",
    "el número en memoria. Sin embargo, podemos evitar hacer estos cálculos de z\n",
    "una vez su valor absoluto exceda 2.0, ya que se puede demostrar que una vez\n",
    "ese valor es alcanzado, `z` tiende a diverger.\n",
    "\n",
    "El cálculo se realiza para una serie de valores de `c` y el resultado se grafica como función de la posición de `c` en el plano complejo (la parte real en el eje `x` la parte imaginaria en el eje `y` y el número de iteraciones como valor de amplitud).\n",
    "\n",
    "El Mandelbrot set, es el set de números complejos c para los cuales el tamaño de `z^2 +c` es finito aun después de un número infinito de iteraciones. Una buena aproximación, es por ejemplo realizar esta operación hasta un número grande de iteraciones (1000 puede ser un buen ejemplo), y asumir que si `|z| > 2`, el\n",
    "valor va a diverger.\n",
    "\n",
    "Un código para calcular el Mandelbrot set se muestra a continuación, donde se define de manera automática el número de puntos para el eje `x` y el eje `y` (eje de los reales e imaginarios)."
   ]
  },
  {
   "cell_type": "code",
   "execution_count": 16,
   "metadata": {},
   "outputs": [
    {
     "name": "stdout",
     "output_type": "stream",
     "text": [
      "Enter x1,x2,y1,y2 -2 2 -2 2\n"
     ]
    },
    {
     "data": {
      "image/png": "[encoded data removed]",
      "text/plain": [
       "<Figure size 432x288 with 1 Axes>"
      ]
     },
     "metadata": {
      "needs_background": "light"
     },
     "output_type": "display_data"
    }
   ],
   "source": [
    "# mandel1.py\n",
    "# Plot the mandelbrot set for a number of points\n",
    "#\n",
    "\n",
    "import cmath\n",
    "import numpy as np\n",
    "import matplotlib.pyplot as plt\n",
    "\n",
    "x1,x2,y1,y2 = input(\"Enter x1,x2,y1,y2 \").split()\n",
    "x1 = float(x1)\n",
    "x2 = float(x2)\n",
    "y1 = float(y1)\n",
    "y2 = float(y2)\n",
    "\n",
    "# Define grid size and start matrix\n",
    "nx = 100\n",
    "ny = 100\n",
    "dx = (x2-x1)/float(nx)\n",
    "dy = (y2-y1)/float(ny)\n",
    "dat = np.zeros((nx,ny))\n",
    "\n",
    "# Main loop for each value\n",
    "for ix in range(nx):\n",
    "   for iy in range(ny):\n",
    "      cr = x1 + dx/2. + dx*float(ix)\n",
    "      ci = y1 + dy/2. + dy*float(iy)\n",
    "      # Create complex number\n",
    "      c = complex(cr,ci)\n",
    "      z = complex(0.0, 0.0)\n",
    "      for it in range(1000):\n",
    "         z = c + z*z\n",
    "         if (abs(z) > 2):\n",
    "            break\n",
    "      dat[ix,iy] = it+1\n",
    "\n",
    "# Rotate matrix and plot log10 scale\n",
    "dat = np.transpose(dat)\n",
    "zdat = np.log10(dat)\n",
    "\n",
    "# Plot result \n",
    "plt.imshow(zdat,interpolation='bilinear',extent=(x1,x2,y2,y1),cmap='Spectral')\n",
    "plt.axis('equal')\n",
    "plt.savefig('mandel1.png')\n",
    "plt.show()       \n",
    "\n"
   ]
  },
  {
   "cell_type": "code",
   "execution_count": null,
   "metadata": {},
   "outputs": [],
   "source": []
  },
  {
   "cell_type": "code",
   "execution_count": null,
   "metadata": {},
   "outputs": [],
   "source": []
  }
 ],
 "metadata": {
  "kernelspec": {
   "display_name": "Python 3",
   "language": "python",
   "name": "python3"
  },
  "language_info": {
   "codemirror_mode": {
    "name": "ipython",
    "version": 3
   },
   "file_extension": ".py",
   "mimetype": "text/x-python",
   "name": "python",
   "nbconvert_exporter": "python",
   "pygments_lexer": "ipython3",
   "version": "3.6.6"
  }
 },
 "nbformat": 4,
 "nbformat_minor": 2
}
