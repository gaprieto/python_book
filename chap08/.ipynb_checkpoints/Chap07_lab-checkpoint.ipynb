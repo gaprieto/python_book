{
 "cells": [
  {
   "cell_type": "markdown",
   "metadata": {},
   "source": [
    "# Capítulo 7\n",
    "## Gráficas de datos y mapas"
   ]
  },
  {
   "cell_type": "markdown",
   "metadata": {},
   "source": [
    "Una de las grandes ventajas de aprender programación en Python a diferencia de Fortran o C/C++, es que Python tiene paquetes para generar figuras de alta calidad (aunque yo recomiendo aprender igual Fortran o C/C++). El poder de los paquetes de gráficas en Python es mucho mayor a lo que se puede presentar en este curso y es su trabajo aprender más de lo que se muestra acá.  Adicionalmente también haré una introducción a dos paquetes de generación de mapas de alta calidad (`cartopy` y `PyGMT`). Ambos paquetes deben estar instalados a través de Anaconda.\n",
    "\n",
    "Antes de empezar, es fundamental que una figura tenga toda la información necesaria para que cualquier persona que la vea lo pueda entender. Por eso, cada eje debe estar descrito, y si se tienen más de un tipo de datos, se debe explicar que significa cada uno. Para la presentación de resultados científicos y especialmente en geociencias, es importante generar figuras que muestren la información de manera correcta, veraz y con buena resolución. No es aceptable entregar figuras sin ejes explicados, o escalas si es necesario. \n",
    "\n",
    "Como comentario personal, aunque se muestran algunos ejemplos de figuras en 3D, éstas en muchos casos (aunque bonitas) no son útiles para presentar la información. Las páginas de revistas o la pantalla del computador es 2D, por lo que no es fácil ver la tercera dimensión. A veces es mejor un mapa de contornos, que mostrar la topografía en 3D en una figura. \n",
    "\n",
    "El paquete que se utilizará es `matplotlib` y específicamente `pyplot`, que generalmente hacen parte de la instalación básica de Anaconda. Los paquetes de mapas deben instalarse, por ejemplo con el archivo `unal\\_geopython.yml`. \n",
    "\n",
    "Como referencia para las múltiples opciones de graáficas se puede encontrar en <a href=\"https://matplotlib.org\">matplotlib.org</a>\n"
   ]
  },
  {
   "cell_type": "markdown",
   "metadata": {},
   "source": [
    "## Graficas 1D/2D\n",
    "\n",
    "En varios casos en una publicación se requiere comparar varias curvas o series de datos. Esto se puede hacer con una figura mostrando las diferentes señales, por ejemplo como líneas. \n",
    "\n"
   ]
  },
  {
   "cell_type": "markdown",
   "metadata": {},
   "source": [
    "### Hazlo tu mismo\n",
    "\n",
    "En el siguiente ejercicio se obtiene un arreglo de funciones **Slepian**, (usadas en análisis de series de tiempo y métodos de Fourier) y sus valores propios (eigenvalues). El objetivo es\n",
    "- Graficar las 5 curvas obtenidas usando diferentes colores y/o formatos\n",
    "- Nombrar la figura y los ejes\n",
    "- Poner de leyenda usando los valores propios\n",
    "- Poner límites en el eje Y para que sea simétrica\n",
    "- Guardar la figura en algún formato (PDF, PNG, etc.)\n",
    "\n"
   ]
  },
  {
   "cell_type": "code",
   "execution_count": 1,
   "metadata": {},
   "outputs": [],
   "source": [
    "# plot_lines.py\n",
    "# Ejemplo de varias formas de graficar arreglos\n",
    "#\n",
    "\n",
    "import numpy as np\n",
    "import matplotlib.pyplot as plt\n",
    "import scipy.signal as signal\n",
    "\n",
    "N = 100\n",
    "x = np.linspace(0,N-1,N)\n",
    "dpss, v = signal.windows.dpss(100, 4.0, 5, return_ratios=True)\n",
    "dpss = dpss.T\n",
    "\n"
   ]
  },
  {
   "cell_type": "code",
   "execution_count": 2,
   "metadata": {},
   "outputs": [
    {
     "data": {
      "image/png": "[encoded data removed]",
      "text/plain": [
       "<Figure size 504x432 with 1 Axes>"
      ]
     },
     "metadata": {
      "needs_background": "light"
     },
     "output_type": "display_data"
    }
   ],
   "source": [
    "# mejora la gráfica\n",
    "#\n",
    "fig = plt.figure(figsize=(7,6))\n",
    "ax  = fig.add_subplot(111)\n"
   ]
  },
  {
   "cell_type": "markdown",
   "metadata": {},
   "source": [
    "### Explicación\n",
    "Como se discutió arriba, Python es un lenguaje basado en objetos. Asi mismo, las figuras se deben pensar como objetos. \n",
    "Si uno sólo quiere hacer una figura rápidamente, puede simplemente digitar\n",
    "```\n",
    "plt.plot(x,y)\n",
    "```\n",
    "y se crearía la figura. Sin embargo, en nuestro caso se busca tener mayor control en los objetos de la figura. \n",
    "\n",
    "Primero se genera la figura, que representa el {\\it big-picture}, el cuadro completo.\n",
    "```\n",
    "fig = plt.figure()\n",
    "```\n",
    "Posteriormente se crea el {\\bf axes}, que hace parte de la figura `fig`, y simplemente representa un subplot que a su vez tiene ejes `x` y `y` con el tipo de gráfica, `label`, etc. En este `axes` es que controlamos los detalles del subplot, no en la figura `fig`. Se genera entonces con:\n",
    "```\n",
    "ax = fig.add_subplot(111)\n",
    "```\n",
    "donde los números reporesentan número de filas, columnas y número del subplot en esa matriz de subplots. \n",
    "\n",
    "Una forma alternativa de crear la figura y axes, es\n",
    "```\n",
    "fig, ax = plt.subplots(1,2)\n",
    "```\n",
    "donde se genera una figura `fig` y dos `axes`, en este caso `ax[0]` y `ax[1]', que están organizados en una fila y dos columnas. A mi personalmente me gusta hacerlo en dos pasos, pero es una decisión personal. \n",
    "\n"
   ]
  },
  {
   "cell_type": "code",
   "execution_count": 98,
   "metadata": {},
   "outputs": [
    {
     "data": {
      "image/png": "[encoded data removed]",
      "text/plain": [
       "<Figure size 576x432 with 2 Axes>"
      ]
     },
     "metadata": {
      "needs_background": "light"
     },
     "output_type": "display_data"
    }
   ],
   "source": [
    "fig, ax = plt.subplots(nrows=1,ncols=2,figsize=(8,6))"
   ]
  },
  {
   "cell_type": "markdown",
   "metadata": {},
   "source": [
    "\n",
    "\n",
    "Las líneas se pueden marcar como continuas, punteadas, etc. o reeemplazadas con símbolos. La primera línea \n",
    "```\n",
    "ax.plot(x,dpss[:,0],marker='^',linestyle=' ')\n",
    "```\n",
    "tiene tríangulos y no hay linea, mientras que la segunda\n",
    "```\n",
    "ax.plot(x,dpss[:,1],':')\n",
    "```\n",
    "es una linea punteada (no continua). Los colores en este caso son automáticamente seleccionados por Python que tiene una secuencia de colores especificada (azul, amarillo, verde, rojo, ...). Los formatos de las líneas y de los `markers` es muy variada y está por fuera del objetivo del curso. Una explicación más precisa se puede encontrar en la documentación de `matplotlib`. El espesor de la línea, el relleno de los símbolos, etc. se puede cambiar. \n",
    "\n",
    "También es importante resaltar que el comando `ax.plot(x,y)` genera la figura con escala lineal-lineal, aunque también se puede usar `semilogx` o `semilogy` o `loglog`, escala logarítmica con base 10. \n",
    "\n",
    "Se puede adicionar texto a cada eje, título de la figura, \n",
    "```\n",
    "ax.set_xlabel('tiempo')\n",
    "ax.set_ylabel('Amplitud')\n",
    "ax.set_title('Funciones Slepian y su concentración')\n",
    "```\n",
    "leyenda de los símbolos\n",
    "```\n",
    "ax.set_ylim((-0.22, 0.22))\n",
    "ax.legend()\n",
    "```\n",
    "poner límites de los ejes en la gráfica (en x o y)\n",
    "```\n",
    "ax.set_ylim((-0.22, 0.22))\n",
    "```\n",
    "y finalmente guardar la figura \n",
    "```\n",
    "plt.savefig(fname)\n",
    "```\n",
    "con un formato definido, que en este caso es un .pdf. Otros formatos incluyen `.ps`, `.eps`, `.png`, `.svg`, etc.\n",
    "\n",
    "En Notebooks no es necesario, pero si se quiere desplegar la figura corriendo el programa en Python, se debe pedir con\n",
    "```\n",
    "plt.show()\n",
    "```\n"
   ]
  },
  {
   "cell_type": "markdown",
   "metadata": {},
   "source": [
    "### Hazlo tu mismo\n",
    "\n",
    "El archivo `sopurce_error.dat` muestra los valores estimados y sus errores (5-95%) del momento sísmico ($M_0$), frecuencua de esquina ($f_c$) y caída del esfuerzo ($\\tau$) para una serie de terremotos (Prieto et al., 2007).\n",
    "\n",
    "Haga una figura con dos paneles, de $M0$ vs $f_c$ en un panel y $M_0$ vs $\\tau$, incluyendo sus barras de error.\n",
    "Tenga en cuenta lo siguiente\n",
    "- Los valores de confianza representan la longitud del error\n",
    "- Las gráficas deben estar en escala logarítmica en ambos ejes\n",
    "- Marque los ejes y ponga la grilla (grid).\n",
    "\n",
    "\n"
   ]
  },
  {
   "cell_type": "code",
   "execution_count": 3,
   "metadata": {
    "scrolled": true
   },
   "outputs": [
    {
     "data": {
      "image/png": "[encoded data removed]",
      "text/plain": [
       "<Figure size 576x432 with 2 Axes>"
      ]
     },
     "metadata": {
      "needs_background": "light"
     },
     "output_type": "display_data"
    }
   ],
   "source": [
    "# plot_errorbar.py\n",
    "# Dada una tabla con valores de parámetros de fuente sísmica (Prieto et al., 2007)\n",
    "# hacer una gráfica con barras de error. \n",
    "#\n",
    "import numpy as np\n",
    "import matplotlib.pyplot as plt\n",
    "\n",
    "# Cargar datos\n",
    "fname = \"data/source_error.dat\"\n",
    "data = np.loadtxt(fname,skiprows=1)\n",
    "M0       = data[:,2]\n",
    "M0_err   = data[:,3:5].T\n",
    "fc       = data[:,5]\n",
    "fc_err   = data[:,6:8].T\n",
    "tau      = data[:,8]\n",
    "tau_err  = data[:,9:11].T\n",
    "\n",
    "# La figura\n",
    "fig, (ax1, ax2) = plt.subplots(2, 1, figsize=(8,6))\n",
    "\n"
   ]
  },
  {
   "cell_type": "markdown",
   "metadata": {},
   "source": [
    "### Explicación\n",
    "Una vez cargados los datos, se genera la figura y sus `axes` en una sola columna y dos filas\n",
    "```\n",
    "fig, (ax1, ax2) = plt.subplots(2, 1, figsize=(8,6))\n",
    "```\n",
    "Python tiene un comando para generar figuras de *barras de error*. \n",
    "```\n",
    "ax1.errorbar(M0, fc,xerr=M0_err, yerr=fc_err,fmt='o')\n",
    "```\n",
    "en la cual se gráfica $M_0$ en el eje X y $f_c$ en el Y, con sus respectivas barras de error con `xerr` y `yerr`. Note que `errorbar` requiere la longitud de l abarra de error, no el límite máximo o mínimo. \n",
    "\n",
    "En el ejemplo, las barras de error son asimétricas, por lo que los arreglos `xerr` tienen dimensions `(2,N)` para describir la extensión de l abarra de error inferior y superior. Si la barra es simétrica `xerr` puede ser un arreglo `(N,)` y si todas las barras son de igual longitud para todos los puntos, `xerr` puede ser un número. Al usar `fmt='o'` se grafica las barras de error y el valor con un símbolo y no hay lineas que unan los puntos. \n",
    "\n",
    "En este caso, se solicita que la gráfica sea en escala logarítmica en ambos ejes\n",
    "```\n",
    "ax1.set_yscale('log')\n",
    "ax1.set_xscale('log')\n",
    "```\n",
    "y se puede agregar la grilla\n",
    "```\n",
    "ax1.grid(which='both')\n",
    "```\n",
    "Finalmente, para mejorar la presentación de la figura\n",
    "```\n",
    "ax1.xaxis.tick_top()\n",
    "ax1.xaxis.set_label_position(\"top\")\n",
    "```\n",
    "permite mover la descripción del eje a la parte superior (o al lado derecho con `ax1.xacis.tick_right`). \n",
    "\n",
    "\n",
    "\n"
   ]
  },
  {
   "cell_type": "markdown",
   "metadata": {},
   "source": [
    "### Hazlo tu mismo\n",
    "\n",
    "Finalmente un ejemplo para mostrar una distribución de una serie de datos, que muestra por ejemplo si los datos tienen una distribución normal (gaussiana) y de otro tipo. La Figura 7.3 muestra un histograma de los datos y una cruva de una distribución normal.\n",
    "El comando en este caso es hist(X,bins=25, normed=True) que muestra el histograma de los datos dividida en 25 bins para el rango de los datos. Se han removido los valores de los ejes.\n"
   ]
  },
  {
   "cell_type": "code",
   "execution_count": 4,
   "metadata": {},
   "outputs": [
    {
     "data": {
      "image/png": "[encoded data removed]",
      "text/plain": [
       "<Figure size 432x288 with 1 Axes>"
      ]
     },
     "metadata": {
      "needs_background": "light"
     },
     "output_type": "display_data"
    }
   ],
   "source": [
    "# plot_histogram.py\n",
    "# Un histograma de datos aleatorios\n",
    "#\n",
    "import matplotlib.pyplot as plt\n",
    "import numpy as np\n",
    "\n",
    "\n",
    "rd = np.random.RandomState()\n",
    "X = rd.randn(10000)\n",
    "x = np.linspace(-5, 5, 1000)\n",
    "y = 1 / np.sqrt(2*np.pi) * np.exp(-(x**2)/2)\n",
    "\n",
    "fig, ax = plt.subplots()\n"
   ]
  },
  {
   "cell_type": "markdown",
   "metadata": {},
   "source": [
    "## Graficas 2D/3D\n",
    "\n",
    "En Geociencias, muchas veces se toman datos en la superficie de la Tierra y se quieren mostrar en mapa o en sección cruzada o en figura 3D. Sin embargo, es importante tener en cuenta que las figuras en 3D muchas veces no son muy útiles para mostrar los datos. En los siguientes ejemplos muestro 3-4 formas de presentar unos datos `z` tomados en la posición `x` y `y` donde `z` puede representar por ejemplo altura, alguna anomalía geofísica, o geoquímica, etc. \n"
   ]
  },
  {
   "cell_type": "code",
   "execution_count": 101,
   "metadata": {},
   "outputs": [],
   "source": [
    "# define normalized 2D gaussian\n",
    "def gaus2d(x=0, y=0, mx=0, my=0, sx=1, sy=1):\n",
    "    import numpy as np\n",
    "    \n",
    "    gfun1 = 1. / (2. * np.pi * sx * sy) \n",
    "    gfun2 = np.exp(-((x - mx)**2. / (2. * sx**2.) + (y - my)**2. / (2. * sy**2.)))\n",
    "    gfun  = gfun1 * gfun2\n",
    "\n",
    "    return gfun\n"
   ]
  },
  {
   "cell_type": "code",
   "execution_count": 106,
   "metadata": {},
   "outputs": [],
   "source": [
    "# Create data\n",
    "\n",
    "N = 45\n",
    "x = np.linspace(-3,3,N)\n",
    "y = np.linspace(-2,2,N)\n",
    "x, y = np.meshgrid(x, y)\n",
    "z1 = gaus2d(x,y,1.0,1.0,0.1,0.2)\n",
    "z2 = gaus2d(x,y,0.0,0.0,0.4,0.4)\n",
    "z  = z1+0.25*z2\n",
    "\n",
    "np.savez('data/grid_matrix.npz',x=x,y=y,z=z)\n",
    "\n",
    "N = 45*45\n",
    "xrand = (np.random.rand(N)-0.5)*6\n",
    "yrand = (np.random.rand(N)-0.5)*4\n",
    "z1    = gaus2d(xrand,yrand,1.0,1.0,0.1,0.2)\n",
    "z2    = gaus2d(xrand,yrand,0.0,0.0,0.4,0.4)\n",
    "zrand = 1*z1+0.25*z2\n",
    "\n",
    "np.savez('data/rand_matrix.npz',x=xrand,y=yrand,z=zrand)"
   ]
  },
  {
   "cell_type": "code",
   "execution_count": 5,
   "metadata": {},
   "outputs": [
    {
     "data": {
      "image/png": "[encoded data removed]",
      "text/plain": [
       "<Figure size 576x576 with 2 Axes>"
      ]
     },
     "metadata": {
      "needs_background": "light"
     },
     "output_type": "display_data"
    }
   ],
   "source": [
    "# plot_scatter.py\n",
    "\n",
    "import matplotlib.colors as cm\n",
    "import matplotlib.pyplot as plt\n",
    "import numpy as np\n",
    "\n",
    "fdat = np.load(\"data/rand_matrix.npz\")\n",
    "x = fdat.f.x\n",
    "y = fdat.f.y\n",
    "z = fdat.f.z\n",
    "\n",
    "fig, (ax1, ax2) = plt.subplots(2, 1, figsize=(8,8))\n"
   ]
  },
  {
   "cell_type": "code",
   "execution_count": 6,
   "metadata": {},
   "outputs": [
    {
     "data": {
      "image/png": "[encoded data removed]",
      "text/plain": [
       "<Figure size 576x576 with 2 Axes>"
      ]
     },
     "metadata": {
      "needs_background": "light"
     },
     "output_type": "display_data"
    },
    {
     "data": {
      "text/plain": [
       "<Figure size 576x576 with 0 Axes>"
      ]
     },
     "metadata": {},
     "output_type": "display_data"
    }
   ],
   "source": [
    "# plot_contour.py\n",
    "\n",
    "from mpl_toolkits.mplot3d import Axes3D\n",
    "import matplotlib.colors as cm\n",
    "import matplotlib.pyplot as plt\n",
    "import numpy as np\n",
    "\n",
    "fdat = np.load(\"data/grid_matrix.npz\")\n",
    "x = fdat.f.x\n",
    "y = fdat.f.y\n",
    "z = fdat.f.z\n",
    "z = np.maximum(z,1e-10)\n",
    "\n",
    "fig, (ax1, ax2) = plt.subplots(2, 1, figsize=(8,8))\n",
    "\n",
    "fig = plt.figure(figsize=(8,8))\n"
   ]
  },
  {
   "cell_type": "code",
   "execution_count": null,
   "metadata": {},
   "outputs": [],
   "source": []
  }
 ],
 "metadata": {
  "kernelspec": {
   "display_name": "Python 3",
   "language": "python",
   "name": "python3"
  },
  "language_info": {
   "codemirror_mode": {
    "name": "ipython",
    "version": 3
   },
   "file_extension": ".py",
   "mimetype": "text/x-python",
   "name": "python",
   "nbconvert_exporter": "python",
   "pygments_lexer": "ipython3",
   "version": "3.7.8"
  }
 },
 "nbformat": 4,
 "nbformat_minor": 4
}
