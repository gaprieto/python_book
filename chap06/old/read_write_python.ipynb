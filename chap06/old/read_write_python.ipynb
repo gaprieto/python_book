{
 "cells": [
  {
   "cell_type": "markdown",
   "metadata": {},
   "source": [
    "# Lectura y Generación de Archivos\n",
    "\n",
    "Hasta ahora, todos los ejemplos en el curso han usado entradas del usuario (teclado) y salidas con resultados desplegados en la pantalla. \n",
    "\n",
    "Cuando se requiere analizar grandes cantidaddes de datos y guardar otros datos procesados, ya no es posible hacerlo sólo en la pantalla. \n"
   ]
  },
  {
   "cell_type": "code",
   "execution_count": 1,
   "metadata": {},
   "outputs": [
    {
     "name": "stdout",
     "output_type": "stream",
     "text": [
      "Line by line\n",
      "This is line one\n",
      "This is line 2\n",
      "This is line three\n",
      "This is the fourth line\n",
      "\n",
      "File as list\n",
      "['This is line one\\n', 'This is line 2\\n', 'This is line three\\n', 'This is the fourth line\\n']\n",
      "This is line 2\n",
      "\n",
      "Print entire file\n",
      "This is line one\n",
      "This is line 2\n",
      "This is line three\n",
      "This is the fourth line\n",
      "\n"
     ]
    }
   ],
   "source": [
    "# read_test.py\n",
    "# Simple read of a text file\n",
    "\n",
    "# Reading line by line\n",
    "print('Line by line')\n",
    "fname = 'test_file.dat'\n",
    "f = open(fname, 'r')\n",
    "for line in f:\n",
    "   print(line, end='')\n",
    "f.close()\n",
    "\n",
    "# reading file into list\n",
    "print('')\n",
    "print('File as list')\n",
    "f = open(fname, 'r')\n",
    "f_list = list(f)\n",
    "print(f_list)\n",
    "print(f_list[1])\n",
    "f.close()\n",
    "\n",
    "# Reading and printing all the file\n",
    "print('Print entire file')\n",
    "fname = 'test_file.dat'\n",
    "f = open(fname, 'r')\n",
    "text = f.read()\n",
    "print(text)\n"
   ]
  },
  {
   "cell_type": "markdown",
   "metadata": {},
   "source": [
    "El archivo tiene el siguiente formato\n",
    "\n",
    "``\n",
    "This is line one\n",
    "This is line 2\n",
    "This is line three\n",
    "This is the fourth line\n",
    "``\n"
   ]
  },
  {
   "cell_type": "markdown",
   "metadata": {},
   "source": [
    "# I/O de datos en Python\n",
    "\n",
    "El objetivo es poder leer y guardar `tablas` de datos en filas y columnas, con valores numéricos. "
   ]
  },
  {
   "cell_type": "code",
   "execution_count": 4,
   "metadata": {},
   "outputs": [
    {
     "name": "stdout",
     "output_type": "stream",
     "text": [
      "[[ 0.0000000e+00  1.0000000e+00  0.0000000e+00]\n",
      " [ 1.0000000e+00  9.9984770e-01  1.7452406e-02]\n",
      " [ 2.0000000e+00  9.9939083e-01  3.4899497e-02]\n",
      " ...\n",
      " [ 7.1800000e+02  9.9939083e-01 -3.4899497e-02]\n",
      " [ 7.1900000e+02  9.9984770e-01 -1.7452406e-02]\n",
      " [ 7.2000000e+02  1.0000000e+00 -4.8985872e-16]]\n"
     ]
    }
   ],
   "source": [
    "# read_data.py\n",
    "# Read a simple data file with numerical values\n",
    "\n",
    "import numpy as np\n",
    "import matplotlib.pyplot as plt\n",
    "\n",
    "# Assign filename: file\n",
    "file = 'some_data.dat'\n",
    "\n",
    "# Import file: data\n",
    "data = np.loadtxt(file)#, dtype='float')\n",
    "\n",
    "print(data)\n",
    "\n",
    "\n"
   ]
  },
  {
   "cell_type": "markdown",
   "metadata": {},
   "source": [
    "Las tablas de datos son difíciles de __leer__ simplemente mirando los números. Vamos a graficar los datos (aunque esto viene en el próximo capítulo. "
   ]
  },
  {
   "cell_type": "code",
   "execution_count": 5,
   "metadata": {},
   "outputs": [
    {
     "data": {
      "image/png": "[encoded data removed]",
      "text/plain": [
       "<Figure size 432x288 with 1 Axes>"
      ]
     },
     "metadata": {
      "needs_background": "light"
     },
     "output_type": "display_data"
    }
   ],
   "source": [
    "# Plot results\n",
    "plt.scatter(data[:, 0], data[:, 1])\n",
    "plt.scatter(data[:, 0], data[:, 2])\n",
    "plt.xlabel('Columna1')\n",
    "plt.ylabel('Columnas 2, 3') \n",
    "plt.savefig('chap5_fig1.png') \n",
    "plt.show()"
   ]
  },
  {
   "cell_type": "markdown",
   "metadata": {},
   "source": [
    "El comando `np.loadtxt` tiene una gran variedad de opciones para leer los\n",
    "archivos (digite help(`np.loadtxt`) en Python para ver la documentación). El\n",
    "formato general de la función tiene muchas opciones, acá sólo muestro algunas\n",
    "de ellas\n",
    "\n",
    "``\n",
    "loadtxt(fname, dtype=’float’, comments=’#’,\n",
    "delimiter=’,’, skiprows=1, usecols=[0,2])\n",
    "``\n",
    "\n",
    "donde se le ordena a `loadtxt` leer los datos como floats, lineas con comentarios\n",
    "se marcan como `#` y no son leídas, las columnas están separadas por comas\n",
    "(típico de archivos .csv), se salta una línea que puede ser el encabezado y sólo\n",
    "se leen la primera y tercera columna. Note que todos los comandos (a excepción\n",
    "del nombre del archivo son opcionales) y Python asume algunos valores. Por\n",
    "ejemplo, las columnas por defecto están separadas por espacios, y los valores se\n",
    "asumen como float.\n"
   ]
  },
  {
   "cell_type": "code",
   "execution_count": 6,
   "metadata": {},
   "outputs": [
    {
     "data": {
      "image/png": "[encoded data removed]",
      "text/plain": [
       "<Figure size 432x288 with 1 Axes>"
      ]
     },
     "metadata": {
      "needs_background": "light"
     },
     "output_type": "display_data"
    }
   ],
   "source": [
    "# read_data2.py\n",
    "# Read a simple data file with numerical values\n",
    "# and a header\n",
    "\n",
    "import numpy as np\n",
    "import matplotlib.pyplot as plt\n",
    "\n",
    "# Assign filename: file\n",
    "file = 'some_data_header.dat'\n",
    "\n",
    "# Import file: data\n",
    "data = np.loadtxt(file, skiprows=1)\n",
    "\n",
    "# Plot results\n",
    "plt.scatter(data[:, 0], data[:, 2]/data[:,1])\n",
    "plt.ylim(-75, 75)\n",
    "plt.ylabel('Columna 3/Columna 2')\n",
    "plt.xlabel('Columna 1')\n",
    "plt.show()"
   ]
  },
  {
   "cell_type": "markdown",
   "metadata": {},
   "source": [
    "# Archivos más complejos\n",
    "\n",
    "Existen archivos más complejos que requieren de mayor trabajo para leerlos.\n",
    "Un ejemplo es un archivo que contiene los nombres de estaciones sismológicas\n",
    "de la red nacional de Colombia y su latitud, longitud y elevación. El archivo\n",
    "tiene el siguiente formato\n",
    "\n",
    "``\n",
    "APAC           7.9     -76.58       195\n",
    "ARGC           9.585   -74.246      117.9\n",
    "BBAC           2.022   -77.247      1716\n",
    "BAR2           6.592   -73.184      1783\n",
    "BRR            7.107   -73.712       104\n",
    "BET            2.723   -75.418    5583.3\n",
    "``\n",
    "\n",
    "donde las diferentes columnas están separadas por espacios (el número de espacios\n",
    "puede variar). `Numpy` tiene una función que en principio puede leer este\n",
    "tipo de archivos np.genfromtxt(), pero a mi personalmente no me gustó como\n",
    "se comportaba con diferentes archivos.\n",
    "\n",
    "Python tiene un paquete (que debe ser instalado en su equipo) conocido\n",
    "como `Pandas`. Este paquete tiene la capacidad de leer archivos planos, mixtos\n",
    "(caracteres y números) e incluso archivos de Excel y Matlab. Abajo, un ejemplo\n",
    "de cómo leer el archivo anterior:"
   ]
  },
  {
   "cell_type": "code",
   "execution_count": 9,
   "metadata": {},
   "outputs": [
    {
     "ename": "KeyError",
     "evalue": "'PROJ_LIB'",
     "output_type": "error",
     "traceback": [
      "\u001b[0;31m---------------------------------------------------------------------------\u001b[0m",
      "\u001b[0;31mKeyError\u001b[0m                                  Traceback (most recent call last)",
      "\u001b[0;32m<ipython-input-9-ac3f4c5df841>\u001b[0m in \u001b[0;36m<module>\u001b[0;34m()\u001b[0m\n\u001b[1;32m      6\u001b[0m \u001b[0;32mimport\u001b[0m \u001b[0mmatplotlib\u001b[0m\u001b[0;34m.\u001b[0m\u001b[0mpyplot\u001b[0m \u001b[0;32mas\u001b[0m \u001b[0mplt\u001b[0m\u001b[0;34m\u001b[0m\u001b[0m\n\u001b[1;32m      7\u001b[0m \u001b[0;32mimport\u001b[0m \u001b[0mpandas\u001b[0m \u001b[0;32mas\u001b[0m \u001b[0mpd\u001b[0m\u001b[0;34m\u001b[0m\u001b[0m\n\u001b[0;32m----> 8\u001b[0;31m \u001b[0;32mfrom\u001b[0m \u001b[0mmpl_toolkits\u001b[0m\u001b[0;34m.\u001b[0m\u001b[0mbasemap\u001b[0m \u001b[0;32mimport\u001b[0m \u001b[0mBasemap\u001b[0m\u001b[0;34m\u001b[0m\u001b[0m\n\u001b[0m\u001b[1;32m      9\u001b[0m \u001b[0;34m\u001b[0m\u001b[0m\n\u001b[1;32m     10\u001b[0m \u001b[0mfname\u001b[0m \u001b[0;34m=\u001b[0m \u001b[0;34m'rsnc.dat'\u001b[0m\u001b[0;34m\u001b[0m\u001b[0m\n",
      "\u001b[0;32m/Applications/anaconda3/lib/python3.6/site-packages/mpl_toolkits/basemap/__init__.py\u001b[0m in \u001b[0;36m<module>\u001b[0;34m()\u001b[0m\n\u001b[1;32m    144\u001b[0m \u001b[0;34m\u001b[0m\u001b[0m\n\u001b[1;32m    145\u001b[0m \u001b[0;31m# create dictionary that maps epsg codes to Basemap kwargs.\u001b[0m\u001b[0;34m\u001b[0m\u001b[0;34m\u001b[0m\u001b[0m\n\u001b[0;32m--> 146\u001b[0;31m \u001b[0mpyproj_datadir\u001b[0m \u001b[0;34m=\u001b[0m \u001b[0mos\u001b[0m\u001b[0;34m.\u001b[0m\u001b[0menviron\u001b[0m\u001b[0;34m[\u001b[0m\u001b[0;34m'PROJ_LIB'\u001b[0m\u001b[0;34m]\u001b[0m\u001b[0;34m\u001b[0m\u001b[0m\n\u001b[0m\u001b[1;32m    147\u001b[0m \u001b[0mepsgf\u001b[0m \u001b[0;34m=\u001b[0m \u001b[0mopen\u001b[0m\u001b[0;34m(\u001b[0m\u001b[0mos\u001b[0m\u001b[0;34m.\u001b[0m\u001b[0mpath\u001b[0m\u001b[0;34m.\u001b[0m\u001b[0mjoin\u001b[0m\u001b[0;34m(\u001b[0m\u001b[0mpyproj_datadir\u001b[0m\u001b[0;34m,\u001b[0m\u001b[0;34m'epsg'\u001b[0m\u001b[0;34m)\u001b[0m\u001b[0;34m)\u001b[0m\u001b[0;34m\u001b[0m\u001b[0m\n\u001b[1;32m    148\u001b[0m \u001b[0mepsg_dict\u001b[0m\u001b[0;34m=\u001b[0m\u001b[0;34m{\u001b[0m\u001b[0;34m}\u001b[0m\u001b[0;34m\u001b[0m\u001b[0m\n",
      "\u001b[0;32m/Applications/anaconda3/lib/python3.6/os.py\u001b[0m in \u001b[0;36m__getitem__\u001b[0;34m(self, key)\u001b[0m\n\u001b[1;32m    667\u001b[0m         \u001b[0;32mexcept\u001b[0m \u001b[0mKeyError\u001b[0m\u001b[0;34m:\u001b[0m\u001b[0;34m\u001b[0m\u001b[0m\n\u001b[1;32m    668\u001b[0m             \u001b[0;31m# raise KeyError with the original key value\u001b[0m\u001b[0;34m\u001b[0m\u001b[0;34m\u001b[0m\u001b[0m\n\u001b[0;32m--> 669\u001b[0;31m             \u001b[0;32mraise\u001b[0m \u001b[0mKeyError\u001b[0m\u001b[0;34m(\u001b[0m\u001b[0mkey\u001b[0m\u001b[0;34m)\u001b[0m \u001b[0;32mfrom\u001b[0m \u001b[0;32mNone\u001b[0m\u001b[0;34m\u001b[0m\u001b[0m\n\u001b[0m\u001b[1;32m    670\u001b[0m         \u001b[0;32mreturn\u001b[0m \u001b[0mself\u001b[0m\u001b[0;34m.\u001b[0m\u001b[0mdecodevalue\u001b[0m\u001b[0;34m(\u001b[0m\u001b[0mvalue\u001b[0m\u001b[0;34m)\u001b[0m\u001b[0;34m\u001b[0m\u001b[0m\n\u001b[1;32m    671\u001b[0m \u001b[0;34m\u001b[0m\u001b[0m\n",
      "\u001b[0;31mKeyError\u001b[0m: 'PROJ_LIB'"
     ]
    }
   ],
   "source": [
    "# read_stations.py\n",
    "# Read seismic station info from the RSNC\n",
    "# File is Tab delimited\n",
    "\n",
    "import numpy as np\n",
    "import matplotlib.pyplot as plt\n",
    "import pandas as pd\n",
    "from mpl_toolkits.basemap import Basemap\n",
    "\n",
    "fname = 'rsnc.dat'\n",
    "data = pd.read_csv(fname, delim_whitespace=True, header=None)\n",
    "\n",
    "sta = np.array(data[0])\n",
    "lat = np.array(data[1])\n",
    "lon = np.array(data[2])\n",
    "ele = np.array(data[3])\n",
    "print(sta)\n",
    "print(lat)\n",
    "\n",
    "# Plot results\n",
    "map = Basemap(projection='merc', lat_0 = 4, lon_0 = -72,\n",
    "    resolution = 'h', area_thresh = 0.1,\n",
    "    llcrnrlon=-85, llcrnrlat=-2,\n",
    "    urcrnrlon=-65, urcrnrlat=15)\n",
    "map.drawcoastlines()\n",
    "map.drawcountries()\n",
    "map.fillcontinents(color = 'gray')\n",
    "map.drawmapboundary()\n",
    "x,y = map(lon, lat)\n",
    "map.plot(x, y, 'b^', markersize=5)\n",
    "plt.show()\n"
   ]
  },
  {
   "cell_type": "code",
   "execution_count": null,
   "metadata": {},
   "outputs": [],
   "source": []
  }
 ],
 "metadata": {
  "kernelspec": {
   "display_name": "Python 3",
   "language": "python",
   "name": "python3"
  },
  "language_info": {
   "codemirror_mode": {
    "name": "ipython",
    "version": 3
   },
   "file_extension": ".py",
   "mimetype": "text/x-python",
   "name": "python",
   "nbconvert_exporter": "python",
   "pygments_lexer": "ipython3",
   "version": "3.6.6"
  }
 },
 "nbformat": 4,
 "nbformat_minor": 2
}
