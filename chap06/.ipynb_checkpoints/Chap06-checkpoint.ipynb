{
 "cells": [
  {
   "cell_type": "markdown",
   "metadata": {},
   "source": [
    "# Capítulo 6\n",
    "## Lectura y generación de archivos"
   ]
  },
  {
   "cell_type": "markdown",
   "metadata": {},
   "source": [
    "Hasta ahora, todos los ejemplos en el curso usan entradas del usuario con el teclado y como salida se imprime en pantalla el resultado. Esto es útil para trabajos pequeños, pero cuando se quiere analizar grandes cantidades de datos, es importante poder importarlos a Python. Estos datos pueden estar en tablas de Excel, de Matlab, o en archivos de texto (ascii) o pueden provenir de un equipo de campo o laboratorio. En este capítulo se busca entender como abrir, leer y escribir series de datos. Python tiene paquetes para leer datos de varias fuentes incluyendo Excel, matlab y otros, pero para el objetivo del curso, sólo nos concentraremos en leer archivos de texto plano (ascii). Note que tanto Matlab como excel pueden exportar los datos en dicho formato. "
   ]
  },
  {
   "cell_type": "markdown",
   "metadata": {},
   "source": [
    "### Hazlo tu mismo\n",
    "\n",
    "Abajo un programa simple de cómo Python lee archivos de texto de manera rápida. \n"
   ]
  },
  {
   "cell_type": "code",
   "execution_count": 97,
   "metadata": {},
   "outputs": [
    {
     "name": "stdout",
     "output_type": "stream",
     "text": [
      "Lectura de archivo: linea por linea\n",
      "La primera linea\n",
      "La 2da linea\n",
      "Es la tercera\n",
      "Cuarta linea\n",
      "\n",
      "Lectura de archivo: en una lista\n",
      "['La primera linea\\n', 'La 2da linea\\n', 'Es la tercera\\n', 'Cuarta linea\\n']\n",
      "La 2da linea\n",
      "\n",
      "Lectura de archivo: en una variable\n",
      "La primera linea\n",
      "La 2da linea\n",
      "Es la tercera\n",
      "Cuarta linea\n",
      "\n"
     ]
    }
   ],
   "source": [
    "# read_test.py\n",
    "# Lectura simple de un archivo de texto\n",
    "#\n",
    "\n",
    "# linea por linea\n",
    "print('Lectura de archivo: linea por linea')\n",
    "fname = 'data/test_file.dat'\n",
    "f = open(fname, 'r')\n",
    "for line in f:\n",
    "   print(line, end='')\n",
    "f.close()\n",
    "\n",
    "# poner en una lista\n",
    "print('')\n",
    "print('Lectura de archivo: en una lista')\n",
    "f = open(fname, 'r')\n",
    "f_list = list(f)\n",
    "print(f_list)\n",
    "print(f_list[1])\n",
    "f.close()\n",
    "\n",
    "# lectura completa\n",
    "print('Lectura de archivo: en una variable')\n",
    "f = open(fname, 'r')\n",
    "text = f.read()\n",
    "print(text)\n"
   ]
  },
  {
   "cell_type": "markdown",
   "metadata": {},
   "source": [
    "El archivo 'test_file.dat' tiene las siguientes lineas\n",
    "```\n",
    "La primera linea\n",
    "La 2da linea\n",
    "Es la tercera\n",
    "Cuarta linea\n",
    "```"
   ]
  },
  {
   "cell_type": "markdown",
   "metadata": {},
   "source": [
    "### Explicación\n",
    "El ejemplo anterior muestra varias de las funciones necesarias para leer archivos. Primero, se debe abrir `open` el archivo\n",
    "```\n",
    "f = open(fname, 'r')\n",
    "```\n",
    "al cual se le pone un nombre de variable `f`. `fname` proporciona el nombre del archivo que se quiere abrir, y `\"r\"` le dice a Python que este archivo es sólo de lectura (`read`). Se pueden usar modos de lectura como '\"w\"' para escribir un archivo (si el archivo existe, será sobre escrito), '\"a\"' adiciona al archivo al final, y '\"r+\"' abre el archivo para leer y escribir. Para archivos binarios se usa '\"b\"'. El modo de lectura es opcional, si no se utiliza, Python asume \"'r'\". \n",
    "\n",
    "La primera forma de leer el archivo, se hace de manera secuencial (linea por linea) con \n",
    "```\n",
    "for line in f:\n",
    "   print(line, end='')\n",
    "```\n",
    "y se imprime cada linea. Python lee el archivo linea por linea hasta llegar a la última linea y se detiene el `for` loop.\n",
    "\n",
    "En el segundo tipo de lectura del archivo, se lee el archivo completo y cada linea se pone en un elemento de una lista. \n",
    "```\n",
    "f_list = list(f)\n",
    "```\n",
    "Finalmente está la forma de leer el archivo completo e imprimirlo con el comando\n",
    "```\n",
    "text = f.read()\n",
    "print(text)\n",
    "```\n"
   ]
  },
  {
   "cell_type": "markdown",
   "metadata": {},
   "source": [
    "## I/O de datos en Python\n",
    "\n",
    "Para el estudio de datos en geociencias, es necesario poder leer (y guardar) archivos en formato plano (*flat file*).  En general, esto implica una tabla con datos en filas y columnas, con valores numéricos. En algunos casos, el archivo tiene un encabezado o *header* que no tiene valores numéricos, sino texto explicando que significa cada columna. \n",
    "\n",
    "Para archivos en otros formatos, por ejemplo datos binarios como `segy`, `mseed` o cualquier otro formato propio de cada subcampo de las geociencias, es necesario utilizar herramientas adicionales o saber exactamente el formato para poder leerlo. **Esto no será estudiado en este curso**. \n"
   ]
  },
  {
   "cell_type": "markdown",
   "metadata": {},
   "source": [
    "### Hagalo Ud mismo\n",
    "\n",
    "El archivo `some_data.dat` tiene una serie de datos organizados así\n",
    "```\n",
    "  0.00  1.000  1.000\n",
    "  0.20  0.990  0.977\n",
    "  0.40  0.960  0.910\n",
    "  0.61  0.910  0.804\n",
    "...\n",
    " 19.60  0.180 -0.139\n",
    " 19.80  0.177 -0.118\n",
    " 20.00  0.167 -0.086\n",
    "```\n",
    "\n",
    "Usando el siguiente modelo, lea el archivo y grafique los resultados. \n",
    "\n",
    "**Nota**: Aún no sabemos graficar en Python, el próximo capítulo la haremos. Por ahora, simplemente siga el programa. En muchos casos, para *ver* los datos, las gráficas son la mejor opción.\n"
   ]
  },
  {
   "cell_type": "code",
   "execution_count": 1,
   "metadata": {},
   "outputs": [
    {
     "name": "stdout",
     "output_type": "stream",
     "text": [
      "<class 'numpy.ndarray'>\n",
      "(100, 3)\n"
     ]
    },
    {
     "data": {
      "image/png": "[encoded data removed]",
      "text/plain": [
       "<Figure size 432x288 with 1 Axes>"
      ]
     },
     "metadata": {
      "needs_background": "light"
     },
     "output_type": "display_data"
    }
   ],
   "source": [
    "# read_data.py\n",
    "# Leer un archivo plano con datos numéricos en columnas. \n",
    "#\n",
    "\n",
    "import numpy as np\n",
    "import matplotlib.pyplot as plt\n",
    "\n",
    "# nombre del archivo\n",
    "fname = 'data/some_data.dat'\n",
    "#fname = '/Users/gprieto/Desktop/some_data.dat'\n",
    "\n",
    "\"\"\"Cargue el archivo con Numpy\"\"\" \n",
    "data = np.loadtxt(fname)\n",
    "print(type(data))\n",
    "print(np.shape(data))\n",
    "\n",
    "# Figura de columnas 1 vs 2, 1, vs 3\n",
    "plt.scatter(data[:, 0], data[:, 1])\n",
    "plt.scatter(data[:, 0], data[:, 2])\n",
    "plt.savefig('../figs/chap06_fig1.pdf',bbox_inches='tight', pad_inches=0)\n",
    "plt.show()\n"
   ]
  },
  {
   "cell_type": "markdown",
   "metadata": {},
   "source": [
    "### Explicación\n",
    "\n",
    "**Por ahora, olvide la parte relacionada con la generación de la figura.**\n",
    "\n",
    "Para leer el archivo, simplemente se tiene que solicitar a `numpy` que lo lea\n",
    "```\n",
    "data = np.loadtxt(fname)\n",
    "```\n",
    "Note que a diferencia del caso anterior, no abrimos el archivo, `loadtxt` lo hace internamente y no tenemos que preocuparnos por eso. Además lo cierra también. \n",
    "\n",
    "Una vez leído, la variable `data` es un arreglo de numpy con 721 filas y 3 columnas. Numpy automáticamente asigna el tamaño de `data` sin necesidad de que Ud sepa cuantos datos hay. \n",
    "\n",
    "**Precaución**. Numpy asume que el archivo está organizado en columnas, separadas por espacios y que todas las columnas estan ocupadas con valores numéricos, tienen la misma longitud y no tienen valores vacíos.  "
   ]
  },
  {
   "cell_type": "code",
   "execution_count": 99,
   "metadata": {},
   "outputs": [
    {
     "name": "stdout",
     "output_type": "stream",
     "text": [
      "<class 'numpy.ndarray'>\n",
      "(721, 3)\n"
     ]
    }
   ],
   "source": [
    "print(type(data))\n",
    "print(np.shape(data))"
   ]
  },
  {
   "cell_type": "markdown",
   "metadata": {},
   "source": [
    "El comando `np.loadtxt` tiene una gran variedad de opciones para leer los archivos (digite `help(np.loadtxt`) en Python para ver la documentación). El formato general de la función tiene muchas opciones, acá sólo muestro algunas de ellas\n",
    "```\n",
    "loadtxt(fname, dtype='float', comments='#', \n",
    "        delimiter=',', skiprows=1, usecols=[0,2])\n",
    "```\n",
    "donde se le ordena a `loadtxt` leer los datos como `float`, lineas con comentarios se marcan como `#` y no son leídas, las columnas están separadas por comas (típico de archivos `.csv`), se salta una línea que puede ser el encabezado y sólo se leen la primera y tercera columna. Note que todos los comandos (a excepción del nombre del archivo son opcionales) y Python asume algunos valores. Por ejemplo, las columnas por defecto están separadas por espacios, y los valores se asumen como `float`. \n"
   ]
  },
  {
   "cell_type": "markdown",
   "metadata": {},
   "source": [
    "### Hazlo tu mismo\n",
    "\n",
    "El archivo `some_data_header.dat` tiene una serie de datos organizados así\n",
    "```\n",
    "#   theta       cos       sin\n",
    " 0.00e+00  1.02e+00 -1.88e-02\n",
    " 1.00e+00  9.95e-01  2.84e-03\n",
    " 2.00e+00  9.88e-01  5.13e-02\n",
    "...\n",
    " 7.20e+02  9.87e-01 -2.48e-03\n",
    "```\n",
    "\n",
    "Lea el archivo y grafique los resultados, pero esta vez grafique la tercera columna dividida por la primera.  \n"
   ]
  },
  {
   "cell_type": "code",
   "execution_count": 100,
   "metadata": {},
   "outputs": [
    {
     "data": {
      "image/png": "[encoded data removed]",
      "text/plain": [
       "<Figure size 432x288 with 1 Axes>"
      ]
     },
     "metadata": {
      "needs_background": "light"
     },
     "output_type": "display_data"
    }
   ],
   "source": [
    "# read_data2.py\n",
    "# Leer un archivo plano con datos numéricos en columnas. \n",
    "#\n",
    "import numpy as np\n",
    "import matplotlib.pyplot as plt\n",
    "\n",
    "# nombre del archivo\n",
    "fname = 'data/some_data_header.dat'\n",
    "\n",
    "# Import file: data\n",
    "data = np.loadtxt(fname, skiprows=1)\n",
    "\n",
    "# Figura\n",
    "plt.scatter(data[:, 0], data[:, 2]/data[:,1])\n",
    "plt.ylim([-30, 30])\n",
    "plt.savefig('../figs/chap06_fig2.pdf',bbox_inches='tight', pad_inches=0)\n",
    "plt.show()\n"
   ]
  },
  {
   "cell_type": "markdown",
   "metadata": {},
   "source": [
    "Existen archivos más complejos que requieren de mayor trabajo para leerlos. Un ejemplo es un archivo que contiene los nombres de estaciones sismológicas de la red nacional de Colombia y su latitud, longitud y elevación. El archivo tiene el siguiente formato\n",
    "```\n",
    "APAC           7.9     -76.58       195\n",
    "ARGC           9.585   -74.246      117.9\n",
    "BBAC           2.022   -77.247      1716\n",
    "...\n",
    "```\n",
    "donde las diferentes columnas están separadas por espacios (el número de espacios puede variar). En general, simplemente leerlo con `npo.loadtxt` genera un error, porque la primera columan no es numérica, que es lo que espera la función. `Numpy` tiene una función que en principio puede leer este tipo de archivos `np.genfromtxt()`, pero a mi personalmente no me gustó como se comportaba con diferentes archivos. \n",
    "\n",
    "Python tiene un paquete conocido como `Pandas`. Este paquete tiene la capacidad de leer archivos planos, mixtos (caracteres y números) e incluso archivos de Excel y Matlab. \n",
    "\n",
    "Un ejemplo de cómo leer el archivo. "
   ]
  },
  {
   "cell_type": "code",
   "execution_count": 7,
   "metadata": {},
   "outputs": [
    {
     "name": "stdout",
     "output_type": "stream",
     "text": [
      "Estructura de Pandas\n",
      "<class 'pandas.core.frame.DataFrame'>\n",
      "       0       1       2       3\n",
      "0   APAC   7.900 -76.580   195.0\n",
      "1   ARGC   9.585 -74.246   117.9\n",
      "2   BBAC   2.022 -77.247  1716.0\n",
      "3   BAR2   6.592 -73.184  1783.0\n",
      "4    BRR   7.107 -73.712   104.0\n",
      "..   ...     ...     ...     ...\n",
      "63   URI  11.702 -71.993    97.0\n",
      "64   VIL   4.111 -73.693  1110.0\n",
      "65  YPLC   5.397 -72.380   696.0\n",
      "66   YOT   3.983 -76.345  1059.0\n",
      "67   ZAR   7.492 -74.858   200.0\n",
      "\n",
      "[68 rows x 4 columns]\n",
      "\n",
      "['APAC' 'ARGC' 'BBAC' 'BAR2' 'BRR' 'BET' 'CAP2' 'CAQC' 'CRJC' 'TABC' 'CHI'\n",
      " 'CBOC' 'CRU' 'CVER' 'CUM' 'DBB' 'FLO2' 'FOM' 'GARC' 'GUA' 'GUY2C' 'GR1C'\n",
      " 'MAP' 'JAMC' 'MACC' 'RGSC' 'CLEJA' 'LCBC' 'MAL' 'NOR' 'OCA' 'OCNC' 'ORTC'\n",
      " 'PAM' 'PIZC' 'POP2' 'PRA' 'PRV' 'PGA1' 'PGA3' 'PGA4' 'PGA5' 'PGA6' 'PTB'\n",
      " 'PTGC' 'PTLC' 'PTA' 'QUET' 'RUS' 'SJC' 'URE' 'PAL' 'SML1C' 'SPBC' 'HEL'\n",
      " 'SMAR' 'SBTC' 'SMORC' 'SOL' 'TAM' 'TOL' 'TUM' 'TVCAC' 'URI' 'VIL' 'YPLC'\n",
      " 'YOT' 'ZAR']\n",
      "[ 7.9    9.585  2.022  6.592  7.107  2.723  8.646  4.402 11.02   5.011\n",
      "  4.63   5.865  1.568  4.521  0.941  7.017  1.583  4.475  2.187  2.542\n",
      "  5.226  3.003  4.004  3.279  2.145  4.368  3.536  8.857  4.01   5.564\n",
      "  8.239  8.24   3.909  7.34   4.965  2.54   3.714 13.376  3.746  3.898\n",
      "  3.868  3.946  3.775  6.54   4.199  0.171  7.142  4.381  5.893  9.897\n",
      "  7.752  4.906  8.863  5.652  6.191 11.164  4.477  4.575  6.224  6.435\n",
      "  4.585  1.824  4.718 11.702  4.111  5.397  3.983  7.492]\n",
      "[-76.58  -74.246 -77.247 -73.184 -73.712 -75.418 -77.359 -73.986 -72.882\n",
      " -74.204 -73.732 -76.012 -76.952 -74.074 -77.825 -76.21  -75.653 -73.859\n",
      " -75.494 -72.624 -75.383 -78.167 -81.607 -76.674 -73.848 -74.186 -74.041\n",
      " -76.368 -77.332 -74.869 -73.32  -73.319 -75.246 -72.7   -77.36  -76.676\n",
      " -74.886 -81.363 -71.572 -71.566 -71.418 -71.315 -71.332 -74.456 -72.134\n",
      " -74.797 -77.809 -73.883 -73.083 -75.18  -75.533 -76.283 -73.992 -74.072\n",
      " -75.529 -74.225 -74.287 -74.17  -77.405 -71.791 -75.32  -78.727 -74.085\n",
      " -71.993 -73.693 -72.38  -76.345 -74.858]\n"
     ]
    }
   ],
   "source": [
    "# read_stations.py\n",
    "# Read seismic station info from the RSNC\n",
    "# File is Tab delimited\n",
    "\n",
    "import numpy as np\n",
    "import matplotlib.pyplot as plt\n",
    "import pandas as pd\n",
    "\n",
    "fname = 'data/rsnc.dat'\n",
    "data = pd.read_csv(fname, delim_whitespace=True, header=None)\n",
    "print('Estructura de Pandas')\n",
    "print(type(data))\n",
    "print(data)\n",
    "\n",
    "# Extraer columnas a numpy\n",
    "sta = data.iloc[:,0].to_numpy()\n",
    "lat = data.iloc[:,1].to_numpy()\n",
    "lon = np.array(data[2])\n",
    "ele = np.array(data[3])\n",
    "print('')\n",
    "print(sta)\n",
    "print(lat)\n",
    "print(lon)\n"
   ]
  },
  {
   "cell_type": "code",
   "execution_count": 9,
   "metadata": {},
   "outputs": [
    {
     "name": "stdout",
     "output_type": "stream",
     "text": [
      "<class 'numpy.ndarray'>\n"
     ]
    }
   ],
   "source": [
    "print(type(sta))"
   ]
  },
  {
   "cell_type": "markdown",
   "metadata": {},
   "source": [
    "donde se imprime la estructura de {\\tt Pandas}, y los arreglos de Numpy extraídos. "
   ]
  },
  {
   "cell_type": "code",
   "execution_count": 8,
   "metadata": {},
   "outputs": [
    {
     "data": {
      "image/png": "[encoded data removed]",
      "text/plain": [
       "<Figure size 432x288 with 1 Axes>"
      ]
     },
     "metadata": {
      "needs_background": "light"
     },
     "output_type": "display_data"
    }
   ],
   "source": [
    "# Mapa de los resultados\n",
    "import cartopy.crs as ccrs\n",
    "import matplotlib.pyplot as plt\n",
    "\n",
    "fig = plt.figure()\n",
    "ax  = fig.add_subplot(1,1,1,projection=ccrs.PlateCarree())\n",
    "ax.set_extent([-90, -60, -5, 15])\n",
    "ax.stock_img()\n",
    "ax.coastlines()\n",
    "ax.plot(lon,lat,'k^')\n",
    "plt.savefig('../figs/chap06_fig3.pdf',bbox_inches='tight', pad_inches=0)"
   ]
  },
  {
   "cell_type": "markdown",
   "metadata": {},
   "source": [
    "### Explicación\n",
    "Note que el código anterior carga el paquete\n",
    "```\n",
    "import pandas as pd\n",
    "```\n",
    "y carga los datos con el comando\n",
    "```\n",
    "data = pd.read_csv(fname, delim_whitespace=True, header=None)\n",
    "```\n",
    "donde se le dice al código que no hay encabezado y que los separadores entre columnas están marcados por espacios libres (pueden ser tabs, comas, etc). Lo curioso de `Pandas` es que tiene su propio tipo de estructura (llamado  `DataFrame`) que son una especie de arreglos de matrices, pero que pueden tener diferentes tipos de elementos (str, int, float, etc). Note que el `dataframe` organiza los datos en columnas y filas numeradas.\n",
    "\n",
    "Para convertir alguna columna del dataframe `data`  a un arreglo, simplemente se utiliza la columna correspondiente. \n",
    "```\n",
    "sta = np.array(data[0])\n",
    "lat = np.array(data[1])\n",
    "```\n",
    "En este curso, trabajaremos con arreglos de Numpy, por lo que después de leer el archivo, convertimos las variables a arreglos. El mapa de las estaciones se muestra en la figura anterior (el código para hacer este tipo de mapas lo miraremos en el siguiente capítulo). \n",
    "\n"
   ]
  },
  {
   "cell_type": "markdown",
   "metadata": {},
   "source": [
    "## Guardar archivos\n",
    "En muchos casos, es importante poder leer archivos, pero también es importante poder guardar los resultados de un análisis, de procesamiento o resultados de simulaciones y cálculos, sin la necesidad de repetir el procesamiento cada vez que se quiera revisar los resultados. \n",
    "\n",
    "Aunque las gráficas son una forma de presentar resultados, no permiten mirar los datos brutos que siempre es bueno tenerlos para poder replicar trabajos de investigación.  \n"
   ]
  },
  {
   "cell_type": "markdown",
   "metadata": {},
   "source": [
    "### Hágalo Ud. mismo\n",
    "Escriba un programa que lea el archivo `another_data.dat`, que tiene dos columnas (con pares de números) y \n",
    "- Calcula el producto de los dos números\n",
    "- Guarda un nuevo archivo con los números originales, y su producto como 3ra columna. \n",
    "- El archivo de salida se puede llamar `test.dat`\n",
    "\n",
    "Tenga cuidado que esto puede borrar un archivo existente.\n"
   ]
  },
  {
   "cell_type": "markdown",
   "metadata": {},
   "source": [
    "Archivo de entrada\n",
    "```\n",
    "  3.6809  -1.6855\n",
    "  3.4113  -2.5989\n",
    "...\n",
    "  6.6905  -3.0042\n",
    "```\n"
   ]
  },
  {
   "cell_type": "code",
   "execution_count": 1,
   "metadata": {},
   "outputs": [],
   "source": [
    "# fileinout.py\n",
    "# Lea un archivo con pares de números\n",
    "# y guarde un archivo con el producto de los números\n",
    "#\n",
    "import numpy as np\n",
    "\n",
    "fin  = 'data/another_data.dat'\n",
    "fout = 'dout/test.dat'\n",
    "\n",
    "# Cargar los datos, dos arreglos x y y\n",
    "data = np.loadtxt(fin)\n",
    "x = data[:,0][:,None] \n",
    "y = data[:,1][:,None]\n",
    "\n",
    "# producto de los dos arreglos\n",
    "z = x*y\n",
    "\n",
    "# pegue arreglos en una sola matriz\n",
    "M = np.hstack((x,y,z))\n",
    "\n",
    "# Guarde un nuevo archivo, con formato\n",
    "np.savetxt(fout, M,fmt='%8.4f %8.4f %8.4f')\n",
    "#np.savetxt(fout, M,fmt=\"%15.10f\")"
   ]
  },
  {
   "cell_type": "code",
   "execution_count": 11,
   "metadata": {
    "scrolled": true
   },
   "outputs": [
    {
     "name": "stdout",
     "output_type": "stream",
     "text": [
      "Tamaño arreglos de entrada\n",
      "(21, 1) (21, 1)\n",
      "Tamaño arreglo producto X*Y\n",
      "(21, 1)\n",
      "Tamaño arreglo M\n",
      "(21, 3)\n"
     ]
    }
   ],
   "source": [
    "print('Tamaño arreglos de entrada')\n",
    "print(np.shape(x), np.shape(y))\n",
    "print('Tamaño arreglo producto X*Y')\n",
    "print(np.shape(z))\n",
    "print('Tamaño arreglo M')\n",
    "print(np.shape(M))"
   ]
  },
  {
   "cell_type": "markdown",
   "metadata": {},
   "source": [
    "Archivo de salida\n",
    "```\n",
    "  3.6809  -1.6855  -6.2042\n",
    "  3.4113  -2.5989  -8.8656\n",
    "...\n",
    "  6.6905  -3.0042 -20.0996\n",
    "```\n",
    "\n"
   ]
  },
  {
   "cell_type": "markdown",
   "metadata": {
    "scrolled": true
   },
   "source": [
    "### Explicación\n",
    "\n",
    "El archivo de entrada se abre con\n",
    "```\n",
    "data = np.loadtxt(fin)\n",
    "```\n",
    "donde `fin` es el nombre del archivo que se quiere abrir. Si el archivo no existe, Python generará un error. \n",
    "\n",
    "Los valores dentro del archivo son leídos con el comando\n",
    "```\n",
    "data = np.loadtxt(fin)\n",
    "x = data[:,0][:,None]\n",
    "y = data[:,1][:,None]\n",
    "```\n",
    "y las dos columnas son separadas en las variables `x` y `y`. En este ejemplo introduzco una notación nueva, donde `x[:,None]` lo que busca es generar un arreglo vertical (un vector) con tamaño `(21, 1)`. Si esto no se hace, el arreglo tendría la forma `(21,)` y no permitiría hacer operaciones matriciales. \n",
    "Es probable que esto se pueda lograr directamente con `np.loadtxt`, pero no he podido encontrar la forma de hacerlo. La función `loadtxt`, como se vio en la sección anterior, sabe que tan largo es el archivo. \n",
    "\n",
    "Posteriormente se hace la multiplicación de los dos arreglos en un nuevo arreglo `z=x*y`. Para facilitar guardar el nuevo archivo, se genera un arreglo 2D\n",
    "```\n",
    "M = np.hstack((x,y,z))\n",
    "```\n",
    "donde los tres arreglos 1D se juntan, pegándolos horizontalmente, es decir cada arreglo representa una columna. El resultado `data_out` tiene un tamaño `(21,3)`. \n",
    "\n",
    "Finalmente, esa nueva matriz `M` se guarda en el archivo\n",
    "```\n",
    "np.savetxt(fout, M,fmt='%5.2f %5.2f %5.2f')\n",
    "```\n",
    "con un formato específico. Note que el comando de formato `fmt` es opcional, y si no se usa, Python guarda los datos de la matriz en un formato predefinido. Una alternativa para definir el formato\n",
    "```\n",
    "np.savetxt(fout, M,fmt='%5.2f')\n",
    "```\n",
    "permite tener el mismo formato para todas las columnas. "
   ]
  },
  {
   "cell_type": "markdown",
   "metadata": {},
   "source": [
    "## I/O veloz en Python\n",
    "En computación, los cálculos y operaciones matemáticas están optimizadas dentro de los programas, por lo que en muchos casos el tiempo computacional se consume en procesos I/O, leer y guardar archivos. Para realizar los procesos I/O con mayor rapidez, en muchos casos es mejor guardar los archivos en formato binario, en vez de guardarlos como archivos de texto plano. \n",
    "\n"
   ]
  },
  {
   "cell_type": "markdown",
   "metadata": {},
   "source": [
    "### Hágalo Ud. mismo\n",
    "Suponga que Ud. tiene una matriz grande que quiere guardar. El siguiente programa muestra este ejemplo y el tiempo que tarda dicha operación y cuanto tarde en leerlo nuevamente. \n"
   ]
  },
  {
   "cell_type": "code",
   "execution_count": 12,
   "metadata": {},
   "outputs": [
    {
     "name": "stdout",
     "output_type": "stream",
     "text": [
      "Tiempo requerido para guardar\n",
      "Binary:  0.02620 segundos.\n",
      "Numpy:   0.02485 segundos.\n",
      "text:    0.84883 segundos.\n",
      "\n",
      "Tiempo requerido para cargar\n",
      "Binary:  0.00676 segundos.\n",
      "Numpy:   0.00579 segundos.\n",
      "text:    1.47704 segundos.\n"
     ]
    }
   ],
   "source": [
    "# testio.py\n",
    "# Guardar y cargar una matrix grande \n",
    "# formatos binarios y ascii\n",
    "#\n",
    "import numpy as np\n",
    "import time\n",
    "\n",
    "# tamaño de matriz\n",
    "m= 100000\n",
    "n= 10\n",
    "a = np.ones((m,n))*1.1\n",
    "\n",
    "# Guardar datos\n",
    "f1 = 'dout/fout_testio.bin'\n",
    "f2 = \"dout/fout_testio.npy\"\n",
    "f3 = \"dout/fout_testio.dat\"\n",
    "print('Tiempo requerido para guardar')\n",
    "\n",
    "# formato binario\n",
    "start = time.time()\n",
    "a.tofile(f1)\n",
    "print ('Binary: %8.5f segundos.' %(time.time()-start))\n",
    "\n",
    "# formato Numpy nativo (binario)\n",
    "start = time.time()\n",
    "np.save(f2, a)\n",
    "print ('Numpy:  %8.5f segundos.' %(time.time()-start))\n",
    "\n",
    "# formato plano de texto\n",
    "start = time.time()\n",
    "\n",
    "np.savetxt(f3, a)\n",
    "print ('text:   %8.5f segundos.' %(time.time()-start))\n",
    "\n",
    "# Cargar datos\n",
    "print('')\n",
    "print('Tiempo requerido para cargar')\n",
    "\n",
    "# formato binario\n",
    "start = time.time()\n",
    "b1 = np.fromfile(f1,dtype='float')\n",
    "b1 = b1.reshape(m,n)\n",
    "print ('Binary: %8.5f segundos.' %(time.time()-start))\n",
    "\n",
    "# formato Numpy nativo (binario)\n",
    "start = time.time()\n",
    "b2 = np.load(f2)\n",
    "print ('Numpy:  %8.5f segundos.' %(time.time()-start))\n",
    "\n",
    "# formato plano de texto\n",
    "start = time.time()\n",
    "b3 = np.loadtxt(f3)\n",
    "print ('text:   %8.5f segundos.' %(time.time()-start))\n"
   ]
  },
  {
   "cell_type": "markdown",
   "metadata": {},
   "source": [
    "Note como usando archivos de texto, la lectura puede ser muy demorada. El factor de velocidad es de 55 veces comparado binario a ascii. Los archivos además ocupan espacios de memoria muy distinta\n",
    "```\n",
    "7.6M  fout_testio.bin\n",
    "7.6M  fout_testio.npy\n",
    "24M   fout_testio.dat\n",
    "```\n",
    "Note que el archivo en el formato nativo de Python `.npy` ocupa el mismo espacio que un binario normal, pero el archivo binario no `sabe` que el archivo es una matriz, sino que guarda la matriz plana, sin tamaños predefinidos, y toca reorganizarla. \n"
   ]
  },
  {
   "cell_type": "markdown",
   "metadata": {},
   "source": [
    "En algunos casos, el usuario puede querer guardar varios arreglos en un sólo archivo, manteniendo la información de las dimensiones de los arreglos. Esto se puede hacer con el comando\n",
    "```\n",
    "np.savez(outfile, x, y)\n",
    "```\n",
    "donde se guardan los arreglos `x` y `y`, los cuales después se pueden cargar con\n",
    "```\n",
    "npzfile = np.load(outfile)\n",
    "```"
   ]
  },
  {
   "cell_type": "markdown",
   "metadata": {},
   "source": [
    "### Hágalo Ud. mismo\n",
    "Genere un programa donde se usen los comando de `numpy` para guardar un **único** archivo binario en formato {\\tt .npz}, y volver a cargarlo. \n",
    "\n",
    "Genere los siguientes arreglos\n",
    "```\n",
    "m= 100000\n",
    "n= 10\n",
    "a = np.ones((m,n))*1.1\n",
    "y = np.random.rand(n)\n",
    "x = np.random.rand(m)\n",
    "z = 1.5\n",
    "```\n"
   ]
  },
  {
   "cell_type": "code",
   "execution_count": 106,
   "metadata": {},
   "outputs": [
    {
     "name": "stdout",
     "output_type": "stream",
     "text": [
      "Variables guardadas\n",
      "Shape de a, x, y, size(z)\n",
      "(100000, 10) (100000,) (10,) 1\n",
      "\n",
      "Variables cargadas\n",
      "Shape de a, x, y, size(z)\n",
      "(100000, 10) (100000,) (10,) 1\n",
      "\n",
      "Variables cargadas 2\n",
      "['arr_0', 'arr_1', 'arr_2', 'arr_3', 'arr_4', 'arr_5']\n",
      "Shape de a, x, y, size(z)\n",
      "(100000, 10) (100000,) (10,) 1\n"
     ]
    }
   ],
   "source": [
    "# testio2.py\n",
    "# Guarde y cargue varios arreglos en un único archivo \n",
    "# en formato NPZ de Numpy\n",
    "#\n",
    "import numpy as np\n",
    "\n",
    "m= 100000\n",
    "n= 10\n",
    "a = np.ones((m,n))*1.1\n",
    "y = np.random.rand(n)\n",
    "x = np.random.rand(m)\n",
    "z = 1.5\n",
    "\n",
    "print('Variables guardadas')\n",
    "print('Shape de a, x, y, size(z)')\n",
    "print(np.shape(a),np.shape(x),np.shape(y),np.size(z))\n",
    "print('')\n",
    "\n",
    "# Guardar en formato npz numpy\n",
    "f1 = \"dout/fout_testio2b.npz\"\n",
    "f2 = \"dout/fout_testio2.npz\"\n",
    "\n",
    "np.savez(f1, a,x,y,m,n,z)\n",
    "np.savez(f2, a=a,x=x,y=y,m=m,n=n,z=z)\n",
    "\n",
    "# Cargar archivos, confirmar tamaños\n",
    "npfile = np.load(f2)\n",
    "n  = npfile.f.n\n",
    "m  = npfile.f.m\n",
    "x0 = npfile.f.x\n",
    "y0 = npfile.f.y\n",
    "a0 = npfile.f.a\n",
    "z0 = npfile.f.z\n",
    "print('Variables cargadas')\n",
    "print('Shape de a, x, y, size(z)')\n",
    "print(np.shape(a0),np.shape(x0),np.shape(y0),np.size(z0))\n",
    "print('')\n",
    "\n",
    "npfile2 = np.load(f1)\n",
    "n1  = npfile2.f.arr_3\n",
    "m1  = npfile2.f.arr_4\n",
    "x1  = npfile2.f.arr_1\n",
    "y1  = npfile2.f.arr_2\n",
    "a1  = npfile2.f.arr_0\n",
    "z1  = npfile2.f.arr_5\n",
    "print('Variables cargadas 2')\n",
    "print(npfile2.files)\n",
    "print('Shape de a, x, y, size(z)')\n",
    "print(np.shape(a1),np.shape(x1),np.shape(y1),np.size(z1))"
   ]
  },
  {
   "cell_type": "markdown",
   "metadata": {},
   "source": [
    "Es importante notar que se pueden guardar un número indefinido de arreglos o variables, en un formato eficiente (rápido) y con bajo consumo de memoria. Ambos archivos ocupan apenas 8.4Mb. La gran ventaja es que el programa puede guardar varios arreglos y al cargarlos, mantiene la información de cada arreglo (su tamaño y shape).\n",
    "\n",
    "Sin embargo, cuando el archivo es guardado con el comando\n",
    "```\n",
    "np.savez(\"fout_testio2b.npz\", a,x,y,m,n,z)\n",
    "```\n",
    "al cargarlo cada variable o vector recibe un nombre\n",
    "```\n",
    "['arr_1', 'arr_0', 'arr_3', 'arr_2', 'arr_4']\n",
    "```\n",
    "de acuerdo al orden en que fueron guardados (`a, x, y, m, n, z`). En este caso, la dificultad es que uno debe saber el orden en el que fue guardada cada variable.\n",
    "\n",
    "Una buena idea es guardar las variables con un nombre que pueda ser recordado al cargar el archivo nuevamente, asi:\n",
    "```\n",
    "np.savez(\"fout_testio2.npz\", a=a,x=x,y=y,m=m,n=n)\n",
    "```\n",
    "y cada arreglo se puede cargar\n",
    "```\n",
    "m  = npzfile.f.m\n",
    "x  = npzfile.f.x\n",
    "```\n"
   ]
  },
  {
   "cell_type": "markdown",
   "metadata": {},
   "source": [
    "## Archivos ASCII vs Binarios\n",
    "\n",
    "Como se ve en este capítulo, hay un *tradeoff* (compensación o sacrificio) entre trabajar con archivos ascii o binarios. Los archivos `ascii` son más fáciles de trabajar, se pueden cargar en Excel o matlab con facilidad e incluso se puede abrir el archivo y mirar los datos. Es el método sugerido cuando el tamaño del archivo o velocidad de los cálculos no son un problema. \n",
    "\n",
    "Sin embargo, para bases de datos muy grandes y procesamiento de datos pesados, es mejor usar formatos binarios por que permite transferencia I/O rápido y ocupando menos memoria en el computador (un problema cada vez menos importante supongo). De hecho Excel muchas veces se vara cuando tiene que procesar bases de datos *no tan* grandes. Adicionalmente, en el formato binario, no se tiene que decidir de antemano el formato (y la precisión que se quiere guardar los números; cuantos decimales quiero guardar?). Los archivos binarios son menos portátiles (pasarlos de un mac a un windows puede causar problemas) y se requiere conocer en muchos casos el formato del archivo para poder leerlo. \n"
   ]
  }
 ],
 "metadata": {
  "kernelspec": {
   "display_name": "Python 3",
   "language": "python",
   "name": "python3"
  },
  "language_info": {
   "codemirror_mode": {
    "name": "ipython",
    "version": 3
   },
   "file_extension": ".py",
   "mimetype": "text/x-python",
   "name": "python",
   "nbconvert_exporter": "python",
   "pygments_lexer": "ipython3",
   "version": "3.7.8"
  }
 },
 "nbformat": 4,
 "nbformat_minor": 4
}
