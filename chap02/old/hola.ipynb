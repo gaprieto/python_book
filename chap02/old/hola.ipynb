{
 "cells": [
  {
   "cell_type": "markdown",
   "metadata": {},
   "source": [
    "# Mi primer programa de Python"
   ]
  },
  {
   "cell_type": "code",
   "execution_count": 1,
   "metadata": {},
   "outputs": [
    {
     "name": "stdout",
     "output_type": "stream",
     "text": [
      "Hola Mundo!\n"
     ]
    }
   ],
   "source": [
    "print(\"Hola Mundo!\")"
   ]
  },
  {
   "cell_type": "markdown",
   "metadata": {},
   "source": [
    "# Mi primer programa de Python con comentarios\n",
    "### Note que la segunda línea es una línea en blanco. \n",
    "### Python no tiene en cuenta estas líneas. Se puede poner tantas lineas en blanco como se quiera. \n",
    "### Lineas o espacios permiten en muchos casos hacer que el código sea más fácil de leer. "
   ]
  },
  {
   "cell_type": "code",
   "execution_count": 3,
   "metadata": {
    "scrolled": true
   },
   "outputs": [
    {
     "name": "stdout",
     "output_type": "stream",
     "text": [
      "Hola Mundo!\n"
     ]
    }
   ],
   "source": [
    "# esto puede ser un comentario, no es ejecutado por Python\n",
    "\n",
    "print(\"Hola Mundo!\")    # imprimir texto"
   ]
  },
  {
   "cell_type": "markdown",
   "metadata": {},
   "source": [
    "# Mi primer programa de Python, con 1 variable\n",
    "### Python permite asignar a una variable (x) una serie de caracteres."
   ]
  },
  {
   "cell_type": "code",
   "execution_count": 13,
   "metadata": {},
   "outputs": [
    {
     "name": "stdout",
     "output_type": "stream",
     "text": [
      "Hola Mundo!\n"
     ]
    }
   ],
   "source": [
    "# hola3.py\n",
    "# Otras alternativas para el programa\n",
    "\n",
    "x = \"Hola Mundo!\"\n",
    "print(x)"
   ]
  },
  {
   "cell_type": "markdown",
   "metadata": {},
   "source": [
    "# Mi primer programa de Python, con variables\n",
    "### En este ejemplo, realizamos una operación para \"pegar\" variables con caracteres. "
   ]
  },
  {
   "cell_type": "code",
   "execution_count": 15,
   "metadata": {},
   "outputs": [
    {
     "name": "stdout",
     "output_type": "stream",
     "text": [
      "Hola Mundo!\n"
     ]
    }
   ],
   "source": [
    "# hola4.py\n",
    "# Otras alternativas para el programa\n",
    "\n",
    "x = \"Hola\"\n",
    "y = \"Mundo!\"\n",
    "print(x+\" \"+y)"
   ]
  }
 ],
 "metadata": {
  "kernelspec": {
   "display_name": "Python 3",
   "language": "python",
   "name": "python3"
  },
  "language_info": {
   "codemirror_mode": {
    "name": "ipython",
    "version": 3
   },
   "file_extension": ".py",
   "mimetype": "text/x-python",
   "name": "python",
   "nbconvert_exporter": "python",
   "pygments_lexer": "ipython3",
   "version": "3.6.4"
  }
 },
 "nbformat": 4,
 "nbformat_minor": 2
}
