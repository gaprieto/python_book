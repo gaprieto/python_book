{
 "cells": [
  {
   "cell_type": "markdown",
   "metadata": {},
   "source": [
    "# Multiplicación de dos números enteros\n",
    "#### El programa usa tres variables, las letras a,b,c.\n",
    "#### Las variables pueden tener nombres largos, pero no pueden tener espacios. \n",
    "#### Si quiere, puede unir palabras con \"_\", pero preferiblemente no use el signo menos \"-\", o puntos \".\"."
   ]
  },
  {
   "cell_type": "code",
   "execution_count": 1,
   "metadata": {},
   "outputs": [
    {
     "name": "stdout",
     "output_type": "stream",
     "text": [
      "Producto =  6\n"
     ]
    }
   ],
   "source": [
    "# multint.py\n",
    "# Codigo simple para multiplicar dos números enteeros. \n",
    "\n",
    "a = 2\n",
    "b = 3\n",
    "c = a*b\n",
    "\n",
    "print(\"Producto = \", c)"
   ]
  },
  {
   "cell_type": "markdown",
   "metadata": {},
   "source": [
    "#### A diferencia de C o Fortran, Python define de manera automática si un número es entero o real. El usuario si lo desea puede definir la variable como entero"
   ]
  },
  {
   "cell_type": "code",
   "execution_count": 2,
   "metadata": {},
   "outputs": [
    {
     "name": "stdout",
     "output_type": "stream",
     "text": [
      "Producto =  6\n"
     ]
    }
   ],
   "source": [
    "# multint.py\n",
    "# Codigo simple para multiplicar dos números enteeros. \n",
    "\n",
    "a = int(2)\n",
    "b = int(3)\n",
    "c = a*b\n",
    "\n",
    "print(\"Producto = \", c)"
   ]
  },
  {
   "cell_type": "markdown",
   "metadata": {},
   "source": [
    "##### El simbolo * indica multiplicación, como en la mayoría de lenguajes de programación. Adición es +, resta es -, y división es /. \n",
    "##### En Python, para el elevar un número\"a\" a la \"b\" potencia, se escribe a**b. Las dos variables pueden ser reales.   "
   ]
  },
  {
   "cell_type": "code",
   "execution_count": 4,
   "metadata": {},
   "outputs": [
    {
     "name": "stdout",
     "output_type": "stream",
     "text": [
      "2 elevado a la  3  =  8\n"
     ]
    }
   ],
   "source": [
    "# int_elev.py\n",
    "# Codigo simple para elevar un número entero a la b potencia. \n",
    "\n",
    "a = 2\n",
    "b = 3\n",
    "c = a**b\n",
    "\n",
    "print(a, \"elevado a la \",b,\" = \", c)"
   ]
  }
 ],
 "metadata": {
  "kernelspec": {
   "display_name": "Python 3",
   "language": "python",
   "name": "python3"
  },
  "language_info": {
   "codemirror_mode": {
    "name": "ipython",
    "version": 3
   },
   "file_extension": ".py",
   "mimetype": "text/x-python",
   "name": "python",
   "nbconvert_exporter": "python",
   "pygments_lexer": "ipython3",
   "version": "3.7.6"
  }
 },
 "nbformat": 4,
 "nbformat_minor": 2
}
