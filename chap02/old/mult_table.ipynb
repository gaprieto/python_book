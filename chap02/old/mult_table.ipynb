{
 "cells": [
  {
   "cell_type": "code",
   "execution_count": 24,
   "metadata": {},
   "outputs": [
    {
     "name": "stdout",
     "output_type": "stream",
     "text": [
      "Table of  1\n",
      "[ 1  2  3  4  5  6  7  8  9 10]\n",
      "Table of  2\n",
      "[ 2  4  6  8 10 12 14 16 18 20]\n",
      "Table of  3\n",
      "[ 3  6  9 12 15 18 21 24 27 30]\n",
      "Table of  4\n",
      "[ 4  8 12 16 20 24 28 32 36 40]\n",
      "Table of  5\n",
      "[ 5 10 15 20 25 30 35 40 45 50]\n",
      "Table of  6\n",
      "[ 6 12 18 24 30 36 42 48 54 60]\n",
      "Table of  7\n",
      "[ 7 14 21 28 35 42 49 56 63 70]\n",
      "Table of  8\n",
      "[ 8 16 24 32 40 48 56 64 72 80]\n",
      "Table of  9\n",
      "[ 9 18 27 36 45 54 63 72 81 90]\n"
     ]
    }
   ],
   "source": [
    "# mult_table\n",
    "# Genere una tabla de multiplicar para los números del 1 al 9\n",
    "\n",
    "import numpy as np\n",
    "\n",
    "i = np.arange(9)+1\n",
    "j = np.arange(10)+1\n",
    "\n",
    "#np.set_printoptions(precision=3)\n",
    "for val1 in i:\n",
    "    val2 = val1*j\n",
    "    print (\"Table of \", val1)\n",
    "    print(val2)\n",
    "   "
   ]
  }
 ],
 "metadata": {
  "kernelspec": {
   "display_name": "Python 3",
   "language": "python",
   "name": "python3"
  },
  "language_info": {
   "codemirror_mode": {
    "name": "ipython",
    "version": 3
   },
   "file_extension": ".py",
   "mimetype": "text/x-python",
   "name": "python",
   "nbconvert_exporter": "python",
   "pygments_lexer": "ipython3",
   "version": "3.7.6"
  }
 },
 "nbformat": 4,
 "nbformat_minor": 2
}
