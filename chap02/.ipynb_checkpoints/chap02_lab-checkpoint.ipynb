{
 "cells": [
  {
   "cell_type": "markdown",
   "metadata": {},
   "source": [
    "# Capítulo 2\n",
    "## Primeros pasos con Python"
   ]
  },
  {
   "cell_type": "markdown",
   "metadata": {},
   "source": [
    "## Mi primer programa de Python\n",
    "\n",
    "El primer programa que escribiremos en Python es, el clásico, `hola mundo!`.\n",
    "\n",
    "En este ejercicio, si está usando Jupyter Notebooks, simplemente se puede correr el código \n",
    "en una de las celdas (cells) abajo y simplemente ejecutarlo. Si Ud. quiere crear un script en Python, requiere de un editor de texto plano (vi, jed, xemacs, gedit. . . elija su favorito). El archivo creado debe tener la exstensión\n",
    "`.py` y lo podemos llamar `hola.py`. \n",
    "\n",
    "Mi primer programa contiene las siguientes lineas:"
   ]
  },
  {
   "cell_type": "code",
   "execution_count": 1,
   "metadata": {},
   "outputs": [
    {
     "name": "stdout",
     "output_type": "stream",
     "text": [
      "Hola Mundo!\n"
     ]
    }
   ],
   "source": [
    "print(\"Hola Mundo!\")"
   ]
  },
  {
   "cell_type": "markdown",
   "metadata": {},
   "source": [
    "Una segunda versión de este programa puede ser más informativo"
   ]
  },
  {
   "cell_type": "code",
   "execution_count": null,
   "metadata": {},
   "outputs": [],
   "source": []
  },
  {
   "cell_type": "markdown",
   "metadata": {},
   "source": [
    "### Observaciones\n",
    "\n",
    "El código `hola.py` tiene varias características\n",
    "- El resultado es idéntico a la versión más sencilla.\n",
    "- Las dos primeras líneas comienzan con el símbolo #\n",
    "- Hay una linea que se encuentra vacía. \n"
   ]
  },
  {
   "cell_type": "markdown",
   "metadata": {},
   "source": [
    "### Explicación\n",
    "Las primeras dos lineas del código es un comentario. Cualquier texto después de\n",
    "un símbolo # es un comentario y Python no lo tiene en cuenta. Al terminar la\n",
    "linea termina el comentario. No hay necesidad de terminar el comentario con\n",
    "otro símbolo (aunque en otros lenguajes esto si es necesario). También es posible\n",
    "hacer comentarios dentro de una línea.\n",
    "\n",
    "La tercera linea es una linea en blanco. Python no tiene en cuenta estas\n",
    "lineas, y se puede poner tantas lineas en blanco como se quiera, ya que serán\n",
    "descartadas por Python. El uso de lineas en blanco permite hacer el código mas\n",
    "fácil de leer, y permite escribir el código en bloques pequeños y separados.\n",
    "\n",
    "La siguiente linea si es interpretada por el programa. El comando `print`\n",
    "ordena que en la terminal se imprima el texto que está dentro del paréntesis.\n",
    "Para lineas de texto, deben ir entre comillas o comillas dobles."
   ]
  },
  {
   "cell_type": "markdown",
   "metadata": {},
   "source": [
    "#### Hazlo tu mismo\n",
    "\n",
    "Cree una versión de `hola.py` con comentarios, explicando que hace el comando `print`."
   ]
  },
  {
   "cell_type": "code",
   "execution_count": null,
   "metadata": {
    "scrolled": true
   },
   "outputs": [],
   "source": []
  },
  {
   "cell_type": "markdown",
   "metadata": {},
   "source": [
    "## Alternativas para mi primer programa\n",
    "\n",
    "Python (y otros languajes de programación) pueden asignarle a una variable (`x`, `y` o `var`) una serie de caracteres. \n"
   ]
  },
  {
   "cell_type": "code",
   "execution_count": 2,
   "metadata": {},
   "outputs": [
    {
     "ename": "NameError",
     "evalue": "name 'x' is not defined",
     "output_type": "error",
     "traceback": [
      "\u001b[0;31m---------------------------------------------------------------------------\u001b[0m",
      "\u001b[0;31mNameError\u001b[0m                                 Traceback (most recent call last)",
      "\u001b[0;32m<ipython-input-2-9fb3dba82894>\u001b[0m in \u001b[0;36m<module>\u001b[0;34m\u001b[0m\n\u001b[1;32m      4\u001b[0m \u001b[0;31m# Asignar variable x\u001b[0m\u001b[0;34m\u001b[0m\u001b[0;34m\u001b[0m\u001b[0;34m\u001b[0m\u001b[0m\n\u001b[1;32m      5\u001b[0m \u001b[0;34m\u001b[0m\u001b[0m\n\u001b[0;32m----> 6\u001b[0;31m \u001b[0mprint\u001b[0m\u001b[0;34m(\u001b[0m\u001b[0mx\u001b[0m\u001b[0;34m)\u001b[0m\u001b[0;34m\u001b[0m\u001b[0;34m\u001b[0m\u001b[0m\n\u001b[0m",
      "\u001b[0;31mNameError\u001b[0m: name 'x' is not defined"
     ]
    }
   ],
   "source": [
    "# hola3.py\n",
    "# Otras alternativas para el programa\n",
    "\n",
    "# Asignar variable x\n",
    "\n",
    "print(x)"
   ]
  },
  {
   "cell_type": "markdown",
   "metadata": {},
   "source": [
    "#### Hazlo tu mismo\n",
    "\n",
    "Asigna el contenido del texto que quiere imprimir a dos o más variables. En Python se puede concatenar (*pegar*) las variables con una suma (`+`)."
   ]
  },
  {
   "cell_type": "code",
   "execution_count": 14,
   "metadata": {},
   "outputs": [
    {
     "name": "stdout",
     "output_type": "stream",
     "text": [
      "Hola Mundo!\n"
     ]
    }
   ],
   "source": [
    "# hola4.py\n",
    "# Otras alternativas para el programa\n",
    "# Asignar tres variables (x,y,z), pegarlas para el mismo resultado.\n",
    "\n",
    "x = \"Hola\"\n",
    "y = \"Mundo\"\n",
    "z = \"!\"\n",
    "print(x+\" \"+y+z)"
   ]
  },
  {
   "cell_type": "markdown",
   "metadata": {},
   "source": [
    "### Observaciones\n",
    "\n",
    "Note que en este último ejemplo, realizamos una operación para pegar variables\n",
    "con caracteres. Con el fin de separar las palabras en las variables `x` y `y`, se pone\n",
    "un espacio. El resultado de estos dos programas es idéntico al primero."
   ]
  },
  {
   "cell_type": "markdown",
   "metadata": {},
   "source": []
  },
  {
   "cell_type": "markdown",
   "metadata": {},
   "source": [
    "## Multiplicación de dos números enteros\n",
    "\n",
    "A continuación, queremos realizar operaciones matemáticas en Python, que es algo común en la investigación científica. \n",
    "\n"
   ]
  },
  {
   "cell_type": "markdown",
   "metadata": {},
   "source": [
    "#### Hazlo tu mismo\n",
    "\n",
    "Multiplicar dos números enteros (`2` y `3`). \n"
   ]
  },
  {
   "cell_type": "code",
   "execution_count": 23,
   "metadata": {},
   "outputs": [
    {
     "name": "stdout",
     "output_type": "stream",
     "text": [
      "2 x 3  =  6\n"
     ]
    }
   ],
   "source": [
    "# multint.py\n",
    "# Código para multiplicar dos números enteros\n",
    "\n"
   ]
  },
  {
   "cell_type": "markdown",
   "metadata": {},
   "source": [
    "### Explicación\n",
    "\n",
    "El programa usa tres variables, las letras `a`, `b` y `c`. Las variables pueden tener\n",
    "nombres largos, pero no pueden tener espacios. Si quiere unir palabras use `_`.\n",
    "El primer caracter de una variable debe ser una letra, el resto puede ser una\n",
    "combinación de letras, números y `_`. No se recomienda usar puntos o símbolos\n",
    "de menos (`-`), ya que esto significa resta para Python. El resultado del programa anterior da como resultado `6`, como es de esperarse. \n",
    "\n",
    "### Observaciones\n",
    "A diferencia de Fortran o C, Python define de manera automática si un número es entero o real, aunque si el usuario así lo prefiere, puede definir la variable como entero:\n",
    "\n",
    "`a = int(2)`\n",
    "\n",
    "`b = int(3)`\n",
    "\n",
    "Cuando esto sucede, Python asume entonces que `c` será un número entero. Aparentemente\n",
    "en Python existía un problema cuando se dividían dos números enteros y la respuesta era un real, no un entero. En versiones recientes de Python (3.4 o mayor) ese problema no se presenta.\n",
    "\n",
    "\n"
   ]
  },
  {
   "cell_type": "code",
   "execution_count": 39,
   "metadata": {},
   "outputs": [
    {
     "data": {
      "text/plain": [
       "0.625"
      ]
     },
     "execution_count": 39,
     "metadata": {},
     "output_type": "execute_result"
    }
   ],
   "source": [
    "a/b\n"
   ]
  },
  {
   "cell_type": "code",
   "execution_count": 40,
   "metadata": {},
   "outputs": [
    {
     "data": {
      "text/plain": [
       "0.625"
      ]
     },
     "execution_count": 40,
     "metadata": {},
     "output_type": "execute_result"
    }
   ],
   "source": [
    "a/b"
   ]
  },
  {
   "cell_type": "markdown",
   "metadata": {},
   "source": [
    "El símbolo `*` indica multiplicación casi como en la mayoría de lenguajes de programación. Adición es `+`, resta es `-` y división es `/`. En Python, para elevar un número `a` a la `b` potencia, se escribe `a**b`, y las dos variables pueden ser reales."
   ]
  },
  {
   "cell_type": "markdown",
   "metadata": {},
   "source": [
    "#### Hazlo tu mismo\n",
    "\n",
    "Eleve un número entero (`a=2.01`) a la `b=3.2` potencia.\n",
    "$$\n",
    "c = a^b\n",
    "$$"
   ]
  },
  {
   "cell_type": "code",
   "execution_count": 41,
   "metadata": {},
   "outputs": [
    {
     "name": "stdout",
     "output_type": "stream",
     "text": [
      "2.01 elevado a la  3.2  =  9.337430530829119\n"
     ]
    }
   ],
   "source": [
    "# int_elev.py\n",
    "# Codigo simple para elevar un número entero a la b potencia. \n",
    "\n",
    "a = 2.01\n",
    "b = 3.2\n"
   ]
  },
  {
   "cell_type": "markdown",
   "metadata": {},
   "source": [
    "## Una tabla trigonométrica con `for` loops\n",
    "\n",
    "Cualquier lenguaje de programación debe permitir realizar una serie de operaciones\n",
    "de manera repetida. Esto significa permitir realizar un **loop** para una\n",
    "serie de valores de una variable. En Fortran se hace con un `do` loop, en C o matlab, esto se lleva a cabo con un `for` loop, en . Python usa `for`. "
   ]
  },
  {
   "cell_type": "markdown",
   "metadata": {},
   "source": [
    "#### Ejemplo. \n",
    "\n",
    "Genere la tabla del 7 (7x0, 7x1, 7x2, ...)"
   ]
  },
  {
   "cell_type": "code",
   "execution_count": 3,
   "metadata": {},
   "outputs": [],
   "source": [
    "# mult_table.py\n",
    "# Genere la tabla de multiplicar del 7. \n",
    "\n",
    "x = 7                          # la tabla del 7\n",
    "\n",
    "for y in range(10):            # loop 0, 1, 2, ..., 9\n",
    "    z = x*y\n",
    "    print(x,'x',y,' = ',z)\n",
    "    "
   ]
  },
  {
   "cell_type": "markdown",
   "metadata": {},
   "source": [
    "### Explicación\n",
    "\n",
    "El `for` loop es un comando que ejecuta una serie de comandos (que deben estar indentados). El número de veces o la forma como los ejecuta depende código\n",
    "\n",
    "`for y in range(10):`\n",
    "\n",
    "have que la variable `y` tome valores en un rango de `0` hasta `9`. Es decir repite la operación 10 veces, empezando en cero, hasta llegar al nueve. Porqué Python no incluye el 10? El comando `range` genera 10 números, pero Python (como C, C##) empiezan el contéo con el cero, es decir (0, 1, 2, ..., 9), para un total de 10 números. \n",
    "\n",
    "Como se puede ver, en el primer *loop*, `y=0`, en el segundo `y=1` y así sucesivamente. \n"
   ]
  },
  {
   "cell_type": "markdown",
   "metadata": {},
   "source": [
    "Una segunda opción de código\n"
   ]
  },
  {
   "cell_type": "code",
   "execution_count": 4,
   "metadata": {},
   "outputs": [],
   "source": [
    "# mult_table2.py\n",
    "# Genere la tabla de multiplicar del 7. \n",
    "# Ahora use numnpy\n",
    "\n",
    "import numpy as np\n",
    "\n",
    "x = 7                          # la tabla del 7\n",
    "i = np.arange(10)\n",
    "\n",
    "for y in i:            # loop 0, 1, 2, ..., 9\n",
    "    z = x*y\n",
    "    print(x,'x',y,' = ',z)"
   ]
  },
  {
   "cell_type": "markdown",
   "metadata": {},
   "source": [
    "### Explicación\n",
    "\n",
    "Como se puede observar, el resultado de esta segunda versión del código es la misma a la anterior, pero tiene más cosas. \n",
    "\n",
    "****NOTA IMPORTANTE**** \n",
    "\n",
    "Python tiene una larga lista de librerías\n",
    "(conocidas como *modules*, o *packages*) para realizar operaciones de todo tipo. Para poder\n",
    "utilizarlas en un programa, es necesario cargarlas. Esto se realiza con el comando\n",
    "`import`. En este caso, importamos el paquete NumPy.  \n",
    "\n",
    "`import numpy as np`\n",
    "\n",
    "NumPy tiene multiples funciones para realizar operaciones en variables, vectores, etc.\n",
    "Para usar una función dentro de NumPy, si debe llamar el paquete y la función. Para que esta operación no sea muy larga, le ponemos un\n",
    "nombre más corto `np`. Esto permite usar la función `arange` dentro de NumPy, y generar un vector\n",
    "\n",
    "`i = np.arange(10)`\n",
    "\n",
    "Este comando genera un arreglo (o un vector), con valores que van desde 0 hasta 9. Es algo muy similar a lo que hace `range(10)`, pero lo pone en un arreglo `i`\n"
   ]
  },
  {
   "cell_type": "code",
   "execution_count": 53,
   "metadata": {},
   "outputs": [
    {
     "data": {
      "text/plain": [
       "array([0, 1, 2, 3, 4, 5, 6, 7, 8, 9])"
      ]
     },
     "execution_count": 53,
     "metadata": {},
     "output_type": "execute_result"
    }
   ],
   "source": [
    "i"
   ]
  },
  {
   "cell_type": "markdown",
   "metadata": {},
   "source": [
    "Ahora el `for` loop es:\n",
    "\n",
    "`for y in i:`\n",
    "\n",
    "que lo que hace es que `y` tome el primer valor del arreglo, después el segundo y así sucesivamente.  \n"
   ]
  },
  {
   "cell_type": "markdown",
   "metadata": {},
   "source": [
    "### Observaciones\n",
    "\n",
    "#### La indentación es muy importante\n",
    "- No mezcle espacios y \"tabs\"\n",
    "- Python busca por un número de espacios exacto en la indentación\n",
    "- Aunque no se vea, un tab no es equivalente a ocho espacios para Python.\n",
    "- Notebooks generalmente hace la indentación por Ud, pero no se confie.\n",
    "\n",
    "#### Abrir y cerrar loops\n",
    "\n",
    "- La linea con el comando `for` debe terminar con dos puntos (`:`). \n",
    "- Todo lo que se quiere dentro del loop debe estar intentado. \n",
    "- Para terminar el loop, simplemente retire la indentación. \n",
    "- A diferencia de otros lenguajes, Python no tiene un `end` para el loop."
   ]
  },
  {
   "cell_type": "markdown",
   "metadata": {},
   "source": [
    "#### Hazlo tu mismo\n",
    "\n",
    "Genere una tabla trigonométrica, para ángulos de `ang=0,1, ..., 89` grados\n",
    "y resultados para\n",
    "\n",
    "`coseno(ang) seno(ang) tangente(ang)`\n",
    "\n",
    "****NOTA IMPORTANTE**** \n",
    "Tal como lo hacen C, Fortran o Matlab, el cálculo trigonométrico se hace\n",
    "en radianes (no grados) como argumento en las funciones trigonométricas. Por\n",
    "esto, es necesario convertir los ángulos en grados, a radianes \n",
    "\n",
    "`arad= ang*pi/180.` \n",
    "\n",
    "Y cómo sabe Python el valor de $\\pi$? \n",
    "\n",
    "El módulo `math`  el valor de $\\pi$ en la variable `math.pi`. Además\n",
    "tiene funciones para calcular coseno (math.cos), seno (math.sin), y tangente\n",
    "(math.tan) y mucho más. \n",
    "\n",
    "\n",
    "\n"
   ]
  },
  {
   "cell_type": "code",
   "execution_count": 5,
   "metadata": {},
   "outputs": [],
   "source": [
    "# trigtable.py\n",
    "# Genera una tabla trigonométrica simple. \n",
    "# Imprima los resultados para cos, sin, tan.\n",
    "#\n",
    "\n",
    "import math\n",
    "import numpy as np\n",
    "\n",
    "i = np.arange(90)\n",
    "\n",
    "\n"
   ]
  },
  {
   "cell_type": "markdown",
   "metadata": {},
   "source": [
    "Aunque el resultado es correcto, no es la forma más amable de presentar una tabla. "
   ]
  },
  {
   "cell_type": "code",
   "execution_count": null,
   "metadata": {},
   "outputs": [],
   "source": [
    "# trigtable2.py\n",
    "# Genera una tabla trigonométrica simple. \n",
    "# Imprima los resultados para cos, sin, tan.\n",
    "#    Ahora, imprima los resultados con mejor presentación\n",
    "#\n",
    "\n",
    "import math\n",
    "import numpy as np\n",
    "\n",
    "i = np.arange(90)\n",
    "\n",
    "for ang in i :\n",
    "    theta = float(ang/180.*math.pi)\n",
    "    ctheta = math.cos(theta)\n",
    "    stheta = math.sin(theta)\n",
    "    ttheta = math.tan(theta)\n",
    "    \n",
    "    # Desplegar resultados más amables\n"
   ]
  },
  {
   "cell_type": "markdown",
   "metadata": {},
   "source": [
    "### Explicación\n",
    "\n",
    "Dentro de cada `for` loop, se calculan los cosenos, senos y tangentes del\n",
    "ángulo theta, después de convertir el ángulo `ang` a radianes. Finalmente, en cada loop, se imprime a la terminal los resultados. **Note:** el comando `print` está indentado, hace parte de cada loop.\n",
    "\n",
    "> `print (\"%5.1f, %7.4f, %7.4f, %8.4f\"\n",
    "     % (theta,ctheta,stheta,ttheta))`\n",
    "    \n",
    "donde el comando `print` tiene un formato especificado por el usuario. En este\n",
    "caso `%5.1f` ordena que la variable `theta` se imprima como un número real con 5\n",
    "espacios en total, y 1 dígito a la derecha del punto decimal. Igualmente, el uso de\n",
    "`%7.4f` ordena que `ctheta` tenga 7 espacios y 4 números a la derecha del decimal.\n",
    "Las números están justificados a la derecha. \n",
    "\n",
    "Como Python no tiene en cuenta\n",
    "espacios o saltos de linea, la continuidad del comando dentro del paréntesis es\n",
    "automático. Es decir que el comando en el bloque de código arriba, es un sólo\n",
    "comando, a pesar de usar dos lineas.\n",
    "\n"
   ]
  },
  {
   "cell_type": "markdown",
   "metadata": {},
   "source": [
    "### Versiones alternativas"
   ]
  },
  {
   "cell_type": "code",
   "execution_count": 7,
   "metadata": {},
   "outputs": [],
   "source": [
    "# trigtable3.py\n",
    "# Genera una tabla trigonométrica simple. \n",
    "# Imprima los resultados para cos, sin, tan.\n",
    "#    Ahora, imprima los resultados con mejor presentación\n",
    "#    Defina el formato desde el comienzo\n",
    "#\n",
    "\n",
    "from math import *\n",
    "import numpy as np\n",
    "\n",
    "fmt = \" \"    # definir formato al comienzo\n",
    "\n",
    "i = np.arange(90)\n",
    "\n",
    "for ang in i :\n",
    "    theta = float(ang/180.*pi)\n",
    "    ctheta = cos(theta)\n",
    "    stheta = sin(theta)\n",
    "    ttheta = tan(theta)\n",
    "    \n"
   ]
  },
  {
   "cell_type": "markdown",
   "metadata": {},
   "source": [
    "### Explicación\n",
    "\n",
    "Se importan todas las funciones dentro del modulo `math` de tal forma\n",
    "que no hay necesidad de llamarlos con `math.cos`, sino directamente con `cos`. **Nota:** Aunque más corto de escribir, la persona que lee el código no sabe si `cos` viene del modulo `math` o de otra parte. En cuanto a *estilo* de programación, no es recomendable.\n",
    "\n",
    "\n",
    "Adicionalmente, uno puede definir una variable `fmt`, que tiene los caracteres\n",
    "que definen el formato de salida. Esto es útil cuando uno va a utilizar comandos\n",
    "`print` en múltiples ocasiones dentro de un programa. El modulo `math` tiene guardado\n",
    "el valor de $\\pi$ en la variable `pi`."
   ]
  },
  {
   "cell_type": "code",
   "execution_count": null,
   "metadata": {},
   "outputs": [],
   "source": []
  }
 ],
 "metadata": {
  "kernelspec": {
   "display_name": "Python 3",
   "language": "python",
   "name": "python3"
  },
  "language_info": {
   "codemirror_mode": {
    "name": "ipython",
    "version": 3
   },
   "file_extension": ".py",
   "mimetype": "text/x-python",
   "name": "python",
   "nbconvert_exporter": "python",
   "pygments_lexer": "ipython3",
   "version": "3.7.6"
  }
 },
 "nbformat": 4,
 "nbformat_minor": 2
}
