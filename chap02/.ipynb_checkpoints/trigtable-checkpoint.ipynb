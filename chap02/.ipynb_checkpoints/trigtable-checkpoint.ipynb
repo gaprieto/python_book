{
 "cells": [
  {
   "cell_type": "markdown",
   "metadata": {},
   "source": [
    "# Una tabla trigonométrica y \"for\" loops"
   ]
  },
  {
   "cell_type": "markdown",
   "metadata": {},
   "source": [
    "Cualquier lenguaje de programación debe permitir realizar una serie de operaciones de manera repetida. \n",
    "Esto quiere decir permite realizar un \"loop\" para una serie de valores de una variable. \n",
    "En C o Matlab, esto se lleva a cabo con un for loop, en Fortran es un do loop. En Python se usa el \"for\"."
   ]
  },
  {
   "cell_type": "markdown",
   "metadata": {},
   "source": [
    "## Indentación\n",
    "\n",
    "#### La indentación es muy importante\n",
    "- No mezcle espacios y \"tabs\"\n",
    "- Python busca por un número de espacios exacto en la indentación\n",
    "- Aunque no se vea, un tab no es equivalente a ocho espacios para Python. "
   ]
  },
  {
   "cell_type": "code",
   "execution_count": 2,
   "metadata": {},
   "outputs": [
    {
     "name": "stdout",
     "output_type": "stream",
     "text": [
      "  0.0,  1.0000,  0.0000,   0.0000\n",
      "  1.0,  0.9998,  0.0175,   0.0175\n",
      "  2.0,  0.9994,  0.0349,   0.0349\n",
      "  3.0,  0.9986,  0.0523,   0.0524\n",
      "  4.0,  0.9976,  0.0698,   0.0699\n",
      "  5.0,  0.9962,  0.0872,   0.0875\n",
      "  6.0,  0.9945,  0.1045,   0.1051\n",
      "  7.0,  0.9925,  0.1219,   0.1228\n",
      "  8.0,  0.9903,  0.1392,   0.1405\n",
      "  9.0,  0.9877,  0.1564,   0.1584\n",
      " 10.0,  0.9848,  0.1736,   0.1763\n",
      " 11.0,  0.9816,  0.1908,   0.1944\n",
      " 12.0,  0.9781,  0.2079,   0.2126\n",
      " 13.0,  0.9744,  0.2250,   0.2309\n",
      " 14.0,  0.9703,  0.2419,   0.2493\n",
      " 15.0,  0.9659,  0.2588,   0.2679\n",
      " 16.0,  0.9613,  0.2756,   0.2867\n",
      " 17.0,  0.9563,  0.2924,   0.3057\n",
      " 18.0,  0.9511,  0.3090,   0.3249\n",
      " 19.0,  0.9455,  0.3256,   0.3443\n",
      " 20.0,  0.9397,  0.3420,   0.3640\n",
      " 21.0,  0.9336,  0.3584,   0.3839\n",
      " 22.0,  0.9272,  0.3746,   0.4040\n",
      " 23.0,  0.9205,  0.3907,   0.4245\n",
      " 24.0,  0.9135,  0.4067,   0.4452\n",
      " 25.0,  0.9063,  0.4226,   0.4663\n",
      " 26.0,  0.8988,  0.4384,   0.4877\n",
      " 27.0,  0.8910,  0.4540,   0.5095\n",
      " 28.0,  0.8829,  0.4695,   0.5317\n",
      " 29.0,  0.8746,  0.4848,   0.5543\n",
      " 30.0,  0.8660,  0.5000,   0.5774\n",
      " 31.0,  0.8572,  0.5150,   0.6009\n",
      " 32.0,  0.8480,  0.5299,   0.6249\n",
      " 33.0,  0.8387,  0.5446,   0.6494\n",
      " 34.0,  0.8290,  0.5592,   0.6745\n",
      " 35.0,  0.8192,  0.5736,   0.7002\n",
      " 36.0,  0.8090,  0.5878,   0.7265\n",
      " 37.0,  0.7986,  0.6018,   0.7536\n",
      " 38.0,  0.7880,  0.6157,   0.7813\n",
      " 39.0,  0.7771,  0.6293,   0.8098\n",
      " 40.0,  0.7660,  0.6428,   0.8391\n",
      " 41.0,  0.7547,  0.6561,   0.8693\n",
      " 42.0,  0.7431,  0.6691,   0.9004\n",
      " 43.0,  0.7314,  0.6820,   0.9325\n",
      " 44.0,  0.7193,  0.6947,   0.9657\n",
      " 45.0,  0.7071,  0.7071,   1.0000\n",
      " 46.0,  0.6947,  0.7193,   1.0355\n",
      " 47.0,  0.6820,  0.7314,   1.0724\n",
      " 48.0,  0.6691,  0.7431,   1.1106\n",
      " 49.0,  0.6561,  0.7547,   1.1504\n",
      " 50.0,  0.6428,  0.7660,   1.1918\n",
      " 51.0,  0.6293,  0.7771,   1.2349\n",
      " 52.0,  0.6157,  0.7880,   1.2799\n",
      " 53.0,  0.6018,  0.7986,   1.3270\n",
      " 54.0,  0.5878,  0.8090,   1.3764\n",
      " 55.0,  0.5736,  0.8192,   1.4281\n",
      " 56.0,  0.5592,  0.8290,   1.4826\n",
      " 57.0,  0.5446,  0.8387,   1.5399\n",
      " 58.0,  0.5299,  0.8480,   1.6003\n",
      " 59.0,  0.5150,  0.8572,   1.6643\n",
      " 60.0,  0.5000,  0.8660,   1.7321\n",
      " 61.0,  0.4848,  0.8746,   1.8040\n",
      " 62.0,  0.4695,  0.8829,   1.8807\n",
      " 63.0,  0.4540,  0.8910,   1.9626\n",
      " 64.0,  0.4384,  0.8988,   2.0503\n",
      " 65.0,  0.4226,  0.9063,   2.1445\n",
      " 66.0,  0.4067,  0.9135,   2.2460\n",
      " 67.0,  0.3907,  0.9205,   2.3559\n",
      " 68.0,  0.3746,  0.9272,   2.4751\n",
      " 69.0,  0.3584,  0.9336,   2.6051\n",
      " 70.0,  0.3420,  0.9397,   2.7475\n",
      " 71.0,  0.3256,  0.9455,   2.9042\n",
      " 72.0,  0.3090,  0.9511,   3.0777\n",
      " 73.0,  0.2924,  0.9563,   3.2709\n",
      " 74.0,  0.2756,  0.9613,   3.4874\n",
      " 75.0,  0.2588,  0.9659,   3.7321\n",
      " 76.0,  0.2419,  0.9703,   4.0108\n",
      " 77.0,  0.2250,  0.9744,   4.3315\n",
      " 78.0,  0.2079,  0.9781,   4.7046\n",
      " 79.0,  0.1908,  0.9816,   5.1446\n",
      " 80.0,  0.1736,  0.9848,   5.6713\n",
      " 81.0,  0.1564,  0.9877,   6.3138\n",
      " 82.0,  0.1392,  0.9903,   7.1154\n",
      " 83.0,  0.1219,  0.9925,   8.1443\n",
      " 84.0,  0.1045,  0.9945,   9.5144\n",
      " 85.0,  0.0872,  0.9962,  11.4301\n",
      " 86.0,  0.0698,  0.9976,  14.3007\n",
      " 87.0,  0.0523,  0.9986,  19.0811\n",
      " 88.0,  0.0349,  0.9994,  28.6363\n",
      " 89.0,  0.0175,  0.9998,  57.2900\n"
     ]
    }
   ],
   "source": [
    "# trigtable.py\n",
    "# Create a simple trigonometric table\n",
    "#\n",
    "\n",
    "import math\n",
    "import numpy as np\n",
    "\n",
    "degrad = 180.0/3.1415927\n",
    "\n",
    "i = np.arange(90)\n",
    "\n",
    "for ang in i :\n",
    "    theta = float(ang)\n",
    "    ctheta = math.cos(theta/degrad)\n",
    "    stheta = math.sin(theta/degrad)\n",
    "    ttheta = math.tan(theta/degrad)\n",
    "    \n",
    "    print (\"%5.1f, %7.4f, %7.4f, %8.4f\"\n",
    "           % (theta,ctheta,stheta,ttheta))\n"
   ]
  },
  {
   "cell_type": "markdown",
   "metadata": {},
   "source": [
    "## Librerías o Módulos\n",
    "Python tiene una larga lista de librerías (conocidas como módulos) para realizar operaciones de todo tipo. Pero al correr un programa de Python, es necesario \"cargarlas\" antes de usarlas. Esto se realiza con el comando \"import\". \n",
    "\n",
    "En nuestro ejemplo, para utilizar operaciones trigonemétricas, se requiere el módulo \"math\", que contiene las funciones coseno (math.cos), seno (math.sin), etc. \n",
    "\n",
    "Adicionalmente hemos cargado el módulo NUMPY, que tiene multiples funciones para realizar operaciones en variables, vectores, matrices, etc. Se carga"
   ]
  },
  {
   "cell_type": "raw",
   "metadata": {},
   "source": [
    "import numpy as np"
   ]
  },
  {
   "cell_type": "markdown",
   "metadata": {},
   "source": [
    "para llamar las diferentes funciones que tiene NUMPY con un nombre más corto. "
   ]
  },
  {
   "cell_type": "raw",
   "metadata": {},
   "source": [
    "i = np.arange(90)"
   ]
  },
  {
   "cell_type": "markdown",
   "metadata": {},
   "source": [
    "en vez de "
   ]
  },
  {
   "cell_type": "raw",
   "metadata": {},
   "source": [
    "i = numpy.arange(90)"
   ]
  },
  {
   "cell_type": "markdown",
   "metadata": {},
   "source": [
    "Este coamando (np.arange) genera un arreglo (un vector) con valores que van desde 0 hasta 89. \n",
    "##### Python empieza los arreglos con 0, no con 1, lo que significa que el arreglo \"i\" tiene valores 0, 1, 2, ..., 88, 89."
   ]
  },
  {
   "cell_type": "markdown",
   "metadata": {},
   "source": [
    "Tal como lo hacen C, Fortran o Matlab, el cálculo trigonométrico se hace en radiaes (no en grados) como argumento de la función trigonométrica. Por eso, es necesario convertir los ángulos en grados, a radianes con un operador"
   ]
  },
  {
   "cell_type": "raw",
   "metadata": {},
   "source": [
    "degrad = 180./pi"
   ]
  },
  {
   "cell_type": "markdown",
   "metadata": {},
   "source": [
    "que realiza la operación con una simple división. "
   ]
  },
  {
   "cell_type": "markdown",
   "metadata": {},
   "source": [
    "Después de estos pasos, finalmente podemos empezar el loop"
   ]
  },
  {
   "cell_type": "raw",
   "metadata": {},
   "source": [
    "for ang in i :\n",
    "    theta = float(ang)\n",
    "    ctheta = math.cos(theta/degrad)\n",
    "    ..."
   ]
  },
  {
   "cell_type": "markdown",
   "metadata": {},
   "source": [
    "donde el loop genera una variable \"ang\" que toma sucesivamente los valores del arreglo \"i\" (0, 1, 2, ...), los convierte a un número real (float) y calcula la función trigonométrica después de hacer la conversión a radianes. \n",
    "## Nota \n",
    "##### El FOR loop se cierra con dos punto (:). Y debe haber indentación de los comandos que están dentro del loop. \n",
    "A diferencia de otros lenguajes, Python no tiene un END para el loop. "
   ]
  },
  {
   "cell_type": "markdown",
   "metadata": {},
   "source": [
    "#### Impresión de resultados en pantalla\n",
    "Finalmente, en cada loop, se imprime a la terminal los resultados"
   ]
  },
  {
   "cell_type": "raw",
   "metadata": {},
   "source": [
    "print (\"%5.1f, %7.4f, %7.4f, %8.4f\"\n",
    "           % (theta,ctheta,stheta,ttheta))"
   ]
  },
  {
   "cell_type": "markdown",
   "metadata": {},
   "source": [
    "con un formato especificado por el usuario. \n",
    "En este caso %5.1f ordena que la variable \"theta\" se imprime como un número real con 5 espacios en total, 1 dígito a la derecha del punto decimal. "
   ]
  },
  {
   "cell_type": "markdown",
   "metadata": {},
   "source": [
    "### Nota\n",
    "Como Python no tiene en cuenta espacios o saltos de línea, la continuidad del comando PRINT dentro del paréntesis es automática. "
   ]
  },
  {
   "cell_type": "markdown",
   "metadata": {},
   "source": [
    "## Posibles Variaciones\n",
    "Las funciones disponibles dentro del módulo MATH, se pueden llamar directamente con "
   ]
  },
  {
   "cell_type": "raw",
   "metadata": {},
   "source": [
    "from math import * "
   ]
  },
  {
   "cell_type": "markdown",
   "metadata": {},
   "source": [
    "de tal forma que ya no hay necesidad de digitar \"math.cos()\". De igual manera, el módulo MATH tiene el valor de PI definido, asi que éste también se obtiene de manera automática. "
   ]
  },
  {
   "cell_type": "markdown",
   "metadata": {},
   "source": [
    "El formato de impresión o de salida puede también ser difinido en una variable (fmt)."
   ]
  },
  {
   "cell_type": "code",
   "execution_count": 5,
   "metadata": {},
   "outputs": [
    {
     "name": "stdout",
     "output_type": "stream",
     "text": [
      "  0.0,  1.0000,  0.0000,   0.0000\n",
      "  1.0,  0.9998,  0.0175,   0.0175\n",
      "  2.0,  0.9994,  0.0349,   0.0349\n",
      "  3.0,  0.9986,  0.0523,   0.0524\n",
      "  4.0,  0.9976,  0.0698,   0.0699\n",
      "  5.0,  0.9962,  0.0872,   0.0875\n",
      "  6.0,  0.9945,  0.1045,   0.1051\n",
      "  7.0,  0.9925,  0.1219,   0.1228\n",
      "  8.0,  0.9903,  0.1392,   0.1405\n",
      "  9.0,  0.9877,  0.1564,   0.1584\n",
      " 10.0,  0.9848,  0.1736,   0.1763\n",
      " 11.0,  0.9816,  0.1908,   0.1944\n",
      " 12.0,  0.9781,  0.2079,   0.2126\n",
      " 13.0,  0.9744,  0.2250,   0.2309\n",
      " 14.0,  0.9703,  0.2419,   0.2493\n",
      " 15.0,  0.9659,  0.2588,   0.2679\n",
      " 16.0,  0.9613,  0.2756,   0.2867\n",
      " 17.0,  0.9563,  0.2924,   0.3057\n",
      " 18.0,  0.9511,  0.3090,   0.3249\n",
      " 19.0,  0.9455,  0.3256,   0.3443\n",
      " 20.0,  0.9397,  0.3420,   0.3640\n",
      " 21.0,  0.9336,  0.3584,   0.3839\n",
      " 22.0,  0.9272,  0.3746,   0.4040\n",
      " 23.0,  0.9205,  0.3907,   0.4245\n",
      " 24.0,  0.9135,  0.4067,   0.4452\n",
      " 25.0,  0.9063,  0.4226,   0.4663\n",
      " 26.0,  0.8988,  0.4384,   0.4877\n",
      " 27.0,  0.8910,  0.4540,   0.5095\n",
      " 28.0,  0.8829,  0.4695,   0.5317\n",
      " 29.0,  0.8746,  0.4848,   0.5543\n",
      " 30.0,  0.8660,  0.5000,   0.5774\n",
      " 31.0,  0.8572,  0.5150,   0.6009\n",
      " 32.0,  0.8480,  0.5299,   0.6249\n",
      " 33.0,  0.8387,  0.5446,   0.6494\n",
      " 34.0,  0.8290,  0.5592,   0.6745\n",
      " 35.0,  0.8192,  0.5736,   0.7002\n",
      " 36.0,  0.8090,  0.5878,   0.7265\n",
      " 37.0,  0.7986,  0.6018,   0.7536\n",
      " 38.0,  0.7880,  0.6157,   0.7813\n",
      " 39.0,  0.7771,  0.6293,   0.8098\n",
      " 40.0,  0.7660,  0.6428,   0.8391\n",
      " 41.0,  0.7547,  0.6561,   0.8693\n",
      " 42.0,  0.7431,  0.6691,   0.9004\n",
      " 43.0,  0.7314,  0.6820,   0.9325\n",
      " 44.0,  0.7193,  0.6947,   0.9657\n",
      " 45.0,  0.7071,  0.7071,   1.0000\n",
      " 46.0,  0.6947,  0.7193,   1.0355\n",
      " 47.0,  0.6820,  0.7314,   1.0724\n",
      " 48.0,  0.6691,  0.7431,   1.1106\n",
      " 49.0,  0.6561,  0.7547,   1.1504\n",
      " 50.0,  0.6428,  0.7660,   1.1918\n",
      " 51.0,  0.6293,  0.7771,   1.2349\n",
      " 52.0,  0.6157,  0.7880,   1.2799\n",
      " 53.0,  0.6018,  0.7986,   1.3270\n",
      " 54.0,  0.5878,  0.8090,   1.3764\n",
      " 55.0,  0.5736,  0.8192,   1.4281\n",
      " 56.0,  0.5592,  0.8290,   1.4826\n",
      " 57.0,  0.5446,  0.8387,   1.5399\n",
      " 58.0,  0.5299,  0.8480,   1.6003\n",
      " 59.0,  0.5150,  0.8572,   1.6643\n",
      " 60.0,  0.5000,  0.8660,   1.7321\n",
      " 61.0,  0.4848,  0.8746,   1.8040\n",
      " 62.0,  0.4695,  0.8829,   1.8807\n",
      " 63.0,  0.4540,  0.8910,   1.9626\n",
      " 64.0,  0.4384,  0.8988,   2.0503\n",
      " 65.0,  0.4226,  0.9063,   2.1445\n",
      " 66.0,  0.4067,  0.9135,   2.2460\n",
      " 67.0,  0.3907,  0.9205,   2.3559\n",
      " 68.0,  0.3746,  0.9272,   2.4751\n",
      " 69.0,  0.3584,  0.9336,   2.6051\n",
      " 70.0,  0.3420,  0.9397,   2.7475\n",
      " 71.0,  0.3256,  0.9455,   2.9042\n",
      " 72.0,  0.3090,  0.9511,   3.0777\n",
      " 73.0,  0.2924,  0.9563,   3.2709\n",
      " 74.0,  0.2756,  0.9613,   3.4874\n",
      " 75.0,  0.2588,  0.9659,   3.7321\n",
      " 76.0,  0.2419,  0.9703,   4.0108\n",
      " 77.0,  0.2250,  0.9744,   4.3315\n",
      " 78.0,  0.2079,  0.9781,   4.7046\n",
      " 79.0,  0.1908,  0.9816,   5.1446\n",
      " 80.0,  0.1736,  0.9848,   5.6713\n",
      " 81.0,  0.1564,  0.9877,   6.3138\n",
      " 82.0,  0.1392,  0.9903,   7.1154\n",
      " 83.0,  0.1219,  0.9925,   8.1443\n",
      " 84.0,  0.1045,  0.9945,   9.5144\n",
      " 85.0,  0.0872,  0.9962,  11.4301\n",
      " 86.0,  0.0698,  0.9976,  14.3007\n",
      " 87.0,  0.0523,  0.9986,  19.0811\n",
      " 88.0,  0.0349,  0.9994,  28.6363\n",
      " 89.0,  0.0175,  0.9998,  57.2900\n"
     ]
    }
   ],
   "source": [
    "# trigtable2.py\n",
    "# Create a simple trigonometric table (2)\n",
    "#\n",
    "\n",
    "from math import * \n",
    "import numpy as np\n",
    "\n",
    "fmt = \"%5.1f, %7.4f, %7.4f, %8.4f\"\n",
    "\n",
    "degrad = 180.0/pi\n",
    "\n",
    "i = np.arange(90)\n",
    "\n",
    "for ang in i :\n",
    "   theta = float(ang)\n",
    "   ctheta = cos(theta/degrad)\n",
    "   stheta = sin(theta/degrad)\n",
    "   ttheta = tan(theta/degrad)\n",
    "\n",
    "   print (fmt %(theta,ctheta,stheta,ttheta))\n"
   ]
  }
 ],
 "metadata": {
  "kernelspec": {
   "display_name": "Python 3",
   "language": "python",
   "name": "python3"
  },
  "language_info": {
   "codemirror_mode": {
    "name": "ipython",
    "version": 3
   },
   "file_extension": ".py",
   "mimetype": "text/x-python",
   "name": "python",
   "nbconvert_exporter": "python",
   "pygments_lexer": "ipython3",
   "version": "3.6.4"
  }
 },
 "nbformat": 4,
 "nbformat_minor": 2
}
