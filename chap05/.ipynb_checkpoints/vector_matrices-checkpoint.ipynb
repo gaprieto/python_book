{
 "cells": [
  {
   "cell_type": "code",
   "execution_count": 12,
   "metadata": {},
   "outputs": [],
   "source": [
    "import numpy as np\n",
    "import math as mt"
   ]
  },
  {
   "cell_type": "markdown",
   "metadata": {},
   "source": [
    "Importe la librería NUMPY"
   ]
  },
  {
   "cell_type": "code",
   "execution_count": 16,
   "metadata": {},
   "outputs": [
    {
     "name": "stdout",
     "output_type": "stream",
     "text": [
      "[0. 0. 0. 0. 0. 0. 0. 0. 0. 0. 0. 0. 0. 0. 0. 0. 0. 0. 0. 0. 0. 0. 0. 0.\n",
      " 0.]\n"
     ]
    }
   ],
   "source": [
    "maxnum = 25\n",
    "prod = np.zeros(maxnum)\n",
    "\n",
    "print(prod)"
   ]
  },
  {
   "cell_type": "code",
   "execution_count": 17,
   "metadata": {},
   "outputs": [
    {
     "name": "stdout",
     "output_type": "stream",
     "text": [
      "5\n"
     ]
    }
   ],
   "source": [
    "# define el máximo número que quiero usar para cancelar primos\n",
    "max_i = mt.floor(mt.sqrt(float(maxnum)))\n",
    "\n",
    "print(max_i)"
   ]
  },
  {
   "cell_type": "code",
   "execution_count": 22,
   "metadata": {},
   "outputs": [
    {
     "name": "stdout",
     "output_type": "stream",
     "text": [
      "[0. 0. 0. 1. 0. 1. 0. 1. 1. 1. 0. 1. 0. 1. 1. 1. 0. 1. 0. 1. 1. 1. 0. 1.\n",
      " 1.]\n"
     ]
    }
   ],
   "source": [
    "for i in range(2,max_i+1):\n",
    "    if (prod[i-1]==0):\n",
    "        max_j = mt.floor(maxnum/i)\n",
    "        for j in range(2,max_j+1):\n",
    "            prod[i*j-1] = 1\n",
    "\n",
    "\n",
    "print(prod)"
   ]
  },
  {
   "cell_type": "code",
   "execution_count": 24,
   "metadata": {},
   "outputs": [
    {
     "name": "stdout",
     "output_type": "stream",
     "text": [
      "9\n"
     ]
    }
   ],
   "source": [
    "nprime = 0\n",
    "for i in range(2,maxnum+1):\n",
    "    if (prod[i-1]==0):\n",
    "        nprime = nprime + 1\n",
    "\n",
    "print(nprime)"
   ]
  },
  {
   "cell_type": "code",
   "execution_count": 25,
   "metadata": {},
   "outputs": [
    {
     "name": "stdout",
     "output_type": "stream",
     "text": [
      "[ 2.  3.  5.  7. 11. 13. 17. 19. 23.]\n"
     ]
    }
   ],
   "source": [
    "pnum = np.zeros(nprime)\n",
    "nprime = 0\n",
    "for i in range(2,maxnum+1):\n",
    "    if (prod[i-1]==0):\n",
    "        nprime = nprime+1\n",
    "        pnum[nprime-1] = i\n",
    "\n",
    "print(pnum)"
   ]
  },
  {
   "cell_type": "code",
   "execution_count": null,
   "metadata": {},
   "outputs": [],
   "source": []
  }
 ],
 "metadata": {
  "kernelspec": {
   "display_name": "Python 3",
   "language": "python",
   "name": "python3"
  },
  "language_info": {
   "codemirror_mode": {
    "name": "ipython",
    "version": 3
   },
   "file_extension": ".py",
   "mimetype": "text/x-python",
   "name": "python",
   "nbconvert_exporter": "python",
   "pygments_lexer": "ipython3",
   "version": "3.6.6"
  }
 },
 "nbformat": 4,
 "nbformat_minor": 2
}
