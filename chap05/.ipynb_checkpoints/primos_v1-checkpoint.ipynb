{
 "cells": [
  {
   "cell_type": "markdown",
   "metadata": {},
   "source": [
    "# Arreglos: Vectores y Matrices\n",
    "Hasta el momento hemos trabajado con variables que representan un sólo número (o conjunto de letras), pero en muchos casos se hace necesario trabajar con una lista de valores (un vector) o arreglos en 2D o 3D. Multiplicación de vectores o matrices pueden ser útiles en métodos computacionales, y Python\n",
    "permite realizar estas operaciones."
   ]
  },
  {
   "cell_type": "markdown",
   "metadata": {},
   "source": [
    "En Python hay varios tipos de estructuras de datos. Entre \n",
    "las más comunes están las *list*, _tuples_ y _dictionaries_. De manera muy sencilla estos se\n",
    "describen como:\n",
    "- __list__ \n",
    "    \n",
    "como su nombre lo indica, son una lista de valores. Cada valor está numerado empezando en cero – el primer valor está en la posición 0, el segundo en la posición 1, etc. Uno puede remover valores de una lista, adicionar valores a la lista, etc. Adicionalmente, los valores dentro de una lista pueden\n",
    "ser de diferente tipo, por ejemplo números y palabras.\n",
    "- __tuples__ \n",
    "\n",
    "son similares a las listas, pero no se puede cambiar su valor. Los valores que se le ponen a los tuples no pueden ser cambiados dentro del programa.\n",
    "La númeración es igual a la de las listas empezando en cero. Un posible uso es los nombres de los meses del año, que no cambiarán.\n",
    "\n",
    "- __dictionaries__\n",
    "\n",
    "como su nombre lo indica, son un diccionario. En un diccionario\n",
    "se tiene un índice de palabras, y para cada nombre una definición. En Python,\n",
    "la palabra se conoce como key y la definición el value. Los valores del\n",
    "diccionario no están numerados y no están ordenados en ningún orden específico.\n",
    "Se puede adicionar, quitar o modificar los valores del diccionario.\n",
    "Un ejemplo, es un directorio telefónico."
   ]
  },
  {
   "cell_type": "markdown",
   "metadata": {},
   "source": [
    "En este curso, el objetivo es realizaer trabajo numérico sobre valores de algún\n",
    "tipo, y por esta razón el uso de estas estructuras no es la más adecuada (esto\n",
    "incluye sumar valores a un vector, realizar multiplicación de matrices, rotación,\n",
    "etc). Por eso vamos a utilizar arreglos (numéricos o de otro tipo). Los arreglos\n",
    "son como listas, pero sólo aceptan un tipo de entrada (números en la mayoría de los casos). Para la creación y manejo de estos arreglos, vamos a utilixzr los\n",
    "módulos de NumPy, por lo que siempre vamos a importar sus funciones a través\n",
    "de:\n",
    "\n",
    "``import numpy as np``\n",
    "\n",
    "y con esto podemos crear arreglos numéricos de manera sencilla."
   ]
  },
  {
   "cell_type": "markdown",
   "metadata": {},
   "source": [
    "## Arreglos Numéricos\n",
    "Los arreglos numéricos en Python los vamos a hacer con los módulos de NumPy, un paquete para análisis numérico."
   ]
  },
  {
   "cell_type": "code",
   "execution_count": 1,
   "metadata": {},
   "outputs": [
    {
     "name": "stdout",
     "output_type": "stream",
     "text": [
      "[1 2 3 4 5]\n"
     ]
    }
   ],
   "source": [
    "import numpy as np\n",
    "a = np.array([1, 2, 3, 4, 5])\n",
    "print(a)"
   ]
  },
  {
   "cell_type": "markdown",
   "metadata": {},
   "source": [
    "donde se define un arreglo a con 5 números del 1 al 5. Recuerde que en Python\n",
    "(como en C) el contador empieza en cero."
   ]
  },
  {
   "cell_type": "code",
   "execution_count": 2,
   "metadata": {},
   "outputs": [
    {
     "data": {
      "text/plain": [
       "1"
      ]
     },
     "execution_count": 2,
     "metadata": {},
     "output_type": "execute_result"
    }
   ],
   "source": [
    "a[0]"
   ]
  },
  {
   "cell_type": "code",
   "execution_count": 3,
   "metadata": {},
   "outputs": [
    {
     "data": {
      "text/plain": [
       "5"
      ]
     },
     "execution_count": 3,
     "metadata": {},
     "output_type": "execute_result"
    }
   ],
   "source": [
    "a[4]"
   ]
  },
  {
   "cell_type": "markdown",
   "metadata": {},
   "source": [
    "### Hazlo tu mismo\n",
    "\n",
    "#### Números primos V1.0\n",
    "Este es un ejercicio que nos permite pensar como se puede programar un problema numérico. El objetivo es determinar los números primos e imprimirlos. Sencillo cierto? \n"
   ]
  },
  {
   "cell_type": "markdown",
   "metadata": {},
   "source": [
    "Qué es un número primo? un número natural mayor a 1 que tiene únicamente dos divisores positivos distintos: él mismo y el 1. En palabras sencillos, números enteros que no se puedan dividir por otro entero deferente de 1 y si mismo. Es decir\n",
    "```\n",
    "2, 3, 5, 7, 11, 13, ...\n",
    "```\n",
    "\n",
    "Un método muy sencillo que vamos a utilizar se conoce como la criba de Eratostenes (<a href=\"https://es.wikipedia.org/wiki/Criba_de_Erat%C3%B3stenes\" target=\"_blank\">link</a>), en honor al matemático griego del 3er siglo AC. \n",
    "\n",
    "Se empieza con una lista de números del 2 al 100 y se considera que todos son primos, marcándolos con 0.\n",
    "```\n",
    "num  Primo?\n",
    " 2     0\n",
    " 3     0 \n",
    " 4     0 \n",
    " 5     0\n",
    " 6     0\n",
    " 7     0\n",
    " 8     0\n",
    " 9     0\n",
    " ...\n",
    " 99    0\n",
    "100    0\n",
    "```\n",
    "La estrategia es marcar todos los números que no son primos, poniendo el valor de 1 (indica que no es un primo). Cómo?  \n",
    "Se empieza con el número 2, (`num=2`) y se eliminan todos los múltiplos de 2 hasta el máximo que en nuestro caso es 100. El 2 es primo, ya que la segunda columna es cero.\n",
    "```\n",
    "num  Primo?\n",
    " 2     0\n",
    " 3     0 \n",
    " 4     1 \n",
    " 5     0\n",
    " 6     1\n",
    " 7     0\n",
    " 8     1\n",
    " 9     0\n",
    " ...\n",
    " 99    0\n",
    "100    1\n",
    "```\n",
    "Seguimos con el 3, un primo ya que la segunda columna sigue 0. (`num=3`) y se eliminan sus múltiplos.\n",
    "```\n",
    "num  Primo?\n",
    " 2     0\n",
    " 3     0 \n",
    " 4     1 \n",
    " 5     0\n",
    " 6     1\n",
    " 7     0\n",
    " 8     1\n",
    " 9     1\n",
    " ...\n",
    " 99    1\n",
    "100    1\n",
    "```\n",
    "El 4 lo saltamos, ya que el 4 y todos sus múltiplos son múltiplos del 2 y ya han sido eliminados. El 5 lo hacemos (es un primo) y continuamos sucesivamente.\n",
    "\n",
    "**Este es el concepto que tenemos que programar**\n",
    "\n",
    "**Nota**: Se debe evaluar todos los números `num`, hasta 10 (la raiz cuadrada de 100), porque los factores mas grandes ya han sido eliminados**.\n",
    "\n",
    "Cuando terminamos, simplemente se imprime la posición el valor de `num` en el cual el `primo?` continue siendo cero. Podemos contar cuantos espacios tienen cero (total de primos entre 2 y 100) y además podemos saber qué números son primos (por su posición). \n"
   ]
  },
  {
   "cell_type": "code",
   "execution_count": 108,
   "metadata": {},
   "outputs": [
    {
     "name": "stdout",
     "output_type": "stream",
     "text": [
      "   2\n",
      "   3\n",
      "   5\n",
      "   7\n",
      "  11\n",
      "  13\n",
      "  17\n",
      "  19\n",
      "  23\n",
      "  29\n",
      "  31\n",
      "  37\n",
      "  41\n",
      "  43\n",
      "  47\n",
      "  53\n",
      "  59\n",
      "  61\n",
      "  67\n",
      "  71\n",
      "  73\n",
      "  79\n",
      "  83\n",
      "  89\n",
      "  97\n",
      "Number of primes found  25\n"
     ]
    }
   ],
   "source": [
    "# prime.py\n",
    "# Programa para encontrar números primos hasta el 100\n",
    "import numpy as np\n",
    "\n",
    "maxnum = 100\n",
    "prime  = np.zeros(maxnum)\n",
    "\n",
    "max1 = int(np.floor(np.sqrt(maxnum)))\n",
    "for i in range(2,max1+1):\n",
    "   if (prime[i-1]==0):                # for i-1 = 2\n",
    "      max2 = int(np.floor(maxnum/i))  # max2 = 50\n",
    "      for j in range(2,max2+1):\n",
    "         prime[i*j-1] = 1             # 4, 6, 8, (-1)\n",
    "\n",
    "nprime = 0\n",
    "for i in range(2,maxnum+1):\n",
    "   if (prime[i-1]==0):\n",
    "      nprime = nprime + 1\n",
    "      print (\"%4i\" % i)\n",
    "\n",
    "print (\"Number of primes found \", nprime)"
   ]
  },
  {
   "cell_type": "markdown",
   "metadata": {},
   "source": [
    "#### Explicación\n",
    "\n",
    "El programa comienza definiendo un arreglo `prime` lleno de ceros\n",
    "```\n",
    "maxnum = 100\n",
    "prime  = np.zeros(maxnum)\n",
    "```\n",
    "\n",
    "Para eliminar números que no sean primos, usa dos loops, el primero\n",
    "```\n",
    "for i in range(2,max1+1):\n",
    "``` \n",
    "que mira los posibles números 2, 3, 4, 5,...,10. Si el número no ha sido multiplo de ningún número anterior\n",
    "```\n",
    "if (prime[i-1]==0):  \n",
    "```\n",
    "se realiza otro loop, en el que se multiplica ese número por 2, 3, 4, 5, etc. para eliminar todos sus posibles múltiplos. \n",
    "```\n",
    "for j in range(2,max2+1):\n",
    "   prime[i*j-1] = 1 \n",
    "```\n",
    "esto se hace con `i*j`. Recuerde que Python empieza el conteo con `i=0`, por eso se escribe `i*j-1`.\n",
    "\n",
    "Las variables `max1` y `max2` se definen para no tener multiplos mayores a `maxnum=100`.\n"
   ]
  },
  {
   "cell_type": "markdown",
   "metadata": {},
   "source": [
    "### Hazlo tu mismo\n",
    "\n",
    "#### Números primos V2.0\n",
    "\n",
    "La versión anterior de la busqueda de números primos funciona bastante bien. **Sin embargo tiene una desventaja**. Si uno no quiere los primos hasta el 100, sino hasta el 1000? Tendría 168 primos (verifique con su código), e imprimiría muchas líneas y sería difícil de mirar el resultado. \n",
    "\n",
    "Cree una función propia, que use el mismo código anterior, pero que como resultado devuelva un vector con los números enteros primos.  \n"
   ]
  },
  {
   "cell_type": "code",
   "execution_count": 103,
   "metadata": {},
   "outputs": [],
   "source": [
    "def primos_vector(maxnum):\n",
    "    \"\"\"\n",
    "    prime_vector(maxnum)\n",
    "    Función que busca números primos entre 2 y maxnum, \n",
    "    y los ubica en un arreglo. El programa es muy lento si \n",
    "    se buscan primos muy grandes.\n",
    "    Entradas: \n",
    "       maxnum - entero, busqueda de primos hasta maxnum\n",
    "\n",
    "    Salidas: \n",
    "       pvec   - vector con números primos, en orden\n",
    "    \"\"\"\n",
    "    import numpy as np\n",
    "    \n",
    "    prime    = np.zeros(maxnum,dtype=int)\n",
    "    prime[0] = 1\n",
    "    \n",
    "    max1 = int(np.floor(np.sqrt(maxnum)))\n",
    "    for i in range(2,max1+1):\n",
    "        if (prime[i-1]==0):                # for i-1 = 2\n",
    "            max2 = int(np.floor(maxnum/i))  # max2 = 50, maxj=33, etc.\n",
    "            for j in range(2,max2+1):\n",
    "                prime[i*j-1] = 1             # 4, 6, 8, (-1)\n",
    "    \n",
    "    # número de primos, y crear vector\n",
    "    nprime = np.count_nonzero(prime==0)\n",
    "    pvec   = np.zeros(nprime,dtype=int)\n",
    "    pcnt = 0\n",
    "    for i in range(2,maxnum+1):\n",
    "        if (prime[i-1]==0):\n",
    "            pcnt = pcnt + 1\n",
    "            pvec[pcnt-1] = i\n",
    "    \n",
    "    return pvec,nprime\n"
   ]
  },
  {
   "cell_type": "code",
   "execution_count": 116,
   "metadata": {},
   "outputs": [
    {
     "name": "stdout",
     "output_type": "stream",
     "text": [
      "Number of primes found  168\n",
      "[  2   3   5   7  11  13  17  19  23  29  31  37  41  43  47  53  59  61\n",
      "  67  71  73  79  83  89  97 101 103 107 109 113 127 131 137 139 149 151\n",
      " 157 163 167 173 179 181 191 193 197 199 211 223 227 229 233 239 241 251\n",
      " 257 263 269 271 277 281 283 293 307 311 313 317 331 337 347 349 353 359\n",
      " 367 373 379 383 389 397 401 409 419 421 431 433 439 443 449 457 461 463\n",
      " 467 479 487 491 499 503 509 521 523 541 547 557 563 569 571 577 587 593\n",
      " 599 601 607 613 617 619 631 641 643 647 653 659 661 673 677 683 691 701\n",
      " 709 719 727 733 739 743 751 757 761 769 773 787 797 809 811 821 823 827\n",
      " 829 839 853 857 859 863 877 881 883 887 907 911 919 929 937 941 947 953\n",
      " 967 971 977 983 991 997]\n"
     ]
    }
   ],
   "source": [
    "# prime2.py\n",
    "\n",
    "primes,nprime = primos_vector(1000)\n",
    "\n",
    "print (\"Number of primes found \", nprime)\n",
    "print (primes)"
   ]
  },
  {
   "cell_type": "markdown",
   "metadata": {},
   "source": [
    "La ventaje de imprimir el arreglo `primes` es que Python automáticamente despliega el arreglo con varias filas y columnas. Así se puede ver de manera sencilla los números primos. \n",
    "\n",
    "Intente desplegar el resultado aumentando el número máximo (después de 1 millón, el programa puede ser muy lento). "
   ]
  },
  {
   "cell_type": "markdown",
   "metadata": {},
   "source": [
    "## Uso de arreglos\n",
    "Los valores de un arreglo se pueden asignar uno a la vez o todos a la vez con comandos \n",
    "sencillos, como en el siguiente programa:"
   ]
  },
  {
   "cell_type": "code",
   "execution_count": 115,
   "metadata": {},
   "outputs": [
    {
     "name": "stdout",
     "output_type": "stream",
     "text": [
      "x =  [1 2 3]\n",
      "y =  [1. 1. 1.]\n",
      "z =  [2. 2. 2.]\n",
      "\n",
      "x =  [ 1 15  3]\n",
      "y =  [2. 2. 2.]\n",
      "z =  [1. 1. 1.]\n"
     ]
    }
   ],
   "source": [
    "# testarreglos.py\n",
    "# Programa que muestra como generar arreglos\n",
    "#\n",
    "import numpy as np\n",
    "\n",
    "x = np.array([1, 2, 3])\n",
    "y = np.ones(3)\n",
    "z = np.ones(3)*2\n",
    "\n",
    "# Imprima los tres arreglos\n",
    "print ('x = ',x)\n",
    "print ('y = ',y)\n",
    "print ('z = ',z)\n",
    "\n",
    "# Asigne algunos valores\n",
    "x[1] = 15\n",
    "y[:] = 2\n",
    "z = z-1\n",
    "\n",
    "# Imprima otra vez arreglos\n",
    "print('')\n",
    "print('x = ',x)\n",
    "print('y = ',y)\n",
    "print('z = ',z)"
   ]
  },
  {
   "cell_type": "markdown",
   "metadata": {},
   "source": [
    "#### Explicación:\n",
    "\n",
    "Note que cuando un arreglo se le asigna un solo valor, cada elemento del arreglo toma ese valor(`y[:] = 2`), pero tenga cuidado ya que si Ud ejecuta `y = 2` el resultado no es un arreglo, es sólo una variable. Ud habrá reemplazado el arreglo con una variable sencilla `y`.\n",
    "\n",
    "Para cambiar el valor de un elemento, se utiliza x[1]=15, que cambia el valor en la posición `1` del arreglo (es decir, el segundo número, recuerde Python empieza con cero). Tenga en cuenta que la posición dentro del vector o matriz, debe coincidir con el tamaño del arreglo. Si se usa una posición mayor a la disponible, Python genera un error.\n"
   ]
  },
  {
   "cell_type": "markdown",
   "metadata": {},
   "source": [
    "### Hazlo tu mismo\n",
    "\n",
    "El programa `prime2.py` muestra el resultados de números primos hasta el 1000. Pero que hacemos si queremos \n",
    "imprimir los números en 10 columnas. \n",
    "\n",
    "Busque una mejor manera de imprimir el resultado. \n"
   ]
  },
  {
   "cell_type": "code",
   "execution_count": 120,
   "metadata": {},
   "outputs": [
    {
     "name": "stdout",
     "output_type": "stream",
     "text": [
      "Number of primes found  168\n",
      "   3   5   7  11  13  17  19  23  29  31\n",
      "  37  41  43  47  53  59  61  67  71  73\n",
      "  79  83  89  97 101 103 107 109 113 127\n",
      " 131 137 139 149 151 157 163 167 173 179\n",
      " 181 191 193 197 199 211 223 227 229 233\n",
      " 239 241 251 257 263 269 271 277 281 283\n",
      " 293 307 311 313 317 331 337 347 349 353\n",
      " 359 367 373 379 383 389 397 401 409 419\n",
      " 421 431 433 439 443 449 457 461 463 467\n",
      " 479 487 491 499 503 509 521 523 541 547\n",
      " 557 563 569 571 577 587 593 599 601 607\n",
      " 613 617 619 631 641 643 647 653 659 661\n",
      " 673 677 683 691 701 709 719 727 733 739\n",
      " 743 751 757 761 769 773 787 797 809 811\n",
      " 821 823 827 829 839 853 857 859 863 877\n",
      " 881 883 887 907 911 919 929 937 941 947\n",
      " 953 967 971 977 983 991 997\n"
     ]
    }
   ],
   "source": [
    "# prime3.py\n",
    "\n",
    "primes,nprime = primos_vector(1000)\n",
    "\n",
    "print (\"Number of primes found \", nprime)\n",
    "\n",
    "nprint = 0\n",
    "for i in range(1,nprime):\n",
    "      nprint = nprint + 1\n",
    "      if (nprint%10==0 ):\n",
    "         print (\"%4i\" % (primes[i]))\n",
    "      else:\n",
    "         print (\"%4i\" % (primes[i]),end=\"\")\n",
    "print('')"
   ]
  },
  {
   "cell_type": "markdown",
   "metadata": {},
   "source": [
    "El comando\n",
    "\n",
    "``print (\"%4i\" % (primes[i]),end=\"\")``\n",
    "\n",
    "hace lo mismo que el comando `print` pero no genera un salto de linea. El código\n",
    "simplemente revisa si ya se han imprimido 10 números primos (con el contador\n",
    "`nprint`), y permite que se salta la línea.\n"
   ]
  },
  {
   "cell_type": "code",
   "execution_count": null,
   "metadata": {},
   "outputs": [],
   "source": []
  },
  {
   "cell_type": "code",
   "execution_count": null,
   "metadata": {},
   "outputs": [],
   "source": []
  },
  {
   "cell_type": "markdown",
   "metadata": {},
   "source": []
  },
  {
   "cell_type": "code",
   "execution_count": null,
   "metadata": {},
   "outputs": [],
   "source": []
  }
 ],
 "metadata": {
  "kernelspec": {
   "display_name": "Python 3",
   "language": "python",
   "name": "python3"
  },
  "language_info": {
   "codemirror_mode": {
    "name": "ipython",
    "version": 3
   },
   "file_extension": ".py",
   "mimetype": "text/x-python",
   "name": "python",
   "nbconvert_exporter": "python",
   "pygments_lexer": "ipython3",
   "version": "3.7.6"
  }
 },
 "nbformat": 4,
 "nbformat_minor": 2
}
