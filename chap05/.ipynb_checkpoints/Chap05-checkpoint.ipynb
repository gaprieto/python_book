{
 "cells": [
  {
   "cell_type": "markdown",
   "metadata": {},
   "source": [
    "# Capítulo 5\n",
    "## Arreglos: Vectores y Matrices"
   ]
  },
  {
   "cell_type": "markdown",
   "metadata": {},
   "source": [
    "Hasta el momento hemos trabajado con variables que representan un sólo número \n",
    "(o conjunto de letras), pero en muchos casos se hace necesario trabajar con una lista de valores (un vector) o arreglos en 2D o 3D. Multiplicación de vectores o matrices pueden ser útiles en métodos computacionales, y Python\n",
    "permite realizar estas operaciones."
   ]
  },
  {
   "cell_type": "markdown",
   "metadata": {},
   "source": [
    "En Python hay varios tipos de estructuras de datos. Entre \n",
    "las más comunes están las *list*, _tuples_ y _dictionaries_. De manera muy sencilla estos se\n",
    "describen como:\n",
    "- __list__ \n",
    "    \n",
    "como su nombre lo indica, son una lista de valores. Cada valor está numerado empezando en cero – el primer valor está en la posición 0, el segundo en la posición 1, etc. Uno puede remover valores de una lista, adicionar valores a la lista, etc. Adicionalmente, los valores dentro de una lista pueden\n",
    "ser de diferente tipo, por ejemplo números y palabras.\n",
    "- __tuples__ \n",
    "\n",
    "son similares a las listas, pero no se puede cambiar su valor. Los valores que se le ponen a los tuples no pueden ser cambiados dentro del programa.\n",
    "La númeración es igual a la de las listas empezando en cero. Un posible uso es los nombres de los meses del año, que no cambiarán.\n",
    "\n",
    "- __dictionaries__\n",
    "\n",
    "como su nombre lo indica, son un diccionario. En un diccionario\n",
    "se tiene un índice de palabras, y para cada nombre una definición. En Python,\n",
    "la palabra se conoce como key y la definición el value. Los valores del\n",
    "diccionario no están numerados y no están ordenados en ningún orden específico.\n",
    "Se puede adicionar, quitar o modificar los valores del diccionario.\n",
    "Un ejemplo, es un directorio telefónico."
   ]
  },
  {
   "cell_type": "markdown",
   "metadata": {},
   "source": [
    "En este curso, el objetivo es realizaer trabajo numérico sobre valores de algún\n",
    "tipo, y por esta razón el uso de estas estructuras no es la más adecuada (esto\n",
    "incluye sumar valores a un vector, realizar multiplicación de matrices, rotación,\n",
    "etc). Por eso vamos a utilizar arreglos (numéricos o de otro tipo). Los arreglos\n",
    "son como listas, pero sólo aceptan un tipo de entrada (números en la mayoría de los casos). Para la creación y manejo de estos arreglos, vamos a utilizar los\n",
    "módulos de NumPy, por lo que siempre vamos a importar sus funciones a través\n",
    "de:\n",
    "\n",
    "``import numpy as np``\n",
    "\n",
    "y con esto podemos crear arreglos numéricos de manera sencilla."
   ]
  },
  {
   "cell_type": "markdown",
   "metadata": {},
   "source": [
    "## Arreglos Numéricos\n",
    "Para iniciar, un ejemplo para crear arreglos, que en general se pueden pensar como vectores)"
   ]
  },
  {
   "cell_type": "code",
   "execution_count": 10,
   "metadata": {},
   "outputs": [
    {
     "name": "stdout",
     "output_type": "stream",
     "text": [
      "[1 2 3 4 5]\n"
     ]
    }
   ],
   "source": [
    "import numpy as np\n",
    "a = np.array([1, 2, 3, 4, 5])\n",
    "print(a)"
   ]
  },
  {
   "cell_type": "markdown",
   "metadata": {},
   "source": [
    "donde se define un arreglo a con 5 números del 1 al 5. Recuerde que en Python\n",
    "(como en C) el contador empieza en cero."
   ]
  },
  {
   "cell_type": "code",
   "execution_count": 11,
   "metadata": {},
   "outputs": [
    {
     "data": {
      "text/plain": [
       "1"
      ]
     },
     "execution_count": 11,
     "metadata": {},
     "output_type": "execute_result"
    }
   ],
   "source": [
    "a[0]"
   ]
  },
  {
   "cell_type": "code",
   "execution_count": 12,
   "metadata": {},
   "outputs": [
    {
     "data": {
      "text/plain": [
       "5"
      ]
     },
     "execution_count": 12,
     "metadata": {},
     "output_type": "execute_result"
    }
   ],
   "source": [
    "a[4]"
   ]
  },
  {
   "cell_type": "markdown",
   "metadata": {},
   "source": [
    "Note que para saber el valor del arreglo en alguna posición se usa `[]`. "
   ]
  },
  {
   "cell_type": "markdown",
   "metadata": {},
   "source": [
    "### Hágalo Ud. mismo\n",
    "\n",
    "#### Números primos\n",
    "Este es un ejercicio que nos permite pensar como se puede programar un problema numérico. El objetivo es determinar los números primos e imprimirlos. Sencillo cierto? \n"
   ]
  },
  {
   "cell_type": "markdown",
   "metadata": {},
   "source": [
    "Qué es un número primo? un número natural mayor a 1 que tiene únicamente dos divisores positivos distintos: él mismo y el 1. En palabras sencillos, números enteros que no se puedan dividir por otro entero deferente de 1 y si mismo. Es decir\n",
    "```\n",
    "2, 3, 5, 7, 11, 13, ...\n",
    "```\n",
    "\n",
    "Un método muy sencillo que vamos a utilizar se conoce como la criba de Eratostenes (<a href=\"https://es.wikipedia.org/wiki/Criba_de_Erat%C3%B3stenes\" target=\"_blank\">link</a>), en honor al matemático griego del 3er siglo AC. \n",
    "\n",
    "Se empieza con una lista de números del 1 al 100 y se considera que todos son primos (excepto el 1 por definición), marcándolos con 0. La estrategia es marcar todos los números que no son primos, poniendo el valor de 1 (indica que no es un primo). Cómo? \n",
    "```\n",
    "num  Primo? Posición\n",
    " 1     1       0\n",
    " 2     0       1\n",
    " 3     0       2\n",
    " 4     0       3\n",
    " 5     0       4\n",
    " 6     0       5\n",
    " 7     0       6\n",
    " 8     0       7\n",
    " 9     0       8\n",
    " ...\n",
    " 99    0      98\n",
    "100    0      99\n",
    "``` \n",
    "Se empieza con el número 2, (`num=2`) y se eliminan todos los múltiplos de 2 hasta el máximo que en nuestro caso es 100. El 2 es primo, ya que la segunda columna es cero.\n",
    "```\n",
    "num  Primo? Posición\n",
    " 1     1       0\n",
    " 2     0       1\n",
    " 3     0       2\n",
    " 4     1       3\n",
    " 5     0       4\n",
    " 6     1       5\n",
    " 7     0       6\n",
    " 8     1       7\n",
    " 9     0       8\n",
    " ...\n",
    " 99    0      98\n",
    "100    1      99\n",
    "``` \n",
    "Seguimos con el 3, un primo ya que la segunda columna sigue 0. (`num=3`) y se eliminan sus múltiplos.\n",
    "```\n",
    "num  Primo? Posición\n",
    " 1     1       0\n",
    " 2     0       1\n",
    " 3     0       2\n",
    " 4     1       3\n",
    " 5     0       4\n",
    " 6     1       5\n",
    " 7     0       6\n",
    " 8     1       7\n",
    " 9     1       8\n",
    " ...\n",
    " 99    1      98\n",
    "100    1      99\n",
    "``` \n",
    "El 4 lo saltamos, ya que el 4 y todos sus múltiplos son múltiplos del 2 y ya han sido eliminados. El 5 lo hacemos (es un primo) y continuamos así sucesivamente.\n",
    "\n",
    "**Este es el concepto que tenemos que programar**\n",
    "\n",
    "**Nota**: Se debe evaluar todos los números `num`, hasta 10 (la raiz cuadrada de 100), porque los factores mas grandes ya han sido eliminados**.\n",
    "\n",
    "Cuando terminamos, simplemente se imprime la posición el valor de `num` en el cual el `primo?` continue siendo cero. Podemos contar cuantos espacios tienen cero (total de primos entre 2 y 100) y además podemos saber qué números son primos (por su posición). \n"
   ]
  },
  {
   "cell_type": "code",
   "execution_count": 2,
   "metadata": {},
   "outputs": [
    {
     "name": "stdout",
     "output_type": "stream",
     "text": [
      "   2\n",
      "   3\n",
      "   5\n",
      "   7\n",
      "  11\n",
      "  13\n",
      "  17\n",
      "  19\n",
      "  23\n",
      "  29\n",
      "  31\n",
      "  37\n",
      "  41\n",
      "  43\n",
      "  47\n",
      "  53\n",
      "  59\n",
      "  61\n",
      "  67\n",
      "  71\n",
      "  73\n",
      "  79\n",
      "  83\n",
      "  89\n",
      "  97\n",
      "# primos encontrados  25\n"
     ]
    }
   ],
   "source": [
    "# primos.py\n",
    "# Programa para encontrar números primos hasta el 100\n",
    "import numpy as np\n",
    "\n",
    "maxnum   = 100\n",
    "prime    = np.zeros(maxnum)\n",
    "prime[0] = 1\n",
    "\n",
    "maxi = int(np.floor(np.sqrt(maxnum)))\n",
    "for ipos in range(1,maxi):\n",
    "    if (prime[ipos]==0):\n",
    "        inum   = ipos+1\n",
    "        maxj = int(np.floor(maxnum/inum)) \n",
    "        \n",
    "        for j in range(2,maxj+1):\n",
    "            imult = inum*j\n",
    "            prime[imult-1] = 1\n",
    "\n",
    "nprime = 0\n",
    "for ipos in range(maxnum):\n",
    "    if (prime[ipos]==0):\n",
    "        nprime += 1\n",
    "        print(\"%4i\" %(ipos+1))\n",
    "        \n",
    "print (\"# primos encontrados \", nprime)"
   ]
  },
  {
   "cell_type": "markdown",
   "metadata": {},
   "source": [
    "#### Explicación\n",
    "\n",
    "El programa comienza definiendo un arreglo `prime` lleno de ceros\n",
    "```\n",
    "maxnum = 100\n",
    "prime  = np.zeros(maxnum)\n",
    "```\n",
    "\n",
    "Para eliminar números que no sean primos, usa dos loops, el primero\n",
    "```\n",
    "for i in range(2,max1+1):\n",
    "``` \n",
    "que mira los posibles números 2, 3, 4, 5,...,10. Si el número no ha sido multiplo de ningún número anterior\n",
    "```\n",
    "if (prime[i-1]==0):  \n",
    "```\n",
    "se realiza otro loop, en el que se multiplica ese número por 2, 3, 4, 5, etc. para eliminar todos sus posibles múltiplos. \n",
    "```\n",
    "for j in range(2,max2+1):\n",
    "   prime[i*j-1] = 1 \n",
    "```\n",
    "esto se hace con `i*j`. Recuerde que Python empieza el conteo con `i=0`, por eso se escribe `i*j-1`.\n",
    "\n",
    "Las variables `max1` y `max2` se definen para no tener multiplos mayores a `maxnum=100`.\n"
   ]
  },
  {
   "cell_type": "markdown",
   "metadata": {},
   "source": [
    "### Hágalo Ud. mismo\n",
    "\n",
    "#### Números primos V2.0\n",
    "\n",
    "La versión anterior de la busqueda de números primos funciona bastante bien. **Sin embargo tiene una desventaja**. Si uno no quiere los primos hasta el 100, sino hasta el 1000? Tendría 168 primos (verifique con su código), e imprimiría muchas líneas y sería difícil de mirar el resultado. \n",
    "\n",
    "Cree una función propia, que use el mismo código anterior, pero que como resultado devuelva un vector con los números enteros primos.  \n"
   ]
  },
  {
   "cell_type": "code",
   "execution_count": 4,
   "metadata": {},
   "outputs": [],
   "source": [
    "def primos_vector(maxnum):\n",
    "    \"\"\"\n",
    "    prime_vector(maxnum)\n",
    "    Función que busca números primos entre 2 y maxnum, \n",
    "    y los ubica en un arreglo. El programa es muy lento si \n",
    "    se buscan primos muy grandes.\n",
    "    Entradas: \n",
    "       maxnum - entero, busqueda de primos hasta maxnum\n",
    "\n",
    "    Salidas: \n",
    "       pvec   - vector con números primos, en orden\n",
    "       nprime - primos encontrados \n",
    "    \"\"\"\n",
    "    import numpy as np\n",
    "    \n",
    "    prime    = np.zeros(maxnum,dtype=int)\n",
    "    prime[0] = 1 \n",
    "\n",
    "    max1 = int(np.floor(np.sqrt(maxnum)))\n",
    "    for ipos in range(1,max1):\n",
    "        if (prime[ipos]==0):\n",
    "            inum   = ipos+1\n",
    "            max2 = int(np.floor(maxnum/inum)) \n",
    "            for j in range(2,max2+1):\n",
    "                imult = inum*j\n",
    "                prime[imult-1] = 1\n",
    "                \n",
    "    # número de primos, y crear vector\n",
    "    nprime = np.count_nonzero(prime==0)\n",
    "    pvec   = np.zeros(nprime,dtype=int)\n",
    "    pcnt = 0\n",
    "    for ipos in range(maxnum):\n",
    "        if (prime[ipos]==0):\n",
    "            pcnt = pcnt + 1\n",
    "            inum = ipos + 1\n",
    "            pvec[pcnt-1] = inum\n",
    "    \n",
    "    return pvec,nprime"
   ]
  },
  {
   "cell_type": "code",
   "execution_count": 5,
   "metadata": {},
   "outputs": [
    {
     "name": "stdout",
     "output_type": "stream",
     "text": [
      "# primos encpontrados  168\n",
      "[  2   3   5   7  11  13  17  19  23  29  31  37  41  43  47  53  59  61\n",
      "  67  71  73  79  83  89  97 101 103 107 109 113 127 131 137 139 149 151\n",
      " 157 163 167 173 179 181 191 193 197 199 211 223 227 229 233 239 241 251\n",
      " 257 263 269 271 277 281 283 293 307 311 313 317 331 337 347 349 353 359\n",
      " 367 373 379 383 389 397 401 409 419 421 431 433 439 443 449 457 461 463\n",
      " 467 479 487 491 499 503 509 521 523 541 547 557 563 569 571 577 587 593\n",
      " 599 601 607 613 617 619 631 641 643 647 653 659 661 673 677 683 691 701\n",
      " 709 719 727 733 739 743 751 757 761 769 773 787 797 809 811 821 823 827\n",
      " 829 839 853 857 859 863 877 881 883 887 907 911 919 929 937 941 947 953\n",
      " 967 971 977 983 991 997]\n"
     ]
    }
   ],
   "source": [
    "# primos2.py\n",
    "\n",
    "primes,nprime = primos_vector(1000)\n",
    "\n",
    "print (\"# primos encpontrados \", nprime)\n",
    "print (primes)"
   ]
  },
  {
   "cell_type": "markdown",
   "metadata": {},
   "source": [
    "La ventaje de imprimir el arreglo `primes` es que Python automáticamente despliega el arreglo con varias filas y columnas. Así se puede ver de manera sencilla los números primos. \n",
    "\n",
    "Intente desplegar el resultado aumentando el número máximo (después de 1 millón, el programa puede ser muy lento). "
   ]
  },
  {
   "cell_type": "markdown",
   "metadata": {},
   "source": [
    "## Uso de arreglos\n",
    "Los valores de un arreglo se pueden asignar uno a la vez o todos a la vez con comandos \n",
    "sencillos, como en el siguiente programa:"
   ]
  },
  {
   "cell_type": "code",
   "execution_count": 16,
   "metadata": {},
   "outputs": [
    {
     "name": "stdout",
     "output_type": "stream",
     "text": [
      "x =  [1 2 3]\n",
      "y =  [1. 1. 1.]\n",
      "z =  [2. 2. 2.]\n",
      "\n",
      "x =  [ 1 15  3]\n",
      "y =  [2. 2. 2.]\n",
      "z =  [1. 1. 1.]\n"
     ]
    }
   ],
   "source": [
    "# testarreglos.py\n",
    "# Programa que muestra como generar arreglos\n",
    "#\n",
    "import numpy as np\n",
    "\n",
    "x = np.array([1, 2, 3])\n",
    "y = np.ones(3)\n",
    "z = np.ones(3)*2\n",
    "\n",
    "# Imprima los tres arreglos\n",
    "print ('x = ',x)\n",
    "print ('y = ',y)\n",
    "print ('z = ',z)\n",
    "\n",
    "# Asigne algunos valores\n",
    "x[1] = 15\n",
    "y[:] = 2\n",
    "z = z-1\n",
    "\n",
    "# Imprima otra vez arreglos\n",
    "print('')\n",
    "print('x = ',x)\n",
    "print('y = ',y)\n",
    "print('z = ',z)"
   ]
  },
  {
   "cell_type": "markdown",
   "metadata": {},
   "source": [
    "#### Explicación:\n",
    "\n",
    "Note que cuando un arreglo se le asigna un solo valor, cada elemento del arreglo toma ese valor(`y[:] = 2`), pero tenga cuidado ya que si Ud ejecuta `y = 2` el resultado no es un arreglo, es sólo una variable. Ud habrá reemplazado el arreglo con una variable sencilla `y`.\n",
    "\n",
    "Para cambiar el valor de un elemento, se utiliza x[1]=15, que cambia el valor en la posición `1` del arreglo (es decir, el segundo número, recuerde Python empieza con cero). Tenga en cuenta que la posición dentro del vector o matriz, debe coincidir con el tamaño del arreglo. Si se usa una posición mayor a la disponible, Python genera un error.\n"
   ]
  },
  {
   "cell_type": "markdown",
   "metadata": {},
   "source": [
    "### Hágalo Ud. mismo\n",
    "\n",
    "El programa `prime2.py` muestra el resultados de números primos hasta el 1000. Pero que hacemos si queremos \n",
    "imprimir los números en 10 columnas. \n",
    "\n",
    "Busque una mejor manera de imprimir el resultado. \n"
   ]
  },
  {
   "cell_type": "code",
   "execution_count": 17,
   "metadata": {
    "scrolled": true
   },
   "outputs": [
    {
     "name": "stdout",
     "output_type": "stream",
     "text": [
      "# primos encpontrados  168\n",
      "   3   5   7  11  13  17  19  23  29  31\n",
      "  37  41  43  47  53  59  61  67  71  73\n",
      "  79  83  89  97 101 103 107 109 113 127\n",
      " 131 137 139 149 151 157 163 167 173 179\n",
      " 181 191 193 197 199 211 223 227 229 233\n",
      " 239 241 251 257 263 269 271 277 281 283\n",
      " 293 307 311 313 317 331 337 347 349 353\n",
      " 359 367 373 379 383 389 397 401 409 419\n",
      " 421 431 433 439 443 449 457 461 463 467\n",
      " 479 487 491 499 503 509 521 523 541 547\n",
      " 557 563 569 571 577 587 593 599 601 607\n",
      " 613 617 619 631 641 643 647 653 659 661\n",
      " 673 677 683 691 701 709 719 727 733 739\n",
      " 743 751 757 761 769 773 787 797 809 811\n",
      " 821 823 827 829 839 853 857 859 863 877\n",
      " 881 883 887 907 911 919 929 937 941 947\n",
      " 953 967 971 977 983 991 997\n"
     ]
    }
   ],
   "source": [
    "# primos3.py\n",
    "\n",
    "primes,nprime = primos_vector(1000)\n",
    "\n",
    "print (\"# primos encpontrados \", nprime)\n",
    "\n",
    "nprint = 0\n",
    "for i in range(1,nprime):\n",
    "      nprint = nprint + 1\n",
    "      if (nprint%10==0 ):\n",
    "         print (\"%4i\" % (primes[i]))\n",
    "      else:\n",
    "         print (\"%4i\" % (primes[i]),end=\"\")\n",
    "print('')"
   ]
  },
  {
   "cell_type": "markdown",
   "metadata": {},
   "source": [
    "El comando\n",
    "\n",
    "``print (\"%4i\" % (primes[i]),end=\"\")``\n",
    "\n",
    "hace lo mismo que el comando `print` pero no genera un salto de linea. El código\n",
    "simplemente revisa si ya se han imprimido 10 números primos (con el contador\n",
    "`nprint`), y permite que se salta la línea.\n"
   ]
  },
  {
   "cell_type": "markdown",
   "metadata": {},
   "source": [
    "## Arreglos 2D\n",
    "\n",
    "Arreglos en 2 o mas dimensiones se pueden generar en Python utilizando `NumPy`. \n",
    "Abajo un programa que muestra algunas características de arreglos en 2D:\n"
   ]
  },
  {
   "cell_type": "code",
   "execution_count": 30,
   "metadata": {},
   "outputs": [
    {
     "name": "stdout",
     "output_type": "stream",
     "text": [
      "Empty Y \n",
      "[[4.9e-324 9.9e-324 1.5e-323]\n",
      " [2.0e-323 2.5e-323 3.0e-323]]\n",
      "Zeros X\n",
      "[[0 0 0]\n",
      " [0 0 0]]\n",
      "X unidades\n",
      "[[1 2 3]\n",
      " [4 5 6]]\n",
      "X mas 1\n",
      "[[2 3 4]\n",
      " [5 6 7]]\n",
      "Matriz compleja\n",
      "[[1.+0.j 2.+0.j]\n",
      " [3.+0.j 4.+0.j]]\n"
     ]
    }
   ],
   "source": [
    "# testmatriz.py\n",
    "# programa con algunos ejemplos de matrices 2D\n",
    "#\n",
    "import numpy as np\n",
    "\n",
    "y = np.empty([2, 3])\n",
    "print('Empty Y float ')\n",
    "print(y)\n",
    "\n",
    "x = np.zeros([2,3],dtype=int)\n",
    "print('Zeros X enteros')\n",
    "print(x)\n",
    "\n",
    "x[0,:] = [1, 2, 3]\n",
    "x[1,:] = [4, 5, 6]\n",
    "print('X unidades')\n",
    "print (x)\n",
    "\n",
    "x = x + 1\n",
    "print('X mas 1')\n",
    "print(x)\n",
    "\n",
    "c = np.array( [ [1,2], [3,4] ], dtype=complex )\n",
    "print('Matriz compleja')\n",
    "print(c)\n"
   ]
  },
  {
   "cell_type": "markdown",
   "metadata": {},
   "source": [
    "## Aritmética con Arreglos\n",
    "\n",
    "La ventaja de utilizar los arreglos con `NumPy` es que adicional a guardar los datos en un formato de arreglos, se pueden realizar operaciones matriciales con ellos. Python permite realizar operaciones en vectores y matrices utilizando comandos propios sin la necesidad de realizar la aritmética uno mismo. Abajo un ejemplo sencillo de algunas operaciones con vectores."
   ]
  },
  {
   "cell_type": "code",
   "execution_count": 8,
   "metadata": {},
   "outputs": [
    {
     "name": "stdout",
     "output_type": "stream",
     "text": [
      "a     =  [1. 2. 3. 4. 5.]\n",
      "a + 1 =  [2. 3. 4. 5. 6.]\n",
      "2 * a =  [ 2.  4.  6.  8. 10.]\n",
      "a * a =  [ 1.  4.  9. 16. 25.]\n",
      "\n",
      "sqrt(a) =  [1.         1.41421356 1.73205081 2.         2.23606798]\n",
      "sin(a) =  [ 0.84147098  0.90929743  0.14112001 -0.7568025  -0.95892427]\n",
      "exp(a) =  [  2.71828183   7.3890561   20.08553692  54.59815003 148.4131591 ]\n",
      "\n",
      "a =  [1. 2. 3. 4. 5.]\n",
      "b =  [2. 2. 2. 2. 2.]\n",
      "a + b =  [3. 4. 5. 6. 7.]\n",
      "a * b =  [ 2.  4.  6.  8. 10.]\n",
      "\n",
      "sum(a) =  15.0\n",
      "a con dos ceros al final [1. 2. 3. 0. 0.]\n",
      "a dot b =  12.0\n",
      "\n",
      "Media Cuadrática\n",
      "RMS =   4.94 \n"
     ]
    }
   ],
   "source": [
    "\"\"\"\n",
    "vectormath.py\n",
    " Programa mostrando operaciones aritméticas\n",
    " con arreglos en Python\n",
    "\"\"\"\n",
    "import numpy as np\n",
    "\n",
    "a = np.array( [1., 2., 3., 4., 5.] )\n",
    "b = np.ones(5)*2\n",
    "\n",
    "print(\"a     = \", a)\n",
    "\n",
    "c = a + 1\n",
    "print(\"a + 1 = \", c)\n",
    "\n",
    "c = 2 * a\n",
    "print(\"2 * a = \", c)\n",
    "\n",
    "c = a * a\n",
    "print(\"a * a = \", c)\n",
    "\n",
    "print('')\n",
    "c = np.sqrt(a)\n",
    "print(\"sqrt(a) = \", c)\n",
    "\n",
    "c = np.sin(a)\n",
    "print(\"sin(a) = \", c)\n",
    "\n",
    "c = np.exp(a)\n",
    "print(\"exp(a) = \", c)\n",
    "\n",
    "print('')\n",
    "print(\"a = \", a)\n",
    "print(\"b = \", b)\n",
    "\n",
    "c = a + b\n",
    "print(\"a + b = \", c)\n",
    "\n",
    "c = a * b\n",
    "print(\"a * b = \", c)\n",
    "\n",
    "print('')\n",
    "x = np.sum(a)\n",
    "print(\"sum(a) = \", x)\n",
    "\n",
    "c = a\n",
    "c[3:5] = 0.0\n",
    "print (\"a con dos ceros al final\", c )\n",
    "\n",
    "x = np.dot(a,b)\n",
    "print (\"a dot b = \", x)\n",
    "\n",
    "print('\\nMedia Cuadrática')\n",
    "rms = np.sqrt(np.sum((a-np.sum(a))**2)/len(a))\n",
    "print (\"rms = %6.2f \" %(rms))"
   ]
  },
  {
   "cell_type": "markdown",
   "metadata": {},
   "source": [
    "Operaciones con matrices (transpuestas, producto punto, multiplicación matricial, etc.) también están disponibles en `np`. Abajo algunos ejemplos:\n"
   ]
  },
  {
   "cell_type": "code",
   "execution_count": 51,
   "metadata": {},
   "outputs": [
    {
     "name": "stdout",
     "output_type": "stream",
     "text": [
      "Matrix a\n",
      "[[-5.1  3.8  4.2]\n",
      " [ 9.7  1.3 -1.3]]\n",
      "Matrix b\n",
      "[[ 9.4 -5.1]\n",
      " [-6.2  3.3]\n",
      " [ 0.5 -2.2]]\n",
      "matmul(a,b)\n",
      "[[-69.4   29.31]\n",
      " [ 82.47 -42.32]]\n",
      "matmul(b,a)\n",
      "[[-97.41  29.09  46.11]\n",
      " [ 63.63 -19.27 -30.33]\n",
      " [-23.89  -0.96   4.96]]\n",
      "Valor max de a  9.7\n",
      "Posición del max of a (1, 0)\n",
      "Max(a) con su posición 9.7\n",
      "Matrix a + transpose(b)\n",
      "[[ 4.3 -2.4  4.7]\n",
      " [ 4.6  4.6 -3.5]]\n",
      "a shape  (2, 3)\n",
      "b shape  (3, 2)\n",
      "a size   6\n",
      "b size   6\n"
     ]
    }
   ],
   "source": [
    "# matrixmath.py\n",
    "# Operaciones matriciales en Python\n",
    "#\n",
    "import numpy as np\n",
    "\n",
    "a = np.array( [[ -5.1, 3.8, 4.2 ], \\\n",
    "              [ 9.7, 1.3, -1.3]] )\n",
    "\n",
    "b = np.empty( [3,2])\n",
    "b[:, 0] = [9.4, -6.2, 0.5 ]\n",
    "b[:, 1] = [-5.1, 3.3, -2.2]\n",
    "\n",
    "print(\"Matrix a\")\n",
    "print(a)\n",
    "print(\"Matrix b\")\n",
    "print(b)\n",
    "\n",
    "c = np.matmul(a, b) \n",
    "print (\"matmul(a,b)\")\n",
    "print (c)\n",
    "\n",
    "c = np.matmul(b,a)\n",
    "print (\"matmul(b,a)\")\n",
    "print (c)\n",
    "\n",
    "print(\"Valor max de a \", np.amax(a))\n",
    "loc2 = np.argmax(a)\n",
    "loc1 = np.unravel_index(loc2, np.shape(a))\n",
    "print(\"Posición del max of a\", loc1)\n",
    "print(\"Max(a) con su posición\", a[loc1])\n",
    "\n",
    "c = a + np.transpose(b)\n",
    "print(\"Matrix a + transpose(b)\")\n",
    "print(c)\n",
    "\n",
    "print(\"a shape \", np.shape(a))\n",
    "print(\"b shape \", np.shape(b))\n",
    "\n",
    "print(\"a size  \", np.size(a))\n",
    "print(\"b size  \", np.size(b))\n"
   ]
  },
  {
   "cell_type": "markdown",
   "metadata": {},
   "source": [
    "Arriba se demuestra las función de {\\tt np} como {\\tt matmul}, {\\tt amax} y {\\tt argmax}, la transpuesta de una matriz y su tamaño. Note que {\\tt matmul(a,b)} es una multiplicación de matrices, no la multiplicación de los elementos de la matriz como resultado de {\\tt a*b}. \n",
    "\n",
    "Es importante notar que multiplicar {\\tt matmul(a,b)} es correcto dado que las dimensiones son {\\tt (2,3)} y {\\tt (3,2)}. El caso contrario, tambien es posible. Si las dimensiones de las matrices no lo permiten, Python genera un error. \n",
    "\n",
    "La función `np.argmax` reporte el índice del valores máximo dentro de una matriz (reporte el primer valor máximo), pero no reporta la posición del elemento en 2D, sólo la posición dentro de la matriz de acuerdo al orden de lectura. Para obtener los dos parámetros (posición en fila y columna), se utiliza `loc1 = np.unravel\\_index(loc2, np.shape(a))`. \n",
    "\n",
    "Como es de esperarse, hay funciones para {\\tt amin} y {\\tt argmin} para determinar el valor mínimo de la matriz y su posición. La página de referencia para todas las funciones en {\\tt NumPy} se encuentra en el <a href=\"https://docs.scipy.org/doc/numpy/reference/\" target=\"_blank\">link</a>.\n"
   ]
  },
  {
   "cell_type": "code",
   "execution_count": 52,
   "metadata": {},
   "outputs": [
    {
     "data": {
      "text/plain": [
       "2"
      ]
     },
     "execution_count": 52,
     "metadata": {},
     "output_type": "execute_result"
    }
   ],
   "source": [
    "len(np.shape(a))"
   ]
  },
  {
   "cell_type": "code",
   "execution_count": 56,
   "metadata": {},
   "outputs": [
    {
     "name": "stdout",
     "output_type": "stream",
     "text": [
      "(5, 1)\n",
      "2\n"
     ]
    }
   ],
   "source": [
    "s = np.zeros([5,1])\n",
    "print(np.shape(s))\n",
    "print(len(np.shape(s)))"
   ]
  },
  {
   "cell_type": "markdown",
   "metadata": {},
   "source": [
    "## Arreglos en funciones\n",
    "\n",
    "Como ya se pudo corroborar, en la función `primos_vector` la función puede dar como resultado un arreglo. También puede recibir uno y hacer algo con él. \n",
    "\n",
    "Suponga que Ud. quiere analizar los datos dentro de un arreglo \n",
    "```\n",
    "x = np.array( [1 , 2, ..., 100])\n",
    "```\n",
    "con 100 elementos. Para mejorar la legibilidad de su código, esto lo quiere hacer dentro de una función en Python\n",
    "```\n",
    "x2,xsum = analisis(x)\n",
    "```\n",
    "donde se envía el vector 'x', y se obtiene de vuelta otro vector 'x2' y otras variables 'xsum'. En este caso, todos los valores del arreglo estarán disponibles dentro de la función. "
   ]
  },
  {
   "cell_type": "markdown",
   "metadata": {},
   "source": [
    "### Hágalo Ud. mismo\n",
    "\n",
    "Genere una función, que recibe un arreglo (una sola dimensión), \n",
    "y devuelve el vector pero con el promedio\n",
    "corregido, el promedio original y la varianza. "
   ]
  },
  {
   "cell_type": "code",
   "execution_count": 82,
   "metadata": {},
   "outputs": [],
   "source": [
    "def arr_trab(x):\n",
    "   \"\"\" \n",
    "   Función para análisis de unos datos en vector\n",
    "   Input: x     = array of given size, with numbers\n",
    "          n     = size of the array\n",
    "   Output y     = demeaned array\n",
    "          x_mu  = valor promedio de x\n",
    "          y_var = variance of array\n",
    "   \"\"\"\n",
    "   import numpy as np\n",
    "\n",
    "   n     = np.size(x)\n",
    "   x_mu  = np.mean(x)\n",
    "   y     = x-x_mu\n",
    "   y_var = np.var(y)\n",
    "\n",
    "   return y,x_mu,y_var\n"
   ]
  },
  {
   "cell_type": "markdown",
   "metadata": {},
   "source": [
    "Evalue si su función está haciendo el trabajo bien."
   ]
  },
  {
   "cell_type": "code",
   "execution_count": 87,
   "metadata": {},
   "outputs": [
    {
     "name": "stdout",
     "output_type": "stream",
     "text": [
      "Arreglo original \n",
      "[19.74788005 26.44167912 24.13886532 26.85581016 23.78583781]\n",
      "Arreglo corregido (demeaned)\n",
      "[-4.44613444  2.24766463 -0.05514917  2.66179566 -0.40817668]\n",
      "Prom(x) =  24.194014492914697\n",
      "Var(x)  =  6.414982704558334\n"
     ]
    }
   ],
   "source": [
    "# array2fun.py\n",
    "import numpy as np\n",
    "\n",
    "mu    = 25\n",
    "sigma = 3.0 \n",
    "a = np.random.normal(mu,sigma,5)\n",
    "n = np.size(a)\n",
    "print('Arreglo original ')\n",
    "print (a)\n",
    "\n",
    "[b,x_mean,x_var] = arr_trab(a)\n",
    "\n",
    "print('Arreglo corregido (demeaned)')\n",
    "print(b)\n",
    "\n",
    "print(\"Prom(x) = \",x_mean)\n",
    "print(\"Var(x)  = \",x_var)"
   ]
  },
  {
   "cell_type": "markdown",
   "metadata": {},
   "source": [
    "# Tsunamis\n",
    "\n",
    "Los tsunamis pueden ser generados por diferentes procesos geológicos \n",
    "como terremotos, erupciones volcánicas o movimientos en masa submarinos. \n",
    "El comportamiento de estas *grandes olas* es diferente al de las olas \n",
    "generadas por los vientos ya que su longitud de onda $L$ es mayor a la profundidad del océano. La velocidad de propagación de este tipo de olas es:\n",
    "$$\n",
    "V = \\sqrt(gD)\n",
    "$$\n",
    "donde $g$ es la aceleración de la gravedad y $D$ la profundidad del océano. Note que en este caso la velocidad no depende de la longitud de onda $L$. \n",
    "\n",
    "La longitud de onda y velocidad están relacionadas según\n",
    "$$\n",
    "L = VT\n",
    "$$\n",
    "donde $T$ es el periodo de la onda. \n",
    "\n",
    "Las grandes longitudes de onda de los tsunamis hace que la pérdida de energía sea muy baja. Cuando el tsunami se acerca a la costa, con profundidades menores sufre cambios. La velocidad de propagación se hace menor y el tsunami es más lento pero el flujo de energía ($F$) permanece constante: \n",
    "$$\n",
    "F = VE = \\frac{1}{8} \\rho g h^2 V\n",
    "$$\n",
    "donde $E$ es la energía de la onda, $h$ la altura de la ola y $\\rho$ la densidad del agua (~1 kg/$m^3$). Esto implica que la altura de la ola debe aumentar. \n",
    "\n",
    "El siguiente programa calcula la velocidad de propagación de un tsunami en mar abierto (prof =5 km). El periodo de la onda es de 30 minutos y su altura inicial es de 1 m. Asumiendo que la disipación de energía es pequeña (flujo de energía constante), el programa también calcula la velocidad, longitud de onda y altura de la ola a medida que se acerca a aguas más someras. "
   ]
  },
  {
   "cell_type": "code",
   "execution_count": 75,
   "metadata": {},
   "outputs": [
    {
     "name": "stdout",
     "output_type": "stream",
     "text": [
      "Para un tsunami\n",
      "   Prof. del océano  = 5000.0 m\n",
      "   Periodo           = 30.0 min\n",
      "   Altura Ola (h)    =  1.0 m\n",
      "\n",
      "Velocidad (V)    = 796.9 km/h\n",
      "Long de Onda (L) = 398.4 km\n",
      "\n",
      "Prof(m)  V(km/s)  L(km)   h(m)\n",
      "   2000    504.0  252.0    1.3\n",
      "   1000    356.4  178.2    1.5\n",
      "    500    252.0  126.0    1.8\n",
      "    100    112.7   56.3    2.7\n",
      "     50     79.7   39.8    3.2\n",
      "     25     56.3   28.2    3.8\n",
      "     10     35.6   17.8    4.7\n"
     ]
    }
   ],
   "source": [
    "# tsunami.py\n",
    "# Velocidad de onda de tsunami\n",
    "import numpy as np\n",
    "\n",
    "g     = 9.8  # m/s\n",
    "depth = 5000 # m\n",
    "T     = 1800 # s, 30 min\n",
    "h     = 1    # m wave height\n",
    "rho   = 1    # kg/m3\n",
    "\n",
    "V = np.sqrt(g*depth)\n",
    "L = V*T\n",
    "\n",
    "F = 1/8 * g * V * rho * h**2\n",
    "\n",
    "print('Para un tsunami')\n",
    "print('   Prof. del océano  = %4.1f m' %depth)\n",
    "print('   Periodo           = %4.1f min' %(T/60))\n",
    "print('   Altura Ola (h)    = %4.1f m' %(h))\n",
    "print('')\n",
    "\n",
    "print('Velocidad (V)    = %4.1f km/h'%(V/1000*3600))\n",
    "print('Long de Onda (L) = %4.1f km' %(L/1000))\n",
    "\n",
    "# Asuma que no hay perdida de energía (E_k es constante)\n",
    "# y el periodo de la onda no cambia\n",
    "# calcule la velocidad, longitud de onda y altura \n",
    "# de la ola para una playa \n",
    "# de 25 m de profundidad.\n",
    "\n",
    "depth = np.array((2000,1000,500,100,50,25,10))\n",
    "V     = np.sqrt(g*depth)\n",
    "L     = V*T\n",
    "h     = np.sqrt(8*F/(V * rho * g))\n",
    "\n",
    "\n",
    "ndep = len(depth)\n",
    "print('')\n",
    "print('Prof(m)  V(km/s)  L(km)   h(m)')\n",
    "for i in range(ndep):\n",
    "    print('   %4i    %5.1f  %5.1f  %5.1f' \n",
    "          %(depth[i],V[i]/1000*3600,L[i]/1000,h[i]))\n",
    "    \n"
   ]
  },
  {
   "cell_type": "markdown",
   "metadata": {},
   "source": [
    "## Arreglos de caracteres\n",
    "\n",
    "Las cadenas de caracteres (strings) son uno de los tipos más comunes en Python. Se pueden crear simplemente al encerrarlos en comillas (dobles o sencillas). Como ya lo vimos al comienzo, una variable puede ser asigada un ` string`. Note que todo lo que esté entre comillas va a pertenecer al `string`, incluidos los espacios en blanco. \n",
    "Para determinar el número de caracteres en un `string` "
   ]
  },
  {
   "cell_type": "code",
   "execution_count": 9,
   "metadata": {},
   "outputs": [
    {
     "name": "stdout",
     "output_type": "stream",
     "text": [
      "12\n",
      "6\n"
     ]
    }
   ],
   "source": [
    "a = \"¡Hola World!\"\n",
    "b = \"Python\"\n",
    "print(len(a))\n",
    "print(len(b))\n"
   ]
  },
  {
   "cell_type": "markdown",
   "metadata": {},
   "source": [
    "Note que el número de caracteres incluye los espacios en blanco, \n",
    "sean en la mitad, al comienzo o al final. "
   ]
  },
  {
   "cell_type": "markdown",
   "metadata": {},
   "source": [
    "También es posible solicitar substrings, y crear nuevas variables concatenandolos. \n"
   ]
  },
  {
   "cell_type": "markdown",
   "metadata": {},
   "source": [
    "En Python, parece que asignar caracteres a una subparte de una variable no es posible. Esto no se puede\n",
    "```\n",
    "a[0:5] = 'Hollo'\n",
    ">>> TypeError: 'str' object does not support item assignment\n",
    "```\n"
   ]
  },
  {
   "cell_type": "markdown",
   "metadata": {},
   "source": [
    "#### Algunas operaciones con strings\n"
   ]
  },
  {
   "cell_type": "code",
   "execution_count": 11,
   "metadata": {},
   "outputs": [
    {
     "name": "stdout",
     "output_type": "stream",
     "text": [
      "¡Hola Python\n",
      "PythonPython\n",
      "¡Hola Mundo!\n",
      "-1\n",
      "   ¡Hola Mundo!Python  \n",
      "¡Hola Mundo!Python\n",
      "['¡Hola', 'Mundo!']\n"
     ]
    }
   ],
   "source": [
    "# char_oper.py\n",
    "# Operaciones de string de caracteres\n",
    "#\n",
    "\n",
    "a = \"¡Hola Mundo!\"\n",
    "b = \"Python\"\n",
    "\n",
    "c = a[0:6] + b # concatenation\n",
    "print(c)\n",
    "\n",
    "c = b*2 # Repetition\n",
    "print(c)\n",
    "\n",
    "print(a[:5],a[6:]) # Range Slice\n",
    "\n",
    "# Find characters\n",
    "i = a.find(\"ello\")\n",
    "print (i)\n",
    "\n",
    "# Remove blanks\n",
    "c = \"   \"+a+b+\"  \"\n",
    "print(c)\n",
    "d = c.strip()\n",
    "print(d)\n",
    "\n",
    "# Split string, with whitespace delimiter\n",
    "c = a.split()\n",
    "print(c)\n"
   ]
  },
  {
   "cell_type": "markdown",
   "metadata": {},
   "source": [
    "### Hágalo Ud. mismo\n",
    "Preguntar al usuario, que jugador de futbol es el mejor del mundo. Dependiendo de la respuesta, el programa debe comentar algo obvio. \n",
    "\n"
   ]
  },
  {
   "cell_type": "code",
   "execution_count": 17,
   "metadata": {},
   "outputs": [
    {
     "name": "stdout",
     "output_type": "stream",
     "text": [
      "¿Quién es el mejor jugador de fútbol de la historia? Cristiano\n",
      "El portugues me gusta pero, y ¿Pelé?\n"
     ]
    }
   ],
   "source": [
    "# futbol.py\n",
    "# Programa para interactuar con strings\n",
    "\n",
    "a = input(\"¿El mejor jugador de fútbol de la historia? \")\n",
    "\n",
    "if (a.find(\"onal\")>-1 or a.find(\"ich\")>-1 \n",
    "    or a.find(\"rist\")>-1):\n",
    "   print(\"El portugués me gusta pero, y ¿Pelé?\")\n",
    "elif (a.find(\"Leo\")>-1 or a.find(\"essi\")>-1):\n",
    "   print(\"Lo único que le falta es el Mundial\")\n",
    "elif (a.find(\"arad\")>-1 or a.find(\"iego\")>-1 or \n",
    "      a.find(\"rmand\")>-1 or a.find(\"elus\")>-1):\n",
    "   print(\"De acuerdo, el de la Mano de Dios\")\n",
    "else:\n",
    "   print(\"Claro, Pelé siempre será el mejor\")\n"
   ]
  },
  {
   "cell_type": "markdown",
   "metadata": {},
   "source": [
    "Observe que acá, se espera un conjunto de respuestas (Cristiano, Messi o  Maradona) para lo cual se responde de acuerdo a tres posibles juugadores, mientras que si el usuario pone una respuesta distinta, sólo se responde de una manera, no importa quién sea el jugador que puso el usuario, se asume que es Pelé.  "
   ]
  },
  {
   "cell_type": "markdown",
   "metadata": {},
   "source": [
    "## Arreglos de caracteres"
   ]
  },
  {
   "cell_type": "markdown",
   "metadata": {},
   "source": [
    "Como se mostró arriba, un `string` es simplemente una cadena de caracteres. Por lo tanto, un arreglo 1D de ` strings` sería en realidad un arreglo 2D. A diferencia de lo que se puede hacer en Fortran, en Python no es fácil crear arreglos de caracteres, y en cambio se usan listas `list`. \n",
    "\n",
    "Un ejemplo del uso de listas en Python:\n"
   ]
  },
  {
   "cell_type": "code",
   "execution_count": 20,
   "metadata": {},
   "outputs": [
    {
     "name": "stdout",
     "output_type": "stream",
     "text": [
      "Nombres en la lista:  8\n",
      "El 2do planeta del Sistema Solar es  Venus\n",
      "El primer planeta gaseoso es    Júpiter\n",
      "Plutón era considerado un planeta\n",
      "Nombres en la lista:  9\n"
     ]
    }
   ],
   "source": [
    "# lista_char.py\n",
    "# Uso de listas de strings de caracteres\n",
    "\n",
    "lista = ['Mercurio', 'Venus', 'Tierra','Marte',\n",
    "         'Júpiter', 'Saturno', 'Urano','Neptuno']\n",
    "print ('Nombres en la lista: ', len(lista))\n",
    "\n",
    "print(\"El 2do planeta del Sistema Solar es \", lista[1])\n",
    "print(\"El primer planeta gaseoso es   \", lista[4])\n",
    "\n",
    "lista.append(\"Plutón\")\n",
    "\n",
    "print(lista[-1], \"era considerado un planeta\")\n",
    "print ('Nombres en la lista: ', len(lista))"
   ]
  },
  {
   "cell_type": "markdown",
   "metadata": {},
   "source": [
    "**Nota:** La cantidad de caracteres en cada valor de una lista puede ser diferente. \n",
    "\n",
    "En Python se pueden utilizar algunos métodos sobre las listas (sean de caracteres o números o ambos). \n",
    "```\n",
    "list.append(elem) -- adiciona un elemento a la lista\n",
    "list.insert(index, elem) -- inserta un elemento, corre los \n",
    "                            demás a la derecha\n",
    "list.extend(list2) -- pega list2 a list. Se puede usar + o += \n",
    "list.index(elem) -- busqueda y posición de un elemento. Error si no existe. \n",
    "list.remove(elem) \n",
    "list.sort() \n",
    "list.reverse() \n",
    "list.pop(index) \n",
    "```\n"
   ]
  }
 ],
 "metadata": {
  "kernelspec": {
   "display_name": "Python 3 (ipykernel)",
   "language": "python",
   "name": "python3"
  },
  "language_info": {
   "codemirror_mode": {
    "name": "ipython",
    "version": 3
   },
   "file_extension": ".py",
   "mimetype": "text/x-python",
   "name": "python",
   "nbconvert_exporter": "python",
   "pygments_lexer": "ipython3",
   "version": "3.7.10"
  }
 },
 "nbformat": 4,
 "nbformat_minor": 4
}
