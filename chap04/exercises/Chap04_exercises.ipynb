{
 "cells": [
  {
   "cell_type": "markdown",
   "metadata": {},
   "source": [
    "# Capítulo 4 - Ejercicios"
   ]
  },
  {
   "cell_type": "markdown",
   "metadata": {},
   "source": [
    "### Ejercicio 1\n",
    "\n",
    "Modifique el programa del problema 3.6 para calcular la presión litosférica \n",
    "con una función propia dentro del programa.\n",
    "\n"
   ]
  },
  {
   "cell_type": "code",
   "execution_count": 36,
   "metadata": {},
   "outputs": [
    {
     "name": "stdout",
     "output_type": "stream",
     "text": [
      "Prof.  Presión (MPa)\n",
      "  0.0            0.0 \n",
      "  5.0          132.3 \n",
      " 10.0          264.6 \n",
      " 15.0          396.9 \n",
      " 20.0          529.2 \n",
      " 25.0          661.5 \n",
      " 30.0          793.8 \n",
      " 35.0          926.1 \n",
      " 40.0         1058.4 \n",
      " 45.0         1190.7 \n",
      " 50.0         1323.0 \n"
     ]
    }
   ],
   "source": [
    "# presión litosférica \n",
    "# con función interna\n",
    "\n",
    "def lithos_press(depth,rho=2700.):\n",
    "    import numpy as np\n",
    "\n",
    "    g   = 9.8    # m/s2\n",
    "    rho = 2700.0 # kg/m3\n",
    "    \n",
    "    P = g*rho*depth\n",
    "    \n",
    "    return P\n",
    "\n",
    "#------------------------------------\n",
    "# Main program\n",
    "#------------------------------------\n",
    "\n",
    "fmt = \"%5.1f %14.1f \"\n",
    "\n",
    "print('Prof.  Presión (MPa)')\n",
    "for i in range(11):\n",
    "   h = float(i)*5*1000  # depth(m)\n",
    "   P = lithos_press(h)        # Pascal\n",
    "   PMpa = P/1e6      # MPa\n",
    "   print(fmt %(h/1000 ,PMpa))\n"
   ]
  },
  {
   "cell_type": "markdown",
   "metadata": {},
   "source": [
    "### Ejercicio 2\n",
    "\n",
    "Modifique el programa del problema 3.6 para calcular calcular la presión litosférica con una función propia en un módulo propio. Ponga el módulo en el folder donde está trabajando.\n",
    "\n"
   ]
  },
  {
   "cell_type": "code",
   "execution_count": 1,
   "metadata": {},
   "outputs": [
    {
     "name": "stdout",
     "output_type": "stream",
     "text": [
      "Prof.  Presión (MPa)\n",
      "  0.0            0.0 \n",
      "  5.0          132.3 \n",
      " 10.0          264.6 \n",
      " 15.0          396.9 \n",
      " 20.0          529.2 \n",
      " 25.0          661.5 \n",
      " 30.0          793.8 \n",
      " 35.0          926.1 \n",
      " 40.0         1058.4 \n",
      " 45.0         1190.7 \n",
      " 50.0         1323.0 \n"
     ]
    }
   ],
   "source": [
    "# presión litosférica \n",
    "# con función en Modulo propio\n",
    "\n",
    "import clase.homework as hw\n",
    "fmt = \"%5.1f %14.1f \"\n",
    "\n",
    "print('Prof.  Presión (MPa)')\n",
    "for i in range(11):\n",
    "   h = float(i)*5*1000  # depth(m)\n",
    "   P = hw.lithos_press(h)        # Pascal\n",
    "   PMpa = P/1e6      # MPa\n",
    "   print(fmt %(h/1000 ,PMpa))\n"
   ]
  },
  {
   "cell_type": "markdown",
   "metadata": {},
   "source": [
    "### Ejercicio 3\n",
    "\n",
    "Cree un paquete (que puede llamar class, con los sub folders que Ud. desee \n",
    "para poner todas las rutinas del curso y que Ud. pueda utilizar en el futuro. "
   ]
  },
  {
   "cell_type": "code",
   "execution_count": 33,
   "metadata": {},
   "outputs": [
    {
     "name": "stdout",
     "output_type": "stream",
     "text": [
      "['/Users/gprieto/Dropbox/gprieto/classes/unal/geoinformatica/python/chap04/exercises', '/Users/gprieto/Dropbox/gprieto/classes/unal/geoinformatica/python/chap04/exercises', '/Users/gprieto/Dropbox/gprieto/python/Modules', '/Users/gprieto/Dropbox/gprieto/python/Modules/noisepy/src', '/Users/gprieto/opt/anaconda3/lib/python37.zip', '/Users/gprieto/opt/anaconda3/lib/python3.7', '/Users/gprieto/opt/anaconda3/lib/python3.7/lib-dynload', '', '/Users/gprieto/opt/anaconda3/lib/python3.7/site-packages', '/Users/gprieto/opt/anaconda3/lib/python3.7/site-packages/aeosa', '/Users/gprieto/opt/anaconda3/lib/python3.7/site-packages/IPython/extensions', '/Users/gprieto/.ipython']\n"
     ]
    }
   ],
   "source": [
    "import sys\n",
    "print(sys.path)"
   ]
  },
  {
   "cell_type": "markdown",
   "metadata": {},
   "source": [
    "### Ejercicio 4\n",
    "\n",
    "Cree una función propia (dentro de su **package** propio o dentro del programa) en Python que calcule el volumen y circunferencia de una esfera, si el usuario proporciona el radio. Haga un programa principal que solicite el radio al usuario, y haga que éste sea estable, que no acepte números negativos, y que imprima el resultado. \n"
   ]
  },
  {
   "cell_type": "code",
   "execution_count": 31,
   "metadata": {},
   "outputs": [],
   "source": [
    "def v_circf_sph(r):\n",
    "    \"\"\" V_CIRCF_SPH computes the volume and circumference of a sphere given its    \n",
    "    given its radius\n",
    "    \n",
    "    INPUTS      r         = radius\n",
    "    \n",
    "    OUTPUTS     vol       = Volume of the sphere\n",
    "                circf     = Circumference of the sphere\n",
    "    \"\"\"\n",
    "    \n",
    "    import numpy as np\n",
    "\n",
    "    pi = np.pi\n",
    "   \n",
    "    vol   = (4./3.)*pi*r**3\n",
    "    circf = 2.*pi*r\n",
    "\n",
    "    return [vol,circf] "
   ]
  },
  {
   "cell_type": "code",
   "execution_count": 32,
   "metadata": {},
   "outputs": [
    {
     "name": "stdout",
     "output_type": "stream",
     "text": [
      "Enter the radius (zero to end) 10\n",
      "Volume and Circumference = 4.19e+03 6.28e+01, \n",
      "Enter the radius (zero to end) 2\n",
      "Volume and Circumference = 3.35e+01 1.26e+01, \n",
      "Enter the radius (zero to end) 5\n",
      "Volume and Circumference = 5.24e+02 3.14e+01, \n",
      "Enter the radius (zero to end) 6371\n",
      "Volume and Circumference = 1.08e+12 4.00e+04, \n",
      "Enter the radius (zero to end) 0\n"
     ]
    }
   ],
   "source": [
    "# circunf.py\n",
    "# calcule el volumen y circunferencia\n",
    "# de una esfera, solicitando el radio\n",
    "# al usuario. \n",
    "\n",
    "r = 1.0\n",
    "while (r>0.0):\n",
    "   r = float(input(\"Enter the radius (zero to end) \"))\n",
    "\n",
    "   if (r==0):\n",
    "      break\n",
    "   elif (r < 0):\n",
    "      print(\"No negative values allowed\")\n",
    "      continue\n",
    "   \n",
    "   [vol,circf] = v_circf_sph(r)\n",
    "\n",
    "   print (\"Volume and Circumference = %7.2e %7.2e, \" % (vol, circf))\n",
    "\n",
    "\n",
    "# 10\n",
    "# 4.19e+03 6.28e+01, \n",
    "# 2\n",
    "# 3.35e+01 1.26e+01, \n",
    "# 5\n",
    "# 5.24e+02 3.14e+01, \n",
    "# 6371\n",
    "# 1.08e+12 4.00e+04, "
   ]
  },
  {
   "cell_type": "markdown",
   "metadata": {},
   "source": [
    "### Ejercicio 5\n",
    "\n",
    "Realmente los astronautas experimentan *gravedad cero*? La siguiente ecuación (asumiendo un planeta esféricamente simétrico) muestra la aceleración de la gravedad $g = a_G$ de una masa $m$ debido a la masa de la Tierra $M_E$ en función a la distancia $r$ con respecto al centro del planeta. La aceleración tiene dirección al centro de la Tierra. \n",
    "$$\n",
    "a_G = G \\frac{M}{r^2}\n",
    "$$\n",
    "Asumiendo la constante gravitacional es $G = 6.67430e-11$ y que la masa de la Tierra $M_E=5.972e24$ kg, usando **funciones propias en lo posible** calcule la aceleración en la superficie de la Tierra a 0, 10, 100, 1000, 10000 km de altura. También defina el porcentaje de aceleración para un astronatura a esas alturas, comparado con una persona en la superficie de la Tierra.  \n"
   ]
  },
  {
   "cell_type": "code",
   "execution_count": 25,
   "metadata": {},
   "outputs": [],
   "source": [
    "def grav_acel(alt):\n",
    "    \"\"\"\n",
    "    Calculo de la aceleración de la gravedad en función \n",
    "    de la altura sobre el nivel del mar. \n",
    "    Asume radio de la Tierra 6371 km.\n",
    "    \n",
    "    Entradas: \n",
    "       alt - altura sobre n.m, en km\n",
    "    Salidas:\n",
    "       a_g - aceleración de la gravedad, en m/s\n",
    "    \"\"\"\n",
    "    \n",
    "    R_E = 6371\n",
    "    G   = 6.67430e-11\n",
    "    M_E = 5.972e24\n",
    "    \n",
    "    r   = 1000* (R_E + alt)  # in meters\n",
    "    a_g = G*M_E/r**2\n",
    "\n",
    "    return a_g\n",
    "\n",
    "def comp_grav(alt1,alt2=0.0):\n",
    "    \"\"\"\n",
    "    Compare dos valores de aceleración de gravedad\n",
    "    a dos alturas distintas\n",
    "    Entradas:\n",
    "       alt1  - altura 1 (km)\n",
    "       alt2  - altura 2 (km), es el punto de referencia\n",
    "               (def - 0.0)\n",
    "    Salidas:\n",
    "       dgrav - relación entre dos gravedades\n",
    "    \n",
    "    Calls: \n",
    "       grav_acel\n",
    "    \"\"\"\n",
    "    \n",
    "    g1 = grav_acel(alt1)\n",
    "    g2 = grav_acel(alt2)\n",
    "\n",
    "    dgrav = g1/g2\n",
    "    \n",
    "    return dgrav\n",
    "    "
   ]
  },
  {
   "cell_type": "code",
   "execution_count": 26,
   "metadata": {},
   "outputs": [
    {
     "name": "stdout",
     "output_type": "stream",
     "text": [
      "Gravedad en superficie  9.8200\n",
      "Proporción a       1 km de altura =  0.9997\n",
      "Proporción a      10 km de altura =  0.9969\n",
      "Proporción a     100 km de altura =  0.9693\n",
      "Proporción a    1000 km de altura =  0.7471\n",
      "Proporción a   10000 km de altura =  0.1514\n",
      "Proporción a  100000 km de altura =  0.0036\n"
     ]
    }
   ],
   "source": [
    "# Gravity in space\n",
    "#\n",
    "\n",
    "import numpy as np\n",
    "\n",
    "g0 = grav_acel(0.0)\n",
    "print('Gravedad en superficie %7.4f' % (g0))\n",
    "\n",
    "for i in range(6):\n",
    "    alt1 = 10**(i)\n",
    "    dgrav = comp_grav(alt1)\n",
    "    print('Proporción a %7.0f km de altura = %7.4f' % (alt1,dgrav))"
   ]
  }
 ],
 "metadata": {
  "kernelspec": {
   "display_name": "Python 3",
   "language": "python",
   "name": "python3"
  },
  "language_info": {
   "codemirror_mode": {
    "name": "ipython",
    "version": 3
   },
   "file_extension": ".py",
   "mimetype": "text/x-python",
   "name": "python",
   "nbconvert_exporter": "python",
   "pygments_lexer": "ipython3",
   "version": "3.7.6"
  }
 },
 "nbformat": 4,
 "nbformat_minor": 4
}
