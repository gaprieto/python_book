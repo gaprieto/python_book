{
 "cells": [
  {
   "cell_type": "markdown",
   "metadata": {},
   "source": [
    "# Funciones del Usuario\n",
    "\n",
    "A medida que la longitud y complejidad de los programas de computador aumentan, se hace necesario dividir el problema en pequeñas partes (__divide and conquer__).\n",
    "\n",
    "Esto es una buena estrategia, hace el programa más modular y más _fácil_ de leer y entender (y de encontrar _bugs_). \n",
    "\n",
    "Esto lo podemos hacer creando __funciones__ dentro de Python, que hacer una parte del trabajo. Algunas ventajas de programar así:\n",
    "- Se puede evaluar parte o pedazos del código de manera individual, confirmar que está funcionando correctamente antes de terminar el programa completo. \n",
    "- El código es más modular y fácil de entender\n",
    "- Es más fácil usar partes del programa en otros programas (sin necesidad de copiar y pegar cada pedazo). "
   ]
  },
  {
   "cell_type": "code",
   "execution_count": 3,
   "metadata": {},
   "outputs": [
    {
     "name": "stdout",
     "output_type": "stream",
     "text": [
      "Guess my number between 1 and 1000: 500\n",
      "500  is too low.\n",
      "Guess again: 750\n",
      "750 is too high.\n",
      "Guess again: 625\n",
      "625  is too low.\n",
      "Guess again: 675\n",
      "675 is too high.\n",
      "Guess again: 750\n",
      "750 is too high.\n",
      "Guess again: 640\n",
      "640  is too low.\n",
      "Guess again: 645\n",
      "645  is too low.\n",
      "Guess again: 648\n",
      "648  is too low.\n",
      "Guess again: 649\n",
      "649  is too low.\n",
      "Guess again: 655\n",
      "655 is too high.\n",
      "Guess again: 652\n",
      "652  is too low.\n",
      "Guess again: 653\n",
      "\n",
      "Great, you got it in 12 guesses!\n"
     ]
    }
   ],
   "source": [
    "# adivine_entero.py\n",
    "# Juego donde el usuario adivina un número, \n",
    "# usando funciones\n",
    "#\n",
    "\n",
    "def guess_number(number):\n",
    "    \"\"\" Función para adivinar un número\n",
    "    Función del usuario que hace el trabajo de \n",
    "    interactuar con el usuario y evaluar si adivinó el número.\n",
    "    Entrada: number - un número, que el usuario no conoce\n",
    "\n",
    "    Salida: guesses - Número de intentos\n",
    "    \"\"\"\n",
    "    guess = int(input(\"Guess my number between 1 and 1000: \"))\n",
    "    guesses = 1 \n",
    "    \n",
    "    while guess != number:\n",
    "        guesses = guesses + 1\n",
    "        if guess > number:\n",
    "            print(guess, \"is too high.\") \n",
    "        elif guess < number:\n",
    "            print(guess, \" is too low.\")\n",
    "        guess = int(input(\"Guess again: \"))\n",
    "        \n",
    "    return guesses\n",
    "\n",
    "#-------------------------------------\n",
    "# El programa principal\n",
    "#-------------------------------------\n",
    "\n",
    "import random                      # Import the random module \n",
    "\n",
    "# Get random number between [1 and 1000)\n",
    "rnum = random.randrange(1, 1000) \n",
    "\n",
    "# Call function to play with the user\n",
    "nguess = guess_number(rnum)\n",
    "\n",
    "print(\"\\nGreat, you got it in\", nguess,  \"guesses!\")"
   ]
  },
  {
   "cell_type": "markdown",
   "metadata": {},
   "source": [
    "La función que creamos se llama `guess_number`, y se debe definir al principio del programa (en Notebooks, antes de ser usada). La función tiene la estructura:\n",
    "```\n",
    "def guess_number(number):\n",
    "    ...\n",
    "    return guesses\n",
    "```\n",
    "\n",
    "La variable de entrada `number`, funciona como un argumento de la función `guess_number`, y el resultado de la función se dá con la variables `guesses`. Note que debe usar `return guesses` para que el programa principal sepa que obtiene de vuelta al llamar la función. \n",
    "\n",
    "La función funciona como cualquier función que ya hemos usado, \n",
    "```\n",
    "asen = sin(theta)\n",
    "```\n",
    "y note que el nombre de la variable que le pongamos al resultado de llamar a la función __no__ tiene que ser el mismo que usa la función internamente. \n",
    "\n",
    "### Indentación sigue siendo importante\n",
    "Note que dentro de la función se requiere mantener la indentación. "
   ]
  },
  {
   "cell_type": "markdown",
   "metadata": {},
   "source": [
    "El programa principal llama a la función a través del comando\n",
    "```\n",
    "nguess = guess_number(rnum)\n",
    "```\n",
    "El valor que tiene la variable `rnum` es la que la funci´øn va a utilizar. Note que el nombre de la variable (de entrada y salida) de entrada en los argumentos de la función no tienen que ser iguales (`rnum - number`). \n",
    "\n",
    "#### Nota\n",
    "Tenga en cuenta que a diferencia de lo que pasa en otros languajes, si la variable de entrada es cambiada dentro de la función (`rnum` por ejemplo), esta variable __NO__ cambia en el programa principal (emn Fortran esto si pasaba). "
   ]
  },
  {
   "cell_type": "markdown",
   "metadata": {},
   "source": [
    "## Otro ejemplo\n",
    "\n",
    "El ejercicio del máximo común divisor (MCD) se puede separar en dos partes. La primera, encargada de la interacción con el usuario (pedirle los números, etc). La segunda, calcular el MCD. El último, lo podemos poner cpomo una función."
   ]
  },
  {
   "cell_type": "code",
   "execution_count": 4,
   "metadata": {},
   "outputs": [
    {
     "name": "stdout",
     "output_type": "stream",
     "text": [
      "Digite dos números enteros (ceros para parar) 3 2\n",
      "Máximo común divisor =  1\n",
      "Digite dos números enteros (ceros para parar) 7 21\n",
      "Máximo común divisor =  7\n",
      "Digite dos números enteros (ceros para parar) 9 24\n",
      "Máximo común divisor =  3\n",
      "Digite dos números enteros (ceros para parar) 923 1248\n",
      "Máximo común divisor =  13\n",
      "Digite dos números enteros (ceros para parar) 0 0\n"
     ]
    }
   ],
   "source": [
    "# gcf2.py\n",
    "# encuentre el máximo común divisor de dos números enteros\n",
    "# pero con una función\n",
    "\n",
    "def gcf(a,b):\n",
    "    amin = min(a,b)\n",
    "    for j in range(1,amin+1):\n",
    "        if (a%j==0 and b%j==0):\n",
    "            jmax = j\n",
    "    return jmax\n",
    "\n",
    "# Ahora, el programa principal\n",
    "\n",
    "for i in range(10):\n",
    "    intxt = input('Digite dos números enteros (ceros para parar) ')\n",
    "    a,b   = intxt.split()\n",
    "    a     = int(a)\n",
    "    b     = int(b)\n",
    "    if (a==0 and b==0):\n",
    "        break\n",
    "    mcd = gcf(a,b)\n",
    "\n",
    "    print (\"Máximo común divisor = \", mcd)"
   ]
  },
  {
   "cell_type": "markdown",
   "metadata": {},
   "source": [
    "Las variables `a` y `b` entran como argumentos a la función `gcf`, el resultado de la función es `jmax`. El número y la posición de las variables de entrada debe coincidir con los de la función, sin embargo el nombre de las variables no importa. "
   ]
  },
  {
   "cell_type": "markdown",
   "metadata": {},
   "source": [
    "## Funciones con múltiples salidas\n",
    "\n",
    "Las funciones anteriores tienen una utilidad limitada, ya que están diseñadas para regresar al programa una sóla variable como resultado. \n",
    "En muchos casos, se requiere que las funciones regresen varias variables como resultado de una función. En _fortran_ esto se haría con una subrutina, pero en Python se puede con el mismo concepto de funciones. \n",
    "\n",
    "Python puede _devolver_ las variables de salida de varias formas, incluyendo `listas`, `tuples`, etc. Para facilitar las cosas, en este curso vamos a utilizar `tuples`. "
   ]
  },
  {
   "cell_type": "markdown",
   "metadata": {},
   "source": [
    "## Distancias en la Tierra"
   ]
  },
  {
   "cell_type": "code",
   "execution_count": 1,
   "metadata": {},
   "outputs": [],
   "source": [
    "def sph_azi(flat1,flon1,flat2,flon2):\n",
    "   # SPH_AZI computes distance and azimuth between two points \n",
    "   # on the sphere\n",
    "   #\n",
    "   # Inputs: flat1 = latitude of first point (degrees)\n",
    "   #         flon2 = longitude of first point (degrees)\n",
    "   #         flat2 = latitude of second point (degrees)\n",
    "   #         flon2 = longitude of second point (degrees)\n",
    "   # \n",
    "   # Returns: del = angular separation between points (degrees)\n",
    "   #          azi = azimuth at 1st point to 2nd point, from N (deg.)\n",
    "   #\n",
    "   # Notes:\n",
    "   # (1) applies to geocentric not geographic lat,lon on Earth\n",
    "   #\n",
    "   # (2) This routine is accurate depending on the precision of the \n",
    "   # real numbers used. Python should be accurate to real(8) precision\n",
    "   # For greater accuracy, perform a separate calculation for close \n",
    "   # ranges using Cartesian geometry.\n",
    "   #\n",
    "\n",
    "   # import appropriate functions   \n",
    "   import math  as mt\n",
    "   import numpy as np\n",
    "   \n",
    "   if ( (flat1 == flat2 and flon1 == flon2) \n",
    "   or (flat1 == 90. and flat2 == 90.) \n",
    "   or (flat1 == -90. and flat2 == -90.) ): \n",
    "      delta = 0.\n",
    "      azi = 0.\n",
    "      return [delta,azi]\n",
    "\n",
    "   # Perform calculation\n",
    "   delta = 0.\n",
    "   azi   = 0.\n",
    "\n",
    "   raddeg=mt.pi/180.\n",
    "\n",
    "   theta1=(90.-flat1)*raddeg\n",
    "   theta2=(90.-flat2)*raddeg\n",
    "\n",
    "   phi1=flon1*raddeg\n",
    "   phi2=flon2*raddeg\n",
    "   \n",
    "   stheta1=mt.sin(theta1)\n",
    "   stheta2=mt.sin(theta2)\n",
    "   ctheta1=mt.cos(theta1)\n",
    "   ctheta2=mt.cos(theta2)\n",
    "\n",
    "   cang=stheta1*stheta2*mt.cos(phi2-phi1)+ctheta1*ctheta2\n",
    "   ang=mt.acos(cang)\n",
    "   delta=ang/raddeg\n",
    "\n",
    "   sang=mt.sqrt(1.-cang*cang)\n",
    "   caz=(ctheta2-ctheta1*cang)/(sang*stheta1)\n",
    "   saz=-stheta2*mt.sin(phi1-phi2)/sang\n",
    "   az=mt.atan2(saz,caz)\n",
    "   azi=az/raddeg\n",
    "\n",
    "   if (azi < 0.): \n",
    "      azi=azi+360.\n",
    "\n",
    "   return [delta, azi]\n"
   ]
  },
  {
   "cell_type": "code",
   "execution_count": 11,
   "metadata": {},
   "outputs": [
    {
     "name": "stdout",
     "output_type": "stream",
     "text": [
      "Enter 1st point lat/lon4.60 -74.08\n",
      "Enter 2nd point lat/lon40.71 -74.00\n",
      "del, azi =  36.11007160489428 0.10289785296377317\n",
      "Enter 1st point lat/lon4.60 -74.08\n",
      "Enter 2nd point lat/lon48.85 2.35\n",
      "del, azi =  77.6262475492864 40.910199240249156\n",
      "Enter 1st point lat/lon4.60 -74.08\n",
      "Enter 2nd point lat/lon-34.60 -58.37\n",
      "del, azi =  41.901431053188496 160.5049076126299\n",
      "Enter 1st point lat/lon0 0\n",
      "Enter 2nd point lat/lon0 0\n",
      "del, azi =  0.0 0.0\n"
     ]
    }
   ],
   "source": [
    "# \n",
    "#Start main code\n",
    "#\n",
    "\n",
    "lat1 = -1.\n",
    "lon1 = -1.\n",
    "lat2 = -1.\n",
    "lon2 = -1.\n",
    "while (lat1!=0. or lon1!=0. or lat2!=0. or lon2!=0.):\n",
    "    intxt = input('Enter 1st point lat/lon')\n",
    "    lat1,lon1 = intxt.split()\n",
    "    lat1 = float(lat1)\n",
    "    lon1 = float(lon1)\n",
    "    \n",
    "    intxt = input('Enter 2nd point lat/lon')\n",
    "    lat2,lon2 = intxt.split()\n",
    "    lat2 = float(lat2)\n",
    "    lon2 = float(lon2)\n",
    "    \n",
    "    delta,azi = sph_azi(lat1,lon1,lat2,lon2)\n",
    "    print('del, azi = ',delta, azi)\n",
    "    \n",
    "    "
   ]
  },
  {
   "cell_type": "markdown",
   "metadata": {},
   "source": [
    "En este caso, los valores de `lat/lon` son pasados a la función `sph_azi`, la cual devuelve las variables `delta` y `azi`. \n",
    "\n",
    "Es importante siempre intentar poner nombres a las funciones que sean claras y que no se repitan nombres de rutinas y variables de Python. \n",
    "\n",
    "## Ojo con la documentación\n",
    "La documentación de las funciones es _fundamental_. Debe ser claro que hace cada función, explicar las variables de entrada y salida, y si la rutina tiene problemas de precisión o cualquier otro problema o limitación es bueno documentarlo. \n",
    "\n",
    "Puede que la documentación de esta función parezca larga y tediosa, pero con el número de funciones que Uds. van a trabajar, este tipo de documentación es ideal. \n",
    "\n",
    "La documentación busca que Ud. o cualquier otra persona pueda utilizar la función correctamente sin necesidad de mirar el código. Por ejemplo, es claro que el azimuth es calculado del punto 1 al punto 2, y no al contrario. \n",
    "\n",
    "Por último, note que la función intenta ser robusta en casos patológicos, como cuando los dos puntos son iguales, o cuando están en los polos (distancia y azimuth es cero). \n"
   ]
  },
  {
   "cell_type": "markdown",
   "metadata": {},
   "source": [
    "# El _Path_\n",
    "Cuando Python busca módulos siguiendo el path predefinido en el sistema, incluyendo el directorio donde está corriendo Python en ese momento. Esto se puede encontrar usando los comandos:"
   ]
  },
  {
   "cell_type": "code",
   "execution_count": 3,
   "metadata": {},
   "outputs": [
    {
     "name": "stdout",
     "output_type": "stream",
     "text": [
      "['', '/Dropbox/Dropbox/gprieto/classes/unal/python/chap3', '/Dropbox/Dropbox/gprieto/python/Modules', '/Applications/MacPorts/paraview.app/Contents/Python', '/Applications/MacPorts/paraview.app/Contents/Libraries', '/Applications/anaconda3/lib/python36.zip', '/Applications/anaconda3/lib/python3.6', '/Applications/anaconda3/lib/python3.6/lib-dynload', '/Applications/anaconda3/lib/python3.6/site-packages', '/Applications/anaconda3/lib/python3.6/site-packages/aeosa', '/Applications/anaconda3/lib/python3.6/site-packages/IPython/extensions', '/Users/gprieto/.ipython']\n"
     ]
    }
   ],
   "source": [
    "import sys\n",
    "print(sys.path)"
   ]
  },
  {
   "cell_type": "markdown",
   "metadata": {},
   "source": [
    "Es decir que si el usuario quiere crear módulos propios o paquetes propios, éstos\n",
    "deberían estar ubicados en alguno de los folders en el _path_. En muchos casos estos\n",
    "folders son del sistema y no se recomienda cambiarlos o adicionarles archivos.\n",
    "\n",
    "Lo que se recomienda es crear un folder propio, en algún lugar donde el\n",
    "usuario pueda editar los archivos. Para que Python pueda encontrarlos, se= debe adicionar el \n",
    "folder al _path_. Esto se puede hacer de dos maneras. La primera,\n",
    "es adicionar al _path_:"
   ]
  },
  {
   "cell_type": "code",
   "execution_count": 4,
   "metadata": {},
   "outputs": [
    {
     "name": "stdout",
     "output_type": "stream",
     "text": [
      "['', '/Dropbox/Dropbox/gprieto/classes/unal/python/chap3', '/Dropbox/Dropbox/gprieto/python/Modules', '/Applications/MacPorts/paraview.app/Contents/Python', '/Applications/MacPorts/paraview.app/Contents/Libraries', '/Applications/anaconda3/lib/python36.zip', '/Applications/anaconda3/lib/python3.6', '/Applications/anaconda3/lib/python3.6/lib-dynload', '/Applications/anaconda3/lib/python3.6/site-packages', '/Applications/anaconda3/lib/python3.6/site-packages/aeosa', '/Applications/anaconda3/lib/python3.6/site-packages/IPython/extensions', '/Users/gprieto/.ipython', '/Users/gprieto/Desktop']\n"
     ]
    }
   ],
   "source": [
    "sys.path.append('/Users/gprieto/Desktop')\n",
    "print(sys.path)"
   ]
  },
  {
   "cell_type": "markdown",
   "metadata": {},
   "source": []
  },
  {
   "cell_type": "markdown",
   "metadata": {},
   "source": [
    "Sin embargo esta opción sólo altera el _path_ durante la ejecución del programa\n",
    "que lo use. La próxima vez que Python sea ejecutado, el _path_ vuelve a su _default_."
   ]
  },
  {
   "cell_type": "markdown",
   "metadata": {},
   "source": [
    "La opción recomendada es la de crear un folder donde se pondrán todos\n",
    "los paquetes y módulos para su uso futuro. Para adicionar el folder de manera\n",
    "permanente el folder en el path, se debe adicionar la dirección del folder al\n",
    "`PYTHONPATH`. En sistemas operativos OS y Linux, esto se hace en el archivo\n",
    "`.bashrc` así:\n",
    "```\n",
    "export PYTHONPATH=\"${PYTHONPATH}:/my/other/path\"\n",
    "```\n",
    "\n",
    "En otros ambientes tipo Unix, esto se puede adicionar al archivo `.bashrc`, `.profile`,\n",
    "`.cshrc` o cualquiera que sea el archivo de inicio (startup script) dependiendo de\n",
    "la shell que se use. En Windows, esto se puede hacer a través del GUI del sistema."
   ]
  },
  {
   "cell_type": "markdown",
   "metadata": {},
   "source": [
    "# Usando mis _Modules_ propios\n",
    "\n",
    "Uno de los aspectos más importantes de generar funciones propias en Python,\n",
    "es poderlas utilizar en cualquier programa sin necesidad de pegarlas en cada\n",
    "programa. Esto permite tener una sola copia de la función y mantener una sola\n",
    "copia de la misma y no se requiere tenerla en el programa principal. Por ejemplo,\n",
    "yo he construido a través del tiempo un module con funciones para cálculos\n",
    "estadísticos, métodos de Fourier, simulación numérica, etc. Estas funciones las\n",
    "uso constantemente, pero no tengo que cambiarlas.\n",
    "\n",
    "El siguiente ejemplo muestra el cálculo de la distancia sobre la esfera, pero\n",
    "utilizando un módulo propio."
   ]
  },
  {
   "cell_type": "code",
   "execution_count": 7,
   "metadata": {},
   "outputs": [
    {
     "name": "stdout",
     "output_type": "stream",
     "text": [
      "Enter 1st point lat, lon 4.60 -74.08\n",
      "Enter 2nd point lat, lon 40.71 -74.00\n",
      "del, azi =,  36.11007160489428 0.10289785296377317\n",
      "Enter 1st point lat, lon 4.60 -74.08\n",
      "Enter 2nd point lat, lon 48.85 2.35\n",
      "del, azi =,  77.6262475492864 40.910199240249156\n",
      "Enter 1st point lat, lon 4.60 -74.08\n",
      "Enter 2nd point lat, lon -34.60 -58.37\n",
      "del, azi =,  41.901431053188496 160.5049076126299\n",
      "Enter 1st point lat, lon 0 0 \n",
      "Enter 2nd point lat, lon 0 0 \n"
     ]
    }
   ],
   "source": [
    "# userdist2.py\n",
    "# Program to calculate the distance and azimuth of two points \n",
    "# on the surface of the Earth. \n",
    "\n",
    "import clase.sphere_subs as sphere \n",
    "\n",
    "\n",
    "for i in range(10):\n",
    "   intxt = input(\"Enter 1st point lat, lon \")\n",
    "   lat1,lon1 = intxt.split()\n",
    "   lat1 = float(lat1)\n",
    "   lon1 = float(lon1)\n",
    "\n",
    "   intxt = input(\"Enter 2nd point lat, lon \")\n",
    "   lat2,lon2 = intxt.split()\n",
    "   lat2 = float(lat2)\n",
    "   lon2 = float(lon2)\n",
    "\n",
    "   if (lat1==0 and lon1==0 and lat2==0 and lon2==0):\n",
    "      break\n",
    "\n",
    "   delta,azi = sphere.sph_azi(lat1,lon1,lat2,lon2)\n",
    "\n",
    "   print (\"del, azi =, \", delta,azi)\n"
   ]
  },
  {
   "cell_type": "markdown",
   "metadata": {},
   "source": [
    "donde se importa el __módulo__ `sphere_subs`, que se encuentra dentro del __paquete__\n",
    "`clase`."
   ]
  },
  {
   "cell_type": "markdown",
   "metadata": {},
   "source": [
    "# Módulos con muchas funciones\n",
    "El archivo que contiene la definición de la función es `sphere_subs.py` y tiene\n",
    "la función sph_azi y puede tener otras definiciones de funciones. El encabezado\n",
    "del programa es:\n",
    "```\n",
    "# sphere_subs.py\n",
    "# included in Package clase/\n",
    "# /Dropbox/Dropbox/gprieto/python/Modules/clase\n",
    "#\n",
    "# SPHERE_SUBS is set of Python function definitions to compute distances\n",
    "# ...\n",
    "\n",
    "def sph_loc(flat1,flon1,delta,azi):\n",
    "\n",
    "   # SPH_LOC finds location of second point on sphere, given range \n",
    "   # and azimuth at first point.\n",
    "   #\n",
    "...\n",
    "```\n",
    "Los __módulos__ son entonces archivos de python `.py` con una o muchas definiciones\n",
    "de funciones, clases, etc."
   ]
  },
  {
   "cell_type": "markdown",
   "metadata": {},
   "source": [
    "# Los `Module`\n",
    "Los `module` de Python son una de las principales capas de abstracción disponibles\n",
    "y son una forma natural para guardar definiciones de funciones que se\n",
    "usan de manera continua en Python. Estas capas permiten separar los códigos\n",
    "en partes relacionando datos y funcionalidad.\n",
    "\n",
    "Por ejemplo, una capa o módulo de un programa puede enfocarse en la\n",
    "interacción con el usuario, otro módulo realiza manipulación de datos (cargar\n",
    "datos) y otro hace los cálculos matemáticos requeridos. Entonces, todas las\n",
    "funciones que hacen una parte del trabajo se agrupan en un solo archivo `.py`,\n",
    "las funciones de carga de datos en otro `.py` y finalmente las funciones que hacen\n",
    "cálculos, en un tercer `.py`. Para poder usar cada uno de los módulos, se deben\n",
    "importar en el programa principal con el comando `import`."
   ]
  },
  {
   "cell_type": "markdown",
   "metadata": {},
   "source": [
    "# Los `Package`\n",
    "En proyectos grandes, o para tener una librería de funciones, un programador\n",
    "busca agrupar funciones con diferentes objetivos. Python usa un sistema de\n",
    "paquetes, que es simplemente la extensión de módulos a un directorio. En\n",
    "resumen, un paquete, es un folder con uno o más módulos dentro.\n",
    "\n",
    "Cualquier directorio con un archivo `__init__.py` es considerado por Python\n",
    "un paquete. Los módulos dentro del paquete pueden ser importados por un programa\n",
    "de manera similar a los módulos individuales. El archivo `__init__.py` en\n",
    "principio tiene información y definición del contenido del paquete. Sin embargo,\n",
    "el archivo `__init__.py` puede estar vacio (no me pregunten porqué).\n"
   ]
  },
  {
   "cell_type": "markdown",
   "metadata": {},
   "source": [
    "Un archivo modu.py en un directorio pack/ puede ser importado con el\n",
    "comando\n",
    "```\n",
    "import pack.modu\n",
    "```\n",
    "\n",
    "Este comando buscará un archivo `__init__.py` en el folder `pack/`, y ejecutará\n",
    "todos los comandos en el archivo. Después buscará el archivo `modu.py` y ejecutará\n",
    "sus comandos. Después de esto, todas las __variables, funciones y clases__\n",
    "definidad en `modu.py` estarán disponibles bajo el nombre `pack.modu`.\n",
    "\n",
    "Es común ver que el archivo `__init__.py` tiene muchos comandos. Cuando\n",
    "un projecto es complejo y grande, puede tener varios sub-paquetes y subsub-\n",
    "paquetes en una estructura de folders larga y profunda. En este caso, importar\n",
    "una función dentro de la sub-estructura, implicaría ejecutar muchos\n",
    "`__init__.py` durante la carga de folder, sub-folder y sub-sub-folder.\n",
    "\n",
    "Es normal dejar el archivo `__init__.py` vacio (sin náda escrito) e incluso\n",
    "esto es considerado como una buena práctica. Esecialemente es considerado una\n",
    "buena práctica si los módulos dentro de los paquetes y sub-paquetes no requieren\n",
    "compartir código (recuerde que Python ejecuta código linea por linea, por lo que\n",
    "el orden en el que se importan los módulos importa.\n",
    "\n",
    "Finalmente, para evitar tener códigos muy cargados de texto, si uno quiere\n",
    "importar un módulo que se encuentra en un árbol de folders complejo, por\n",
    "ejemplo\n",
    "```\n",
    "import pack1.subpack2.subsubpack3.modu\n",
    "```\n",
    "y se quiere correr una función dentro del módulo, se necesitaría llamar la función\n",
    "```\n",
    "x = pack1.subpack2.subsubpack3.modu.sin(x)\n",
    "```\n",
    "lo cual hace muy el código muy difícil de leer. Una mejor opción en este caso\n",
    "sería\n",
    "```\n",
    "import pack1.subpack2.subsubpack3.modu as mod\n",
    "...\n",
    "x = mod.sin(x)\n",
    "```\n",
    "donde las funciones dentro del módulo se llaman con un encabezado más corto\n",
    "(`mod`). Esto fue lo que se hizo en el programa `userdist2.py`\n",
    "```\n",
    "import clase.sphere_subs as sphere\n",
    "...\n",
    "delta,azi = sphere.sph_azi(lat1,lon1,lat2,lon2)\n",
    "...\n",
    "```\n"
   ]
  },
  {
   "cell_type": "code",
   "execution_count": null,
   "metadata": {},
   "outputs": [],
   "source": []
  }
 ],
 "metadata": {
  "kernelspec": {
   "display_name": "Python 3",
   "language": "python",
   "name": "python3"
  },
  "language_info": {
   "codemirror_mode": {
    "name": "ipython",
    "version": 3
   },
   "file_extension": ".py",
   "mimetype": "text/x-python",
   "name": "python",
   "nbconvert_exporter": "python",
   "pygments_lexer": "ipython3",
   "version": "3.7.6"
  }
 },
 "nbformat": 4,
 "nbformat_minor": 2
}
