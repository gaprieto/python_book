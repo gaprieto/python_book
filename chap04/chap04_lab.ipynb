{
 "cells": [
  {
   "cell_type": "markdown",
   "metadata": {},
   "source": [
    "# Capítulo 4\n",
    "## Funciones del usuario\n"
   ]
  },
  {
   "cell_type": "markdown",
   "metadata": {},
   "source": [
    "A medida que la longitud y complejidad de los programas de computador aumentan, se hace necesario dividir el problema en pequeñas partes (**divide and conquer**). Esto es una buena estrategia, ya que lo hace más modular y más fácil de leer y entender (y de encontrar problemas o *bugs*). Esto se puede hacer creando funciones (`def` o definiciones) dentro de Python, que hacen parte del trabajo. Algunas ventajas de programar así:\n",
    "- Se puede evaluar partes o pedazos del código de manera individual, confirmar que están funcionando correctamente antes de terminar el programa completo. \n",
    "- El código es más modular y fácil de entender. \n",
    "- Es más fácil usar partes del programa en otros programas (sin necesidad de copiar y pegar cada pedazo). \n",
    "\n"
   ]
  },
  {
   "cell_type": "markdown",
   "metadata": {},
   "source": [
    "## Funciones dentro del programa"
   ]
  },
  {
   "cell_type": "markdown",
   "metadata": {},
   "source": [
    "#### Primer ejemplo\n",
    "\n",
    "El código de abajo muestra una función (o `def`) que tiene como objetivo jugar a adivinar el número. El programa `adivine_entero2.py` hace el mismo trabajo que su antecesor, sin embargo la parte de interacción con el usuario se encuentra en la definición \n",
    "```\n",
    "def guess_number(number):\n",
    "```\n"
   ]
  },
  {
   "cell_type": "code",
   "execution_count": 8,
   "metadata": {},
   "outputs": [
    {
     "name": "stdout",
     "output_type": "stream",
     "text": [
      "Adivine un número del 1 al 1000: 0 \n",
      "0  es muy bajo\n",
      "Adivine otra vez: 500\n",
      "500  es muy bajo\n",
      "Adivine otra vez: 750\n",
      "750  es muy bajo\n",
      "Adivine otra vez: 875\n",
      "875  es muy bajo\n",
      "Adivine otra vez: 925\n",
      "925  es muy alto\n",
      "Adivine otra vez: 900\n",
      "900  es muy alto\n",
      "Adivine otra vez: 880\n",
      "880  es muy bajo\n",
      "Adivine otra vez: 890\n",
      "890  es muy alto\n",
      "Adivine otra vez: 885\n",
      "885  es muy alto\n",
      "Adivine otra vez: 883\n",
      "883  es muy alto\n",
      "Adivine otra vez: 882\n",
      "\n",
      "Excelente, adivinaste en  11  intentos\n"
     ]
    }
   ],
   "source": [
    "# adivine_entero2.py\n",
    "# Juego donde el usuario adivina un número, \n",
    "# usando funciones\n",
    "#\n",
    "\n",
    "def guess_number(number):\n",
    "    \"\"\" Función para adivinar un número\n",
    "    Función del usuario que hace el trabajo de \n",
    "    interactuar con el usuario y evaluar si adivinó el número.\n",
    "    Entrada: number - un número, que el usuario no conoce\n",
    "\n",
    "    Salida: guesses - Número de intentos\n",
    "    \"\"\"\n",
    "    guesses  = 1\n",
    "    guess    = int(input('Adivine un número del 1 al 1000: '))\n",
    "    while guess!=number:\n",
    "        guesses = guesses + 1\n",
    "        if (guess>number):\n",
    "            print(guess,\" es muy alto\")\n",
    "        elif (guess<number):\n",
    "            print(guess,\" es muy bajo\")\n",
    "        guess = int(input(\"Adivine otra vez: \"))\n",
    "    \n",
    "    return guesses\n",
    "\n",
    "#-------------------------------------\n",
    "# El programa principal\n",
    "#-------------------------------------\n",
    "\n",
    "import numpy as np                  \n",
    "\n",
    "# Obtenga número aleatorio [1, 1000)\n",
    "rnum = np.random.randint(1, 1000) \n",
    "\n",
    "# Llame a la función que interactua con usuario\n",
    "nguess = guess_number(rnum)\n",
    "\n",
    "print(\"\\nExcelente, adivinaste en \",nguess, ' intentos')\n"
   ]
  },
  {
   "cell_type": "markdown",
   "metadata": {},
   "source": [
    "La función que creamos se llama `guess_number`, y se debe definir al principio del programa (en Notebooks, antes de ser usada, por ejemplo en una celda anterior). La función tiene la estructura:\n",
    "```\n",
    "def guess_number(number):\n",
    "    ...\n",
    "    return guesses\n",
    "```\n",
    "\n",
    "La variable de entrada `number`, funciona como un argumento de la función `guess_number`, y el resultado de la función se dá con la variables `guesses`. Note que debe usar `return guesses` para que el programa principal sepa qué obtiene de vuelta al llamar la función. \n",
    "\n",
    "La función se comporte igual a cualquier función que ya hemos usado, \n",
    "```\n",
    "asen = sin(theta)\n",
    "```\n",
    "y note que el nombre de la variable (`number`) que le pongamos al resultado de llamar a la función **no** tiene que ser el mismo que usa la función internamente. \n",
    "\n",
    "#### Indentación sigue siendo importante\n",
    "Note que dentro de la función se requiere mantener la indentación. \n",
    "\n",
    "#### Comentarios de la función\n",
    "Siempre es buena idea documentar de manera completa cualquier función que uno cree. Esto con el fin de que sea claro lo que hace, las entradas y salidas y así, cualquier persona que lea el código pueda entenderlo. \n",
    "Note las triples commillas, que abren y cierran las funciones. Si uno quiere ver la descripción de la función:"
   ]
  },
  {
   "cell_type": "code",
   "execution_count": null,
   "metadata": {},
   "outputs": [],
   "source": []
  },
  {
   "cell_type": "markdown",
   "metadata": {},
   "source": [
    "El programa principal llama a la función a través del comando\n",
    "```\n",
    "nguess = guess_number(rnum)\n",
    "```\n",
    "La variable `number` dentro de la función tomará el valor que determina el programa al llamar a la función (`rnum`}. \n",
    "Tenga en cuenta sin embargo, que a diferencia de Fortran, si las variables son cambiadas dentro de la función, éstas no cambian en el programa principal. Hay que tener cuidado con esto. Note que el nombre de la variable (de entrada y salida) en los argumentos de la función no tienen que ser iguales (`rnum` - `number`).\n",
    "\n",
    "**Nota**\n",
    "\n",
    "Tenga en cuenta que a diferencia de lo que pasa en otros languajes, si la variable de entrada es cambiada dentro de la función (rnum por ejemplo), esta variable NO cambia en el programa principal (en Fortran esto si pasaba)."
   ]
  },
  {
   "cell_type": "markdown",
   "metadata": {},
   "source": [
    "#### Hagalo Ud mismo\n",
    "\n",
    "El ejercicio del máximo común divisor (MCD) se puede separar en dos partes. La primera, encargada de la interacción con el usuario (pedirle los números, etc). La segunda, calcular el MCD. La última la podemos poner como una función."
   ]
  },
  {
   "cell_type": "code",
   "execution_count": 1,
   "metadata": {},
   "outputs": [
    {
     "ename": "KeyboardInterrupt",
     "evalue": "Interrupted by user",
     "output_type": "error",
     "traceback": [
      "\u001b[0;31m---------------------------------------------------------------------------\u001b[0m",
      "\u001b[0;31mKeyboardInterrupt\u001b[0m                         Traceback (most recent call last)",
      "\u001b[0;32m<ipython-input-1-8b7d6190bb96>\u001b[0m in \u001b[0;36m<module>\u001b[0;34m\u001b[0m\n\u001b[1;32m     10\u001b[0m \u001b[0;34m\u001b[0m\u001b[0m\n\u001b[1;32m     11\u001b[0m \u001b[0;32mfor\u001b[0m \u001b[0mi\u001b[0m \u001b[0;32min\u001b[0m \u001b[0mrange\u001b[0m\u001b[0;34m(\u001b[0m\u001b[0;36m10\u001b[0m\u001b[0;34m)\u001b[0m\u001b[0;34m:\u001b[0m\u001b[0;34m\u001b[0m\u001b[0;34m\u001b[0m\u001b[0m\n\u001b[0;32m---> 12\u001b[0;31m     \u001b[0mintxt\u001b[0m \u001b[0;34m=\u001b[0m \u001b[0minput\u001b[0m\u001b[0;34m(\u001b[0m\u001b[0;34m'Digite dos números enteros (ceros para parar) '\u001b[0m\u001b[0;34m)\u001b[0m\u001b[0;34m\u001b[0m\u001b[0;34m\u001b[0m\u001b[0m\n\u001b[0m\u001b[1;32m     13\u001b[0m     \u001b[0ma\u001b[0m\u001b[0;34m,\u001b[0m\u001b[0mb\u001b[0m   \u001b[0;34m=\u001b[0m \u001b[0mintxt\u001b[0m\u001b[0;34m.\u001b[0m\u001b[0msplit\u001b[0m\u001b[0;34m(\u001b[0m\u001b[0;34m)\u001b[0m\u001b[0;34m\u001b[0m\u001b[0;34m\u001b[0m\u001b[0m\n\u001b[1;32m     14\u001b[0m     \u001b[0ma\u001b[0m     \u001b[0;34m=\u001b[0m \u001b[0mint\u001b[0m\u001b[0;34m(\u001b[0m\u001b[0ma\u001b[0m\u001b[0;34m)\u001b[0m\u001b[0;34m\u001b[0m\u001b[0;34m\u001b[0m\u001b[0m\n",
      "\u001b[0;32m~/opt/anaconda3/lib/python3.7/site-packages/ipykernel/kernelbase.py\u001b[0m in \u001b[0;36mraw_input\u001b[0;34m(self, prompt)\u001b[0m\n\u001b[1;32m    861\u001b[0m             \u001b[0mself\u001b[0m\u001b[0;34m.\u001b[0m\u001b[0m_parent_ident\u001b[0m\u001b[0;34m,\u001b[0m\u001b[0;34m\u001b[0m\u001b[0;34m\u001b[0m\u001b[0m\n\u001b[1;32m    862\u001b[0m             \u001b[0mself\u001b[0m\u001b[0;34m.\u001b[0m\u001b[0m_parent_header\u001b[0m\u001b[0;34m,\u001b[0m\u001b[0;34m\u001b[0m\u001b[0;34m\u001b[0m\u001b[0m\n\u001b[0;32m--> 863\u001b[0;31m             \u001b[0mpassword\u001b[0m\u001b[0;34m=\u001b[0m\u001b[0;32mFalse\u001b[0m\u001b[0;34m,\u001b[0m\u001b[0;34m\u001b[0m\u001b[0;34m\u001b[0m\u001b[0m\n\u001b[0m\u001b[1;32m    864\u001b[0m         )\n\u001b[1;32m    865\u001b[0m \u001b[0;34m\u001b[0m\u001b[0m\n",
      "\u001b[0;32m~/opt/anaconda3/lib/python3.7/site-packages/ipykernel/kernelbase.py\u001b[0m in \u001b[0;36m_input_request\u001b[0;34m(self, prompt, ident, parent, password)\u001b[0m\n\u001b[1;32m    902\u001b[0m             \u001b[0;32mexcept\u001b[0m \u001b[0mKeyboardInterrupt\u001b[0m\u001b[0;34m:\u001b[0m\u001b[0;34m\u001b[0m\u001b[0;34m\u001b[0m\u001b[0m\n\u001b[1;32m    903\u001b[0m                 \u001b[0;31m# re-raise KeyboardInterrupt, to truncate traceback\u001b[0m\u001b[0;34m\u001b[0m\u001b[0;34m\u001b[0m\u001b[0;34m\u001b[0m\u001b[0m\n\u001b[0;32m--> 904\u001b[0;31m                 \u001b[0;32mraise\u001b[0m \u001b[0mKeyboardInterrupt\u001b[0m\u001b[0;34m(\u001b[0m\u001b[0;34m\"Interrupted by user\"\u001b[0m\u001b[0;34m)\u001b[0m \u001b[0;32mfrom\u001b[0m \u001b[0;32mNone\u001b[0m\u001b[0;34m\u001b[0m\u001b[0;34m\u001b[0m\u001b[0m\n\u001b[0m\u001b[1;32m    905\u001b[0m             \u001b[0;32mexcept\u001b[0m \u001b[0mException\u001b[0m \u001b[0;32mas\u001b[0m \u001b[0me\u001b[0m\u001b[0;34m:\u001b[0m\u001b[0;34m\u001b[0m\u001b[0;34m\u001b[0m\u001b[0m\n\u001b[1;32m    906\u001b[0m                 \u001b[0mself\u001b[0m\u001b[0;34m.\u001b[0m\u001b[0mlog\u001b[0m\u001b[0;34m.\u001b[0m\u001b[0mwarning\u001b[0m\u001b[0;34m(\u001b[0m\u001b[0;34m\"Invalid Message:\"\u001b[0m\u001b[0;34m,\u001b[0m \u001b[0mexc_info\u001b[0m\u001b[0;34m=\u001b[0m\u001b[0;32mTrue\u001b[0m\u001b[0;34m)\u001b[0m\u001b[0;34m\u001b[0m\u001b[0;34m\u001b[0m\u001b[0m\n",
      "\u001b[0;31mKeyboardInterrupt\u001b[0m: Interrupted by user"
     ]
    }
   ],
   "source": [
    "# gcf2.py\n",
    "# encuentre el máximo común divisor de dos números enteros\n",
    "# con una función\n",
    "#\n",
    "\n",
    "\"\"\"Cree la definición para calcular el MCD\"\"\"\n",
    "#def gcf(a,b):\n",
    "\n",
    "# Ahora, el programa principal\n",
    "\n",
    "for i in range(10):\n",
    "    intxt = input('Digite dos números enteros (ceros para parar) ')\n",
    "    a,b   = intxt.split()\n",
    "    a     = int(a)\n",
    "    b     = int(b)\n",
    "    if (a==0 and b==0):\n",
    "        break\n",
    "    mcd = gcf(a,b)  # debe crear la función\n",
    "\n",
    "    print (\"Máximo común divisor = \", mcd)"
   ]
  },
  {
   "cell_type": "markdown",
   "metadata": {},
   "source": [
    "Note que en este caso, se define la función para calcular el MCD, y recibe dos números de entrada (`x,y`) y devuelve al programa la variable `z` que es el MCD. \n",
    "```\n",
    "def getgcf(x,y):\n",
    "   ...\n",
    "   return z\n",
    "```\n",
    "El número y posición de los argumentos debe coincidir con los de la función, sin embargo note que los nombres de las variables no tienen que ser iguales (`x` = `a`). \n"
   ]
  },
  {
   "cell_type": "markdown",
   "metadata": {},
   "source": [
    "## Funciones con múltiples salidas"
   ]
  },
  {
   "cell_type": "markdown",
   "metadata": {},
   "source": [
    "Las funciones descritas abajo tienen una utilidad limitada, ya que están diseñadas para rgresar al programa una sola variable como resultado. En algunos casos, se requiere de funciones que puedan regresar varias variables como rsulta- do de una función. En Fortran esto se lleva a cabo con subrutinas (subroutine). En Python, la misma función puede retornar varias variables de resultado. En Python, la forma como se devuelven dichas variables puede variar, incluyendo *listas*, *tuples*, etc., pero para facilitar en este curso vamos a utilizar *tuples*."
   ]
  },
  {
   "cell_type": "markdown",
   "metadata": {},
   "source": [
    "### Distancias en la Tierra\n",
    "A continuación un ejemplo de una función en Python con utilidad en Geociencias para calcular la distancia y azimuth de dos puntos sobre la superficie de la Tierra."
   ]
  },
  {
   "cell_type": "code",
   "execution_count": 1,
   "metadata": {},
   "outputs": [],
   "source": [
    "def sph_azi(flat1,flon1,flat2,flon2):\n",
    "   \"\"\" \n",
    "   SPH_AZI computes distance and azimuth between two points \n",
    "   on the sphere\n",
    "   \n",
    "   Inputs: flat1 = latitude of first point (degrees)\n",
    "           flon2 = longitude of first point (degrees)\n",
    "           flat2 = latitude of second point (degrees)\n",
    "           flon2 = longitude of second point (degrees)\n",
    "    \n",
    "   Returns: del = angular separation between points (degrees)\n",
    "            azi = azimuth at 1st point to 2nd point, from N (deg.)\n",
    "   \n",
    "   Notes:\n",
    "   (1) applies to geocentric not geographic lat,lon on Earth\n",
    "   \n",
    "   (2) This routine is accurate depending on the precision of the \n",
    "   real numbers used. Python should be accurate to real(8) precision\n",
    "   For greater accuracy, perform a separate calculation for close \n",
    "   ranges using Cartesian geometry.\n",
    "   \"\"\"\n",
    "\n",
    "   # importe modulos necesarios  \n",
    "   import math  as mt\n",
    "   import numpy as np\n",
    "   \n",
    "   if ( (flat1 == flat2 and flon1 == flon2) \n",
    "   or (flat1 == 90. and flat2 == 90.) \n",
    "   or (flat1 == -90. and flat2 == -90.) ): \n",
    "      delta = 0.\n",
    "      azi = 0.\n",
    "      return [delta,azi]\n",
    "\n",
    "   # Perform calculation\n",
    "   delta = 0.\n",
    "   azi   = 0.\n",
    "\n",
    "   raddeg=mt.pi/180.\n",
    "\n",
    "   theta1=(90.-flat1)*raddeg\n",
    "   theta2=(90.-flat2)*raddeg\n",
    "\n",
    "   phi1=flon1*raddeg\n",
    "   phi2=flon2*raddeg\n",
    "   \n",
    "   stheta1=mt.sin(theta1)\n",
    "   stheta2=mt.sin(theta2)\n",
    "   ctheta1=mt.cos(theta1)\n",
    "   ctheta2=mt.cos(theta2)\n",
    "\n",
    "   cang=stheta1*stheta2*mt.cos(phi2-phi1)+ctheta1*ctheta2\n",
    "   ang=mt.acos(cang)\n",
    "   delta=ang/raddeg\n",
    "\n",
    "   sang=mt.sqrt(1.-cang*cang)\n",
    "   caz=(ctheta2-ctheta1*cang)/(sang*stheta1)\n",
    "   saz=-stheta2*mt.sin(phi1-phi2)/sang\n",
    "   az=mt.atan2(saz,caz)\n",
    "   azi=az/raddeg\n",
    "\n",
    "   if (azi < 0.): \n",
    "      azi=azi+360.\n",
    "\n",
    "   return [delta, azi]\n"
   ]
  },
  {
   "cell_type": "markdown",
   "metadata": {},
   "source": [
    "### Hagalo Ud mismo\n",
    "\n",
    "Escriba un programa que use la función anterior (`sph_azi`) y solicite al usuario la latittud y longitud de dos puntos en la Tierra, para imprimir la distancia y azimuth entre los dos puntos. "
   ]
  },
  {
   "cell_type": "code",
   "execution_count": 2,
   "metadata": {},
   "outputs": [],
   "source": [
    "# usuariodist.py\n",
    "# Program para calcular la distancia y azimut entre dos\n",
    "# puntos sobre una esfera. \n",
    "\n",
    "lat1 = None\n",
    "lon1 = None\n",
    "lat2 = None\n",
    "lon2 = None\n",
    "while (lat1!=0. or lon1!=0. or lat2!=0. or lon2!=0.):\n",
    "    ...\n",
    "    \n",
    "    print('Distancia y acimut:  %6.2f  %7.2f '%(delta, azi))\n",
    "    \n",
    "# Bogota     \n",
    "# 4.60 -74.08\n",
    "# New York\n",
    "# 40.71 -74.00\n",
    "# Paris\n",
    "# 48.85 2.35\n",
    "# Buenos Aires\n",
    "# -34.60 -58.37\n"
   ]
  },
  {
   "cell_type": "markdown",
   "metadata": {},
   "source": [
    "En este caso, los valores de `lat/lon` son pasados a la función `sph_azi`, la cual devuelve las variables `delta` y `azi`. Es importante siempre poner nombres a las funciones que sean claras y que no repitan nombres de rutinas o variables ya existentes en Python. \n",
    "\n",
    "### Ojo con la documentación\n",
    "La documentación de las funciones es **fundamental**. Debe ser claro que hace cada función, explicar las variables de entrada y salida, y si la rutina tiene problemas de precisión o cualquier otro problema o limitación es bueno documentarlo. \n",
    "\n",
    "Puede que la documentación de esta función parezca larga y tediosa, pero con el número de funciones que Uds. van a trabajar, este tipo de documentación es ideal. \n",
    "\n",
    "La documentación busca que Ud. o cualquier otra persona pueda utilizar la función correctamente sin necesidad de mirar el código. Por ejemplo, es claro que el azimuth es calculado del putno 1 al punto 2, y no al contrario. Explicar además las limitaciones de la función puede además ayudar a que se use de manera erronea. En distancias muy cortas, el programa puede tener limitaciones y devuelve un resultado que no es correcto y el usuario puede no entender esto. \n",
    "\n",
    "Por último, note que la función intenta ser robusta en casos patológicos, como cuando los dos puntos son iguales, o cuando están en los polos (distancia y azimuth es cero). \n",
    "\n",
    "\n"
   ]
  },
  {
   "cell_type": "markdown",
   "metadata": {},
   "source": [
    "### Comentarios\n",
    "\n",
    "Para calcular la distancia entre dos puntos en la Tierra, el código completo incluye las dos celdas, la que tiene la función `sph_azi` y programa o script principal. Ambos códigos deben estar juntos para que el programa completo funcione. Qué pasa si Ud. quiere usar la función `sph_azi` en el futuro? Le tocaría buscar este programa, copiar y pegar la función para poder usarla. Esto no es muy eficiente. "
   ]
  },
  {
   "cell_type": "markdown",
   "metadata": {},
   "source": [
    "    "
   ]
  },
  {
   "cell_type": "markdown",
   "metadata": {},
   "source": [
    "### Hagalo Ud mismo\n",
    "\n",
    "Para evitar re-escribir mil veces la misma función, es posible escribir un *script* donde se puede poner la función deseada, de tal forma que el programa principal pueda `import` la función deseada, muy similar a cuando hacemos\n",
    "```\n",
    "import numpy as np\n",
    "```\n",
    "\n",
    "La tercera ley de Kepler  gobierna el movimiento de un satélite alrededor de un cuerpo primario (el sol o un planeta). El archivo `kepler.py` es un archivo de texto plano, que contiene una sola función (definición) y que calcula el periodo de la órbita (duración de un giro alrededor del cuerpo primario) de un satélite de acuerdo a la distancia con respecto al sol (semieje mayor para ser preciso) de acuerdo a la ecuación\n",
    "$$\n",
    "GM_{sol} = \\frac{4\\pi}{T^2}a^3\n",
    "$$\n",
    "donde $G$ es la constante gravitacional, $T$ es el periodo, $a$ es el semieje mayor de su órbita (ver el archivo `kepler.py`). \n",
    "\n",
    "- La Tierra está a $149.59$ millones de km del Sol. Confirme su periodo.\n",
    "- Un satélite espía está a aproximadamente 200 km de la superficie de la Tierra, cual es el periodo de su órbita?"
   ]
  },
  {
   "cell_type": "code",
   "execution_count": 4,
   "metadata": {},
   "outputs": [],
   "source": [
    "# kepler_periodo.py \n",
    "#    Programa que llama funci´øn propio de Kepler\n",
    "#    para calcular el periodo de órbita de un satélite.\n",
    "#\n",
    "\n",
    "import kepler\n",
    "\n",
    "...\n",
    "\n",
    "print('Periodo de órbita terrestre %6.2f días ' %(T_days))\n",
    "\n",
    "Me        = 5.972e24 # kg\n",
    "...\n",
    "\n",
    "print('Periodo de órbita espía %5.1f minutos ' %(T_smin))\n"
   ]
  },
  {
   "cell_type": "markdown",
   "metadata": {},
   "source": [
    "#### Explicación\n",
    "\n",
    "El archivo `kepler.py` contiene la función que hace el cálculo (similar a `sph_azi` o a `np.sim()`), pero Python necesita importarlo. Asumiendo que Python pueda encontrarlo (por ejemplo si el archivo está en el mismo folder), éste se puede importar con `import kepler`, sin el `.py`. Para llamar la función se debe llamar el modulo y la función deseada `kepler.kepler_3ra`. \n",
    "\n"
   ]
  },
  {
   "cell_type": "markdown",
   "metadata": {},
   "source": [
    "## Modulos y Packages propios"
   ]
  },
  {
   "cell_type": "markdown",
   "metadata": {},
   "source": [
    "Uno de los aspectos más importantes de generar funciones propias en Python, es poderlas utilizar en cualquier programa sin necesidad de pegarlas en cada programa. Esto permite tener una sola copia de la función y mantener una sola copia de la misma y no se requiere tenerla en el programa principal. \n",
    "\n",
    "En el ejemplo anterior `kepler.py` se conoce como un **module** en Python. Es un archivo que contiene una o mas definiciones (puede tener muchas funciones, definiciones de variables, etc.) y que al importarla carga todas las funciones que han dentro del archivo. \n",
    "\n",
    "A medida que pasa el tiempo, uno va construyendo una librería de funciones que usa habitualmente. Por ejemplo, yo tengo funciones o módulos para cálculos estadísticos, métodos de Fourier, simulación numérica, etc. Estas funciones las uso constantemente, pero no tengo que cambiarlas, sólo necesito llamarlas. Es lo mismo que siempre llamar numpy para calcular el seno de una variable. \n",
    "\n"
   ]
  },
  {
   "cell_type": "markdown",
   "metadata": {},
   "source": [
    "### Dónde guardar sus funciones?"
   ]
  },
  {
   "cell_type": "markdown",
   "metadata": {},
   "source": [
    "En el ejemplo anterior, el módulo `kepler.py` se encuentra en el folder donde está corriendo Python. Si Ud corre Python desde otra ubicación del computador, python no encontrará la función y mosrtrará un error. \n",
    "\n",
    "Note que Python *sabe* donde encontrar `numpy`, no hay que decirle donde está. Es una buena práctica tener un lugar donde se van a poner todos los módulos y paquetes que Ud va a desarrollar. Esto es buena idea porque\n",
    "- No va a tener 10 copias de la misma función\n",
    "- Puede tener organizado por temas sus funciones\n",
    "- Puede usar sus funciones desde cualquier lugar del computador\n",
    "\n",
    "La único que toca hacer, es **enseñarle** a Python donde encuentra sus modulos. \n",
    "\n",
    "\n"
   ]
  },
  {
   "cell_type": "markdown",
   "metadata": {},
   "source": [
    "#### El *Path*\n",
    "\n",
    "Cuando Python busca módulos siguiendo el path predefinido en el sistema, incluyendo el directorio donde está corriendo Python en ese momento. Esto se puede encontrar usando los comandos:"
   ]
  },
  {
   "cell_type": "code",
   "execution_count": 1,
   "metadata": {},
   "outputs": [
    {
     "name": "stdout",
     "output_type": "stream",
     "text": [
      "['/Users/gprieto/Dropbox/gprieto/classes/unal/geoinformatica/python/chap04', '/Users/gprieto/Dropbox/gprieto/classes/unal/geoinformatica/python/chap04', '/Users/gprieto/Dropbox/gprieto/python/Modules', '/Users/gprieto/Dropbox/gprieto/python/Modules/noisepy/src', '/Users/gprieto/opt/anaconda3/lib/python37.zip', '/Users/gprieto/opt/anaconda3/lib/python3.7', '/Users/gprieto/opt/anaconda3/lib/python3.7/lib-dynload', '', '/Users/gprieto/opt/anaconda3/lib/python3.7/site-packages', '/Users/gprieto/opt/anaconda3/lib/python3.7/site-packages/aeosa', '/Users/gprieto/opt/anaconda3/lib/python3.7/site-packages/IPython/extensions', '/Users/gprieto/.ipython']\n"
     ]
    }
   ],
   "source": [
    "import sys\n",
    "print(sys.path)"
   ]
  },
  {
   "cell_type": "markdown",
   "metadata": {},
   "source": [
    "Es decir que si el usuario quiere crear módulos propios o paquetes propios, éstos\n",
    "deberían estar ubicados en alguno de los folders en el *path*. En muchos casos estos\n",
    "folders son del sistema y no se recomienda cambiarlos o adicionarles archivos.\n",
    "\n",
    "En mi caso, el primer folder es el folder actual\n",
    "```\n",
    "/Users/gprieto/Dropbox/gprieto/classes/unal/geoinformatica/python/chap04\n",
    "```\n",
    "el segundo es donde pongo mis módulos\n",
    "```\n",
    "/Users/gprieto/Dropbox/gprieto/python/Modules\n",
    "```\n",
    "Este segundo Ud todavía no lo tendra, y toca mostrarle a Python. \n",
    "\n",
    "Lo que se recomienda es crear un folder propio, en algún lugar donde el\n",
    "usuario pueda editar los archivos. Para que Python pueda encontrarlos, se debe adicionar el \n",
    "folder al *path*. Esto se puede hacer de dos maneras. La primera:"
   ]
  },
  {
   "cell_type": "code",
   "execution_count": 3,
   "metadata": {},
   "outputs": [
    {
     "name": "stdout",
     "output_type": "stream",
     "text": [
      "['/Users/gprieto/Dropbox/gprieto/classes/unal/geoinformatica/python/chap04', '/Users/gprieto/Dropbox/gprieto/classes/unal/geoinformatica/python/chap04', '/Users/gprieto/Dropbox/gprieto/python/Modules', '/Users/gprieto/Dropbox/gprieto/python/Modules/noisepy/src', '/Users/gprieto/opt/anaconda3/lib/python37.zip', '/Users/gprieto/opt/anaconda3/lib/python3.7', '/Users/gprieto/opt/anaconda3/lib/python3.7/lib-dynload', '', '/Users/gprieto/opt/anaconda3/lib/python3.7/site-packages', '/Users/gprieto/opt/anaconda3/lib/python3.7/site-packages/aeosa', '/Users/gprieto/opt/anaconda3/lib/python3.7/site-packages/IPython/extensions', '/Users/gprieto/.ipython', '/Users/gprieto/Desktop']\n"
     ]
    }
   ],
   "source": [
    "sys.path.append('/Users/gprieto/Desktop')\n",
    "print(sys.path)"
   ]
  },
  {
   "cell_type": "markdown",
   "metadata": {},
   "source": [
    "Sin embargo esta opción sólo altera el `path` durante la ejecución del programa\n",
    "que lo use. La próxima vez que Python sea ejecutado, el `path` vuelve a su `default`."
   ]
  },
  {
   "cell_type": "markdown",
   "metadata": {},
   "source": [
    "La opción recomendada es la de crear un folder donde se pondrán todos\n",
    "los paquetes y módulos para su uso futuro. Para adicionar el folder de manera\n",
    "permanente el folder en el path, se debe adicionar la dirección del folder al\n",
    "`PYTHONPATH`. En sistemas operativos OS y Linux, esto se hace en el archivo\n",
    "`.bashrc` así:\n",
    "```\n",
    "export PYTHONPATH=\"${PYTHONPATH}:/my/other/path\"\n",
    "```\n",
    "\n",
    "En otros ambientes tipo Unix, esto se puede adicionar al archivo `.bashrc`, `.profile`,\n",
    "`.cshrc` o cualquiera que sea el archivo de inicio (startup script) dependiendo de\n",
    "la shell que se use. En Windows, esto se puede hacer a través del GUI del sistema."
   ]
  },
  {
   "cell_type": "markdown",
   "metadata": {},
   "source": [
    "## Usando mis _Modules_ propios\n",
    "\n",
    "La forma de llamar los módulos es similar a la utilizada para numpy. Tenga en cuenta que los archivos `.py` se llaman módulos, y los folder que contienen 1 o más módulos y 1 o más folders, se llaman `packages`. \n",
    "\n",
    "Por ejemplo, mi *path* busca modulos en `.../python/Modules`. En ese folder, hay un folder `clase` y dentro de éste, un módulo `sphere_subs.py`.  "
   ]
  },
  {
   "cell_type": "code",
   "execution_count": 3,
   "metadata": {},
   "outputs": [
    {
     "name": "stdout",
     "output_type": "stream",
     "text": [
      " sphere_subs.py\n",
      "    included in Package clase/\n",
      "    /Dropbox/Dropbox/gprieto/python/Modules/clase\n",
      "\n",
      " SPHERE_SUBS is set of Python function definitions to compute distances\n",
      " and angles on a spherical Earth.  All angles are in degrees.\n",
      " Latitude used on standard maps is geographic latitude; this may be\n",
      " converted to the geocentric latitude used in these routines\n",
      " by using the SPH_GEOCENTRIC function.  Longitude input to\n",
      " these routines may be from either -180 to 180 or from 0 to 360.\n",
      " Longitude returned from these routines will be from 0 to 360.\n",
      "\n",
      " Based on Fortran subroutines from Peter M. Shearer\n",
      "\n",
      " Last Modified \n",
      " German A. Prieto\n",
      " May 2017\n",
      "\n",
      "\n",
      " Contains definitions of\n",
      " sph_loc  - finds location of second point on sphere, given range \n",
      "            and azimuth at first point.\n",
      " sph_dist - computes angular separation of two points on sphere\n",
      " sph_azi  - computes distance and azimuth between two points \n",
      "            on the sphere\n",
      " sph_mid  - finds midpoint between two surface points on sphere\n",
      "            and azimuth at midpoint to second point\n",
      "\n",
      "\n"
     ]
    }
   ],
   "source": [
    "import clase.sphere_subs as sph\n",
    "print(sph.__doc__)"
   ]
  },
  {
   "cell_type": "code",
   "execution_count": null,
   "metadata": {},
   "outputs": [],
   "source": []
  },
  {
   "cell_type": "code",
   "execution_count": 4,
   "metadata": {},
   "outputs": [
    {
     "name": "stdout",
     "output_type": "stream",
     "text": [
      "\n",
      "   SPH_MID finds midpoint between two surface points on sphere\n",
      "   and azimuth at midpoint to second point\n",
      "  \n",
      "   Requires:  SPH_AZI, SPH_LOC\n",
      "  \n",
      "   Inputs:  flat1  =  latitude of first point (degrees) \n",
      "            flon1  =  longitude of first point (degrees)\n",
      "            flat2  =  latitude of second point (degrees)\n",
      "            flon2  =  longitude of second point (degrees)\n",
      "   Returns: delta  =  angular separation between points (degrees)\n",
      "            flat3  =  latitude of midpoint (degrees)\n",
      "            flon3  =  longitude of midpoint (degrees)\n",
      "            azi    =  azimuth at midpoint to first point\n",
      "\n",
      "   calls sph_azi, sph_loc\n",
      "   \n"
     ]
    }
   ],
   "source": [
    "print(sph.sph_mid.__doc__)"
   ]
  },
  {
   "cell_type": "markdown",
   "metadata": {},
   "source": [
    "### Módulos con muchas funciones\n",
    "El archivo que contiene la definición de la función es `sphere_subs.py` y tiene\n",
    "la función sph_azi y puede tener otras definiciones de funciones. El encabezado\n",
    "del programa es:\n",
    "```\n",
    "\"\"\" sphere_subs.py\n",
    "    included in Package clase/\n",
    "    /Dropbox/Dropbox/gprieto/python/Modules/clase\n",
    "\n",
    " SPHERE_SUBS is set of Python function definitions to compute distances\n",
    " and angles on a spherical Earth.  All angles are in degrees.\n",
    " Latitude used on standard maps is geographic latitude; this may be\n",
    " converted to the geocentric latitude used in these routines\n",
    " by using the SPH_GEOCENTRIC function.  Longitude input to\n",
    " these routines may be from either -180 to 180 or from 0 to 360.\n",
    " Longitude returned from these routines will be from 0 to 360.\n",
    "\n",
    " Based on Fortran subroutines from Peter M. Shearer\n",
    "\n",
    " ...\n",
    "\"\"\"\n",
    "```\n",
    "Los __módulos__ son entonces archivos de python `.py` con una o muchas definiciones\n",
    "de funciones, clases, etc."
   ]
  },
  {
   "cell_type": "markdown",
   "metadata": {},
   "source": [
    "## Los `Module`\n",
    "Los `module` de Python son una de las principales capas de abstracción disponibles\n",
    "y son una forma natural para guardar definiciones de funciones que se\n",
    "usan de manera continua en Python. Estas capas permiten separar los códigos\n",
    "en partes relacionando datos y funcionalidad.\n",
    "\n",
    "Por ejemplo, una capa o módulo de un programa puede enfocarse en la\n",
    "interacción con el usuario, otro módulo realiza manipulación de datos (cargar\n",
    "datos) y otro hace los cálculos matemáticos requeridos. Entonces, todas las\n",
    "funciones que hacen una parte del trabajo se agrupan en un solo archivo `.py`,\n",
    "las funciones de carga de datos en otro `.py` y finalmente las funciones que hacen\n",
    "cálculos, en un tercer `.py`. Para poder usar cada uno de los módulos, se deben\n",
    "importar en el programa principal con el comando `import`."
   ]
  },
  {
   "cell_type": "markdown",
   "metadata": {},
   "source": [
    "# Los `Package`\n",
    "En proyectos grandes, o para tener una librería de funciones, un programador\n",
    "busca agrupar funciones con diferentes objetivos. Python usa un sistema de\n",
    "paquetes, que es simplemente la extensión de módulos a un directorio. En\n",
    "resumen, un paquete, es un folder con uno o más módulos dentro.\n",
    "\n",
    "Cualquier directorio con un archivo `__init__.py` es considerado por Python\n",
    "un paquete. Los módulos dentro del paquete pueden ser importados por un programa\n",
    "de manera similar a los módulos individuales. El archivo `__init__.py` en\n",
    "principio tiene información y definición del contenido del paquete. Sin embargo,\n",
    "el archivo `__init__.py` puede estar vacio (no me pregunten porqué).\n"
   ]
  },
  {
   "cell_type": "markdown",
   "metadata": {},
   "source": [
    "Un archivo modu.py en un directorio pack/ puede ser importado con el comando\n",
    "```\n",
    "import pack.modu\n",
    "```\n",
    "Este comando buscará un archivo `__init__.py` en el folder pack/, y ejecutará todos los comandos en el archivo. Después buscará el archivo `modu.py` y ejecutará sus comandos. Después de esto, todas las variables, funciones y clases definidad en `modu.py` estarán disponibles bajo el nombre pack.modu.\n",
    "\n",
    "Es común ver que el archivo `__init__.py` tiene muchos comandos. Cuando un projecto es complejo y grande, puede tener varios sub-paquetes y subsub- paquetes en una estructura de folders larga y profunda. En este caso, importar una función dentro de la sub-estructura, implicaría ejecutar muchos `__init__.py` durante la carga de folder, sub-folder y sub-sub-folder.\n",
    "\n",
    "Es normal dejar el archivo `__init__.py` vacio (sin náda escrito) e incluso esto es considerado como una buena práctica. Esecialemente es considerado una buena práctica si los módulos dentro de los paquetes y sub-paquetes no requieren compartir código (recuerde que Python ejecuta código linea por linea, por lo que el orden en el que se importan los módulos importa.\n",
    "\n",
    "Finalmente, para evitar tener códigos muy cargados de texto, si uno quiere importar un módulo que se encuentra en un árbol de folders complejo, por ejemplo\n",
    "```\n",
    "import pack1.subpack2.subsubpack3.modu\n",
    "```\n",
    "y se quiere correr una función dentro del módulo, se necesitaría llamar la función\n",
    "```\n",
    "x = pack1.subpack2.subsubpack3.modu.sin(x)\n",
    "```\n",
    "lo cual hace muy el código muy difícil de leer. Una mejor opción en este caso sería\n",
    "```\n",
    "import pack1.subpack2.subsubpack3.modu as mod\n",
    "...\n",
    "x = mod.sin(x)\n",
    "```\n",
    "donde las funciones dentro del módulo se llaman con un encabezado más corto (`mod`). \n",
    "```\n",
    "import clase.sphere_subs as sph\n",
    "...\n",
    "```\n"
   ]
  }
 ],
 "metadata": {
  "kernelspec": {
   "display_name": "Python 3",
   "language": "python",
   "name": "python3"
  },
  "language_info": {
   "codemirror_mode": {
    "name": "ipython",
    "version": 3
   },
   "file_extension": ".py",
   "mimetype": "text/x-python",
   "name": "python",
   "nbconvert_exporter": "python",
   "pygments_lexer": "ipython3",
   "version": "3.7.6"
  }
 },
 "nbformat": 4,
 "nbformat_minor": 2
}
