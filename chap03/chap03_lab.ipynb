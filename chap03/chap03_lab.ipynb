{
 "cells": [
  {
   "cell_type": "markdown",
   "metadata": {},
   "source": [
    "# Capítulo 3\n",
    "## Interacción con Python"
   ]
  },
  {
   "cell_type": "markdown",
   "metadata": {},
   "source": [
    "Hasta el momento, todos nuestros ejemplos han sido programas que no requieren\n",
    "o solicitan información del usuario. Esto tiene la limitación que el programa\n",
    "es **estático** y siempre se va a comportar de la misma manera. Si, por ejemplo, queremos hacer\n",
    "una multiplicación diferente, cada vez toca escribir un nuevo programa.\n",
    "\n",
    "Para ampliar la capacidad de los programas de Python, el programa puede\n",
    "solicitar información del usuario a través del teclado."
   ]
  },
  {
   "cell_type": "code",
   "execution_count": 2,
   "metadata": {},
   "outputs": [],
   "source": [
    "# usuario_info.py\n",
    "# Código que solicita información del usuario\n",
    "# y reporta los resultados\n",
    "#\n",
    "\n",
    "name   = input(\"Cuál es su nombre? \")\n",
    "\n",
    "txt    = input('Cuál es su altura (m)? ')\n",
    "\n",
    "txt   = input('Cuanto pesa Ud. (kg)? ')\n",
    "\n",
    "print ('%s, Ud. mide %4.2f m y pesa %5.1f kg' \n",
    "       % (name,alt,weigh))"
   ]
  },
  {
   "cell_type": "markdown",
   "metadata": {},
   "source": [
    "El comando `input` es el encargado de solicitar al usuario que debe digitar una respuesta con el teclado. El programa no continúa a menos que el usuario oprime `Enter`.\n",
    "\n",
    "Para los valores solicitados de altura o peso, el comando\n",
    "```\n",
    "txt    = input('Cuál es su altura (m)? ')`\n",
    "```\n",
    "genera una variable `txt` con caracteres (una variable tipo `string`). La función `float(txt)` convierte la variable `txt` en una variable real o `float`. Note que si el usuario responde con letras o símbolos, el programa generará un error, es decir **se espera** un número como respuesta.   \n"
   ]
  },
  {
   "cell_type": "markdown",
   "metadata": {},
   "source": [
    "## Entrada con el teclado\n",
    "Como se ve en el programa anterior, solicitar información del usuario es\n",
    "bastante sencillo en Python. \n",
    "\n",
    "### Hágalo Ud. mismo\n",
    "El siguiente programa muestra una variación al\n",
    "programa `multint.py` de tal forma que los números a ser multiplicados sean\n",
    "definidos por el usuario."
   ]
  },
  {
   "cell_type": "code",
   "execution_count": 3,
   "metadata": {},
   "outputs": [],
   "source": [
    "# usuariomult.py\n",
    "# Código para multiplicar dos números enteros, \n",
    "# definidos por el usuario.\n",
    "\n",
    "\n",
    "print(a,\"x\",b,\" = \",c)"
   ]
  },
  {
   "cell_type": "markdown",
   "metadata": {},
   "source": [
    "Este código tiene dos llamadas para pedirle al usuario que digite los números a multiplicar. \n",
    "También es importante notar que al poner \n",
    "\n",
    "`a = int(input(\"Enter an integer: \"))`\n",
    "\n",
    "se le pide al usuario un número entero, por lo que si el usuario digita un numero real ($2.2$) \n",
    "o caracteres diferentes a números, el programa mostrará un error. Generalmente Python es \n",
    "bastante claro explicando el error y el problema que se generó."
   ]
  },
  {
   "cell_type": "markdown",
   "metadata": {},
   "source": [
    "### Hágalo Ud. mismo\n",
    "\n",
    "El programa anterior tiene una desventaja, el usuario se le solicita la pareja\n",
    "de números uno a uno. Genere una versión más corta, donde se le solicita al usuario los dos números con una sola llamada. El usuario debe digitar los números con un espacio entre ellos, no con coma (,), ni otro separador. Tampoco\n",
    "puede digitar `Enter` entre los números, pues esto generará un error."
   ]
  },
  {
   "cell_type": "code",
   "execution_count": 4,
   "metadata": {},
   "outputs": [],
   "source": [
    "# usuariomult2.py\n",
    "# Código para multiplicar dos números enteros, \n",
    "# definidos por el usuario.\n",
    "# Una sola solicitud para los dos números.\n",
    "#\n",
    "\n",
    "intxt = input(\"Digite dos números enteros: \")\n",
    "\n",
    "c = a*b\n",
    "\n",
    "print(a,\"x\",b,\" = \",c)"
   ]
  },
  {
   "cell_type": "markdown",
   "metadata": {},
   "source": [
    "El comando `input` permite digitar una serie de caracteres. Si éstos caracteres están \n",
    "separados por espacios, se pueden asignar a multiples variables con el comando `intxt.split()`.\n",
    "Sin embargo, si el usuario digita tres números (en vez de dos) se genera un error. Puede pensar en alguna alternativa para eviar este error? "
   ]
  },
  {
   "cell_type": "markdown",
   "metadata": {},
   "source": [
    "## _for_ y _while_ loops, condicionales _if_"
   ]
  },
  {
   "cell_type": "markdown",
   "metadata": {},
   "source": [
    "El programa `usuariomult2.py` sigue mostrando limitaciones. Aunque el usuario puede hacer la multiplicación, tiene que volver a correr el programa si quiere cambiar los números. ¿Qué hacer si queremos hacer más de una operación? "
   ]
  },
  {
   "cell_type": "markdown",
   "metadata": {},
   "source": [
    "### Hágalo Ud. mismo\n",
    "\n",
    "Genere un programa que solicite continuamente al usuario por 2 números hasta que el usuario quiera detenerse. \n"
   ]
  },
  {
   "cell_type": "code",
   "execution_count": 5,
   "metadata": {},
   "outputs": [],
   "source": [
    "# usuariomult3.py\n",
    "# Código para multiplicar dos números enteros, \n",
    "# definidos por el usuario.\n",
    "# Operación se repite hasta que el usuario lo determine.\n",
    "#\n",
    "\n",
    "intxt = input(\"Digite dos números enteros: \")\n",
    "\n",
    "c = a*b\n",
    "\n",
    "print(a,\"x\",b,\" = \",c)\n"
   ]
  },
  {
   "cell_type": "markdown",
   "metadata": {},
   "source": [
    "Python no permite hacer _loops_ de manera indefinida (un infinito número de veces), por lo que hay que decirle que lo haga en un rango definido (hasta 1000 veces en nuestro ejemplo).\n",
    "\n",
    "Pero sería muy ilógico que el usuario tenga que hacer la operación mil veces para que el programa termine. Por eso, tenemos _condicionales_, donde al cumplirse cierta condición (que ambos números sean 0), el programa hace un `break` que le ordena salir del _loop_. \n",
    "\n",
    "#### Note que el código que pertenece al _loop_ está indentado. "
   ]
  },
  {
   "cell_type": "markdown",
   "metadata": {},
   "source": [
    "## Operadores de relación en varios lenguajes\n",
    "\n",
    "``` \\begin{verbatim}\n",
    "F77    F90   C   MATLAB  Python   meaning\n",
    "\n",
    ".eq.   ==    ==   ==     ==       equals\n",
    "\n",
    ".ne.   /=    !=   ~=     !=       does not equal\n",
    "\n",
    ".lt.   <     <    <      <        less than\n",
    "\n",
    ".le.   <=    <=   <=     <=       less than or equal to\n",
    "\n",
    ".gt.   >     >    >      >        greater than\n",
    "\n",
    ".ge.   >=    >=   >=     >=       greater than or equal to\n",
    "\n",
    ".and. .and.  &&   &      and      and\n",
    "\n",
    ".or.  .or.   ||   |      or       or\n",
    "```\n"
   ]
  },
  {
   "cell_type": "markdown",
   "metadata": {},
   "source": [
    "En Python, el `for` _loop_ procesa cada _item_ dentro de una secuencia, así que puede ser usado en cualquier secuencia de datos de diferente tipo (arreglos, strings, listas, tuples, etc.). La variable del _loop_ (`i` en nuestro ejemplo se le asigna en cada iteración el valor correspondiente de la variable, y el cuerpo (indentado) dentro del _loop_ es ejecutado (donde `i` tiene unsólo valor). \n",
    "\n",
    "La forma general de un `for` _loop_ en Python es:\n",
    "```\n",
    "for LOOP_VARIABLE in SEQUENCE:\n",
    "   STATEMENTS\n",
    "```\n"
   ]
  },
  {
   "cell_type": "markdown",
   "metadata": {},
   "source": [
    "Note que los comandos tienen un encabezado (header) que termina con dos puntos (:) y un cuerpo con una serie de comandos que se encuentran __indentados__.\n",
    "\n",
    "La indentación puede ser 1, 2, o cualquier número de espacios (o un _tab_), pero siempre del mismo tipo o cantidad a la derecha del encabezado. "
   ]
  },
  {
   "cell_type": "markdown",
   "metadata": {},
   "source": [
    "### El comando `while`"
   ]
  },
  {
   "cell_type": "markdown",
   "metadata": {},
   "source": [
    "En lenguajes modernos se tiene la opción de utilizar el comando `while`, en lugar de un `for` _loop_. El `while` es un comando compuesto, que tiene un header y un cuerpo, y tiene el siguiente formato general\n",
    "```\n",
    "while BOOLEAN_EXPRESSION:\n",
    "   STATEMENTS\n",
    "```\n",
    "El `while` se ejecuta de manera continua siempre y cuando la expresión `BOOLEAN_EXPRESSION` sea cierta. _Boolean_ en este caso se puede pensar como una función lógica o condicional. El programa anterior se puede escribir:"
   ]
  },
  {
   "cell_type": "markdown",
   "metadata": {},
   "source": [
    "### Hágalo Ud. mismo\n",
    "\n",
    "Genere un programa que solicite continuamente al usuario por 2 números hasta que el usuario quiera detenerse, pero ahora con un `while` loop.\n"
   ]
  },
  {
   "cell_type": "code",
   "execution_count": 6,
   "metadata": {},
   "outputs": [],
   "source": [
    "# usuariomult4.py\n",
    "# Código para multiplicar dos números enteros, \n",
    "# definidos por el usuario.\n",
    "# Operación se repite con while loop.\n",
    "#\n",
    "\n",
    "\n",
    "while ...\n",
    "    intxt = input('Digite dos números enteros (ceros para parar) ')\n",
    "    a,b   = intxt.split()\n",
    "    a     = int(a)\n",
    "    b     = int(b)\n",
    "    c     = a*b\n",
    "    print(a,\"x\",b,\" = \",c)"
   ]
  },
  {
   "cell_type": "markdown",
   "metadata": {},
   "source": [
    "\n",
    "**Nota** que para iniciar el `while` loop, es necesario tener definidos `a` y `b`, para que el programa pueda realizar la verificación del condicional la primera vez."
   ]
  },
  {
   "cell_type": "markdown",
   "metadata": {},
   "source": [
    "### `for` vs `while` loops\n",
    "\n",
    "Existen entonces dos tipos de _loop_. Para el programador clásico (me incluye acá), el `for` _loop_ parece más sencillo y lógico. Pero cuál escoger?\n",
    "\n",
    "- Si Ud. sabe de antemano el número de iteraciones que debe hacer, o va a hacer un _loop_ sobre una lista o arreglo donde el número total de elementos es conocido, el **`for` loop** es su mejor opción. \n",
    "\n",
    "- Si debe realizar una iteración de un cálculo hasta que una condición se cumple, y no se puede saber cuando esa condición se va a cumplir, el **`while` loop** es su mejor opción."
   ]
  },
  {
   "cell_type": "markdown",
   "metadata": {},
   "source": [
    "## Múltiples condicionales `if, elif, else`\n",
    "\n",
    "En los ejemplos anteriores, una operación (`a*b`) se lleva a cabo si una condición se cumple. Una versión más versátil permite múltiples condiciones con la siguiente estructura\n",
    "```\n",
    "if (expresión_lógica):\n",
    "   (bloque de código)\n",
    "elif (expresión_lógica):\n",
    "   (bloque de código)\n",
    "elif (expresión_lógica):\n",
    "   (bloque de código)\n",
    "...\n",
    "else:\n",
    "   (bloque de código)\n",
    "```"
   ]
  },
  {
   "cell_type": "markdown",
   "metadata": {},
   "source": [
    "Cada bloque de código puede tener tantas lineas como se requiera. Y tantos `elif` (else if) bloques como se requiera, y como máximo un `else`. \n",
    "\n",
    "Cuando una condición se cumple, ese bloque de código se ejecuta, sin importar los bloques siguientes. Es decir el órden importa en este caso (Python no revisa los bloques siguientes). El último `else` será ejecutado si ninguna condición anterior es verdadera.  \n"
   ]
  },
  {
   "cell_type": "markdown",
   "metadata": {},
   "source": [
    "### Hágalo Ud. mismo\n",
    "\n",
    "**Un juego de adivine el número**\n",
    "\n",
    "Haga un programa donde el usuario debe adivinar un número entre 1 y 1000 y el programa le va informando en cada intento si el número introducido por el usuario es mayor o menor que el número que se busca. **Cuente el número de intentos**.\n",
    "\n",
    "Para que el número que se debe adivinar no sea siempre el mismo, podemos que el programa genere el número de manera aleatoria. Cómo se genera un número aleatorio?\n"
   ]
  },
  {
   "cell_type": "code",
   "execution_count": 8,
   "metadata": {},
   "outputs": [
    {
     "name": "stdout",
     "output_type": "stream",
     "text": [
      "0.5877906  3\n",
      "0.8818977  9\n",
      "0.2442480  9\n",
      "0.7710155  2\n",
      "0.1190451  9\n"
     ]
    }
   ],
   "source": [
    "# random_ej.py\n",
    "# Genere números aleatorios, float y enteros\n",
    "#\n",
    "\n",
    "import numpy as np\n",
    "\n",
    "for i in range(5):\n",
    "    a = np.random.random() # dist uniforme\n",
    "    b = np.random.randint(1,10)\n",
    "    print (\"%8.7f %2i\"%(a,b))"
   ]
  },
  {
   "cell_type": "markdown",
   "metadata": {},
   "source": [
    "El código anterior muestra dos ejemplos de generación de números aleatorios. \n",
    "```\n",
    "a = np.random.random()\n",
    "```\n",
    "genera un número aleatorio entre `[0.0 1.0)`, con distribución uniforme. De manera similar\n",
    "```\n",
    "b = np.random.randint(1,10)\n",
    "```\n",
    "genera un número entero entre los límites definidos `[1,10)`. Es decir, no incluye el $10$."
   ]
  },
  {
   "cell_type": "code",
   "execution_count": 7,
   "metadata": {},
   "outputs": [],
   "source": [
    "# adivine_entero.py\n",
    "# Juego donde el usuario adivina un número\n",
    "#\n",
    "\n",
    "import numpy as np  \n",
    "\n",
    "# Genera un número aleatorio entre [1 y 1000)\n",
    "number = np.random.randint(1,1000)\n",
    "\n",
    "\n",
    "#print(\"\\nExcelente, adivinaste en \",guesses, ' intentos')"
   ]
  },
  {
   "cell_type": "markdown",
   "metadata": {},
   "source": [
    "### Hágalo Ud. mismo\n",
    "\n",
    "Genere un programa que le solicite al usuario un número **real, positivo** repetidas veces. Si el número es negativo, \n",
    "digale al usuario y pidale nuevamente el número real y positivo. Si el número es positivo, calcule la raiz cuadrada con la función `np.sqrt`. Si el usuario pone 0, el programa se termina.  \n"
   ]
  },
  {
   "cell_type": "code",
   "execution_count": 9,
   "metadata": {},
   "outputs": [],
   "source": [
    "# usuarioraiz.py\n",
    "# Solicite al usuario un número real y toma la raíz cuadrada.\n",
    "#\n",
    "\n",
    "import numpy as np\n",
    "\n",
    "\n",
    "    "
   ]
  },
  {
   "cell_type": "markdown",
   "metadata": {},
   "source": [
    "Note el uso del nuevo comando `continue`, que le ordena a Python a que vaya directamente a la \n",
    "siguiente iteración (sin mirar lo que está por debajo dentro del *loop*), es decir no va a imprimir\n",
    "el resultado.\n",
    "\n",
    "Otro comando `break` hace que el programa termine o salga de un `for` loop por completo. Ojo, salir del `for` loop, no termina el programa. \n"
   ]
  },
  {
   "cell_type": "markdown",
   "metadata": {},
   "source": [
    "### Hágalo Ud. mismo\n",
    "\n",
    "Re-escriba el código usando `for` loop, con un máximo de 5 loops.\n"
   ]
  },
  {
   "cell_type": "code",
   "execution_count": 10,
   "metadata": {},
   "outputs": [],
   "source": [
    "# usuarioraiz2.py\n",
    "# Solicite al usuario un número real y toma la raíz cuadrada.\n",
    "#\n",
    "\n",
    "import numpy as np\n",
    "\n"
   ]
  },
  {
   "cell_type": "markdown",
   "metadata": {},
   "source": [
    "## El máximo común divisor\n",
    "\n",
    "\n",
    "El máximo común divisor (o GCF greatest common factor en inglés) de dos (o más) números enteros es el mayor número entero que los divide sin dejar residuo. "
   ]
  },
  {
   "cell_type": "markdown",
   "metadata": {},
   "source": [
    "### Hágalo Ud. mismo\n",
    "\n",
    "**Cómo se hace?**\n",
    "\n",
    "- Tenemos dos números `a` y `b`.\n",
    "- El rango de posibles números será del 1, hasta el menor de los dos números. (1 hasta min(a,b))\n",
    "- Mirar para todo el rango de números posibles si la división tiene un residuo con `a` y con `b`\n",
    "- Empieze con el `1`, que siempre será un común divisor. \n",
    "- Siga con el 2, 3, etc. Si alguno de estos números no genera residuo, guardelo como el GCF. \n",
    "- Continue hasta `min(a,b)`. "
   ]
  },
  {
   "cell_type": "code",
   "execution_count": 1,
   "metadata": {},
   "outputs": [],
   "source": [
    "# gcf.py\n",
    "# encuentre el máximo común divisor (gcf)\n",
    "# de dos números enteros\n",
    "#\n",
    "\n"
   ]
  },
  {
   "cell_type": "markdown",
   "metadata": {},
   "source": [
    "**Ojo, este programa no es muy eficiente para números muy grandes**\n",
    "\n",
    "#### Algunas cosas nuevas\n",
    "\n",
    "`min(a,b)` calcula el mínimo entre `a` y `b`, usando funciones internas de Python. \n",
    "Existe también `max`. Puede tener más de dos argumentos de entrada.\n",
    "\n",
    "`a%i` calcula el residuo de la división de `a/i`, llamado el _módulo_. En nuestro caso\n",
    "`a%i = 0` si `a` es divisible por `i`. Si el valor es diferente, entonces hay un residuo. Note que el órden __SI__ importa. \n",
    "\n"
   ]
  },
  {
   "cell_type": "markdown",
   "metadata": {},
   "source": [
    "### Otras funciones de Python disponibles\n",
    "```\n",
    "abs(a)       absolute value\n",
    "float(a)     conversion to real \n",
    "int(a)       conversion to integer\n",
    "round(a)     nearest integer\n",
    "pow (x,y)    Return x to the power y\n",
    "range(a,b,c) Secuencia desde a hasta b. c es el salto. \n",
    "```"
   ]
  }
 ],
 "metadata": {
  "kernelspec": {
   "display_name": "Python 3 (ipykernel)",
   "language": "python",
   "name": "python3"
  },
  "language_info": {
   "codemirror_mode": {
    "name": "ipython",
    "version": 3
   },
   "file_extension": ".py",
   "mimetype": "text/x-python",
   "name": "python",
   "nbconvert_exporter": "python",
   "pygments_lexer": "ipython3",
   "version": "3.7.10"
  }
 },
 "nbformat": 4,
 "nbformat_minor": 2
}
