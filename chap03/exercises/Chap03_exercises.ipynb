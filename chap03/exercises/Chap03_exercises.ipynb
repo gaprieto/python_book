{
 "cells": [
  {
   "cell_type": "markdown",
   "metadata": {},
   "source": [
    "# Capítulo 3 - Ejercicios"
   ]
  },
  {
   "cell_type": "markdown",
   "metadata": {},
   "source": [
    "### Ejercicio 1\n",
    "Escriba un programa que imprima una lista de números del 2 al 20, y que muestra si el número es divisible por 2, por 3, por ambos o por ninguno. La salida en pantalla se puede ver algo así\n",
    "```\n",
    "Num   Div by 2 and/or 3?\n",
    "---   ------------------\n",
    "2            by 2\n",
    "3            by 3\n",
    "4            by 2\n",
    "5            neither\n",
    "6            both\n",
    "7            neither\n",
    "```"
   ]
  },
  {
   "cell_type": "code",
   "execution_count": 3,
   "metadata": {},
   "outputs": [
    {
     "name": "stdout",
     "output_type": "stream",
     "text": [
      " \n",
      " Num       Div por 2 y/o 3 \n",
      "----      -----------------\n",
      "   2            Por 2\n",
      "   3            Por 3\n",
      "   4            Por 2\n",
      "   5          Ninguno\n",
      "   6            Ambos\n",
      "   7          Ninguno\n",
      "   8            Por 2\n",
      "   9            Por 3\n",
      "  10            Por 2\n",
      "  11          Ninguno\n",
      "  12            Ambos\n",
      "  13          Ninguno\n",
      "  14            Por 2\n",
      "  15            Por 3\n",
      "  16            Por 2\n",
      "  17          Ninguno\n",
      "  18            Ambos\n",
      "  19          Ninguno\n",
      "  20            Por 2\n"
     ]
    }
   ],
   "source": [
    "# div2_3.py\n",
    "# programa imprime una lista de números del 2 al 20, \n",
    "# y muestre si el número es divisible por 2, por 3, \n",
    "# por ambos o por ninguno. \n",
    "\n",
    "print (' ')\n",
    "print (' Num       Div por 2 y/o 3 ')\n",
    "print ('----      -----------------')\n",
    "\n",
    "for i in range(2,20+1):\n",
    "   if (i%2==0):\n",
    "      d2 = 1\n",
    "   else:\n",
    "      d2 = 0\n",
    "   if (i%3==0):\n",
    "      d3 = 1\n",
    "   else:\n",
    "      d3 = 0\n",
    "   \n",
    "   if (d2==1 and d3 ==1):\n",
    "      txt = \"Ambos\"\n",
    "   elif (d2==1 and d3==0):\n",
    "      txt = \"Por 2\"\n",
    "   elif (d2==0 and d3==1):\n",
    "      txt = \"Por 3\"\n",
    "   else:\n",
    "      txt = \"Ninguno\"\n",
    "   \n",
    "   print (\"%4i %16s\"% (i,txt))\n"
   ]
  },
  {
   "cell_type": "markdown",
   "metadata": {},
   "source": [
    "### Ejercicio 2\n",
    "\n",
    "Escriba un programa que repetidamente le pida al usuario tres valores (reales) `a`, `b`, `c`, para la ecuación \n",
    "cuadrática\n",
    "$$\n",
    "a*x^2 + b*x + c = 0,\n",
    "$$\n",
    "Usando la famosa formula para las raíces de este problema, el programa debe reconocer si \n",
    "hay raíces reales y calcular estos valores. Como resultado, muestre el número de raíces reales y sus valores. \n",
    "El programa debe parar si todos los valores son 0.  \n"
   ]
  },
  {
   "cell_type": "code",
   "execution_count": 7,
   "metadata": {},
   "outputs": [
    {
     "name": "stdout",
     "output_type": "stream",
     "text": [
      "Digite 3 números para ax**2+bx+c=0 (ceros para parar) 2 4 2\n",
      "Hay 2 valores reales para x:  -1.0  and  -1.0\n",
      "Digite 3 números para ax**2+bx+c=0 (ceros para parar) 2 8 4\n",
      "Hay 2 valores reales para x:  -0.5857864376269049  and  -3.414213562373095\n",
      "Digite 3 números para ax**2+bx+c=0 (ceros para parar) 0 2 4\n",
      "Sólo hay un valores posible x =  -2.0\n",
      "Digite 3 números para ax**2+bx+c=0 (ceros para parar) 4 2 5\n",
      "No hay valores reales\n",
      "Digite 3 números para ax**2+bx+c=0 (ceros para parar) 0 0 0\n"
     ]
    }
   ],
   "source": [
    "# quad_raiz.py\n",
    "# Usando la formula cuadrática para despejar x\n",
    "# Entradas: a, b, c\n",
    "# Salidas:  x1 y x2, los dos posibles valores\n",
    "# La formula es a*x**2+b*x+c = 0\n",
    "#\n",
    "\n",
    "for i in range(10):\n",
    "   intxt = (input(\"Digite 3 números para ax**2+bx+c=0 (ceros para parar) \"))\n",
    "   a,b,c = intxt.split()\n",
    "   a = float(a)\n",
    "   b = float(b)\n",
    "   c = float(c)\n",
    "   # Check exit loop\n",
    "   if (a == 0 and b == 0 and c == 0):\n",
    "      break\n",
    "   # Check if all zeroes\n",
    "   if (a ==0 and b == 0):\n",
    "      print(\"No hay valores de x, c debe ser cero\")\n",
    "      continue\n",
    "   elif (4*a*c > b**2):\n",
    "      print(\"No hay valores reales\")\n",
    "      continue\n",
    "   elif (a == 0): \n",
    "         x1 = -c/b          # si a = 0, despejar\n",
    "         print(\"Sólo hay un valores posible x = \", x1)\n",
    "         continue\n",
    "   else:   \n",
    "         x1 = (-b + sqrt(b**2 - 4*a*c))/(2*a)\n",
    "         x2 = (-b - sqrt(b**2 - 4*a*c))/(2*a)     \n",
    "         print(\"Hay 2 valores reales para x: \", x1, \" and \", x2)\n",
    "\n",
    "\n",
    "# Algunos resultados\n",
    "# Digite 3 números para ax**2+bx+c=0 (ceros para parar) 2 4 2\n",
    "# Hay 2 valores reales para x:  -1.0  and  -1.0\n",
    "# Digite 3 números para ax**2+bx+c=0 (ceros para parar) 2 8 4\n",
    "# Hay 2 valores reales para x:  -0.5857864376269049  and  -3.414213562373095\n",
    "# Digite 3 números para ax**2+bx+c=0 (ceros para parar) 0 2 4\n",
    "# Sólo hay un valores posible x =  -2.0\n",
    "# Digite 3 números para ax**2+bx+c=0 (ceros para parar) 4 2 5\n",
    "# No hay valores reales\n",
    "# Digite 3 números para ax**2+bx+c=0 (ceros para parar) 0 0 0\n"
   ]
  },
  {
   "cell_type": "markdown",
   "metadata": {},
   "source": [
    "### Ejercicio 3\n",
    "\n",
    "Modifique el programa `gfc.py` para calcular el mínimo común múltiplo (least common multiple en inglés) \n",
    "de dos números enteros. \n"
   ]
  },
  {
   "cell_type": "code",
   "execution_count": 9,
   "metadata": {},
   "outputs": [
    {
     "name": "stdout",
     "output_type": "stream",
     "text": [
      "Digite dos enteros (ceros para parar) 6 4\n",
      "Mínimo común múltiplo  12\n",
      "Digite dos enteros (ceros para parar) 2 5\n",
      "Mínimo común múltiplo  10\n",
      "Digite dos enteros (ceros para parar) 3 15\n",
      "Mínimo común múltiplo  15\n",
      "Digite dos enteros (ceros para parar) 3 16\n",
      "Mínimo común múltiplo  48\n",
      "Digite dos enteros (ceros para parar) 0 0\n"
     ]
    }
   ],
   "source": [
    "# mcm.py\n",
    "# Compute the least common multiple of two integers\n",
    "\n",
    "for i in range(10):\n",
    "   txtin = input(\"Digite dos enteros (ceros para parar) \")\n",
    "   a,b = txtin.split()\n",
    "   a = int(a)\n",
    "   b = int(b)\n",
    "   if (a==0 and b==0):\n",
    "      break\n",
    "   else:\n",
    "      jmin = -a*b\n",
    "      jmax = -max(a,b)\n",
    "      for j in range(jmin,jmax+1):\n",
    "         if (-j%a==0 and -j%b==0):\n",
    "            jmin = -j\n",
    "      print (\"Mínimo común múltiplo \",jmin)\n",
    "\n",
    "# Digite dos enteros (ceros para parar) 6 4\n",
    "# Mínimo común múltiplo  12\n",
    "# Digite dos enteros (ceros para parar) 2 5\n",
    "# Mínimo común múltiplo  10\n",
    "# Digite dos enteros (ceros para parar) 3 15\n",
    "# Mínimo común múltiplo  15\n",
    "# Digite dos enteros (ceros para parar) 3 16\n",
    "# Mínimo común múltiplo  48\n",
    "# Digite dos enteros (ceros para parar) 0 0"
   ]
  },
  {
   "cell_type": "markdown",
   "metadata": {},
   "source": [
    "### Ejercicio 4\n",
    "\n",
    "Python con Numpy incluye un modulo para la generación de números aleatorios (llamado `np.random`). Abajo se muestra un ejemplo que imprime en pantalla 20 valores aleatorios entre 0 y 1. \n"
   ]
  },
  {
   "cell_type": "code",
   "execution_count": 18,
   "metadata": {},
   "outputs": [
    {
     "name": "stdout",
     "output_type": "stream",
     "text": [
      "0.6219196063426891\n",
      "0.8958813797684957\n"
     ]
    }
   ],
   "source": [
    "# random_example.py\n",
    "# Generate a short list of random number between 0 and 1\n",
    "\n",
    "import numpy as np\n",
    "\n",
    "for i in range(2):\n",
    "   a = np.random.random()\n",
    "   print (a)"
   ]
  },
  {
   "cell_type": "markdown",
   "metadata": {},
   "source": [
    "\n",
    "Escriba un programa simple de Python para generar $10000$ números aleatorios entre 0 y 1. Realice un test de que tan aleatorio es el generador de números, contando el número de veces que el número cae dentro de 10 rangos distintos entre 0 y 1 (por ejemplo, 0 a 0.1, 0.1 a 0.2, etc.).  Imprima el número total de veces para cada rango en la pantalla. Este es un ejemplo de cómo se puede ver la salida del programa:\n",
    "```\n",
    "0 1009\n",
    "1 1048\n",
    "2 1001\n",
    "3 1038\n",
    "4 1008\n",
    "5 959\n",
    "6 993\n",
    "7 925\n",
    "8 1017\n",
    "9 1002\n",
    "```\n",
    "\n",
    "**AYUDA**:  Cree un arreglo de números enteros (mire el modulo `numpy`) con 10 elementos e inicie con ceros. Para cada número aleatorio, sume una unidad al rango apropiado y así poder adicionar todos los números. \n",
    "\n",
    "\n",
    "**NOTA**: En C o Fortran cada vez que corra el programa, Ud. obtendrá siempre la misma serie de números aleatorios. Esto no es muy buena idea, pero el código para obtener series de números aleatorios distintas cada vez que se corre el programa es complicado. Python fija la semilla del número aleatorio (*seed*) con el reloj del computador, así que no debe ser un problema. \n"
   ]
  },
  {
   "cell_type": "code",
   "execution_count": 2,
   "metadata": {},
   "outputs": [
    {
     "name": "stdout",
     "output_type": "stream",
     "text": [
      "0.0 - 0.1  992\n",
      "0.1 - 0.2  1030\n",
      "0.2 - 0.3  988\n",
      "0.3 - 0.4  962\n",
      "0.4 - 0.5  1042\n",
      "0.5 - 0.6  980\n",
      "0.6 - 0.7  987\n",
      "0.7 - 0.8  987\n",
      "0.8 - 0.9  1028\n",
      "0.9 - 1.0  1004\n"
     ]
    }
   ],
   "source": [
    "# rand_check.py\n",
    "# generar 10000 números aleatorios entre 0 y 1. \n",
    "# Realice un test de que tan aleatorio es el generador de números, \n",
    "# contando el número de veces que el número cae dentro de 10 rangos \n",
    "# distintos entre 0 y 1.\n",
    "\n",
    "\n",
    "import numpy as np\n",
    "\n",
    "x = np.zeros(10,dtype=int)\n",
    "\n",
    "for i in range(10000):\n",
    "   a = np.random.random()\n",
    "   if (a >=0 and a<0.1):\n",
    "         x[0]=x[0]+1\n",
    "   elif (a >=0.1 and a<0.2):\n",
    "         x[1]=x[1]+1\n",
    "   elif (a >=0.2 and a<0.3):\n",
    "         x[2]=x[2]+1\n",
    "   elif (a >=0.3 and a<0.4):\n",
    "         x[3]=x[3]+1\n",
    "   elif (a >=0.4 and a<0.5):\n",
    "         x[4]=x[4]+1\n",
    "   elif (a >=0.5 and a<0.6):\n",
    "         x[5]=x[5]+1\n",
    "   elif (a >=0.6 and a<0.7):\n",
    "         x[6]=x[6]+1\n",
    "   elif (a >=0.7 and a<0.8):\n",
    "         x[7]=x[7]+1\n",
    "   elif (a >=0.8 and a<0.9):\n",
    "         x[8]=x[8]+1\n",
    "   else:\n",
    "         x[9]=x[9]+1\n",
    "\n",
    "print (\"0.0 - 0.1 \", x[0])\n",
    "print (\"0.1 - 0.2 \", x[1])\n",
    "print (\"0.2 - 0.3 \", x[2])\n",
    "print (\"0.3 - 0.4 \", x[3])\n",
    "print (\"0.4 - 0.5 \", x[4])\n",
    "print (\"0.5 - 0.6 \", x[5])\n",
    "print (\"0.6 - 0.7 \", x[6])\n",
    "print (\"0.7 - 0.8 \", x[7])\n",
    "print (\"0.8 - 0.9 \", x[8])\n",
    "print (\"0.9 - 1.0 \", x[9])\n"
   ]
  },
  {
   "cell_type": "markdown",
   "metadata": {},
   "source": [
    "### Ejercicio 5\n",
    "\n",
    "La Tierra de manera general se divide en varias *capas*, corteza, manto y núcleo (interno y externo). Si la Tierra tiene un radio de 6371 km, y lo comparamos con un balón de Baloncesto (24.26 cm de diámetro):\n",
    "Ponga en una tabla y compare \n",
    "- radio del núcleo interno\n",
    "- radio hasta el tope del núcleo externo\n",
    "- radio hasta el `moho` (límite manto-corteza)\n",
    "- Para todos los anteriores, determine su espesor.\n",
    "- La atmósfera (la parte más densa) tiene 16 km de espesor. Cuál es el espesor en nuestro ejemplo?\n",
    "\n",
    "Espesores en km para cada capa\n",
    "$$ T_{crust} = 25,    $$ \n",
    "$$T_{mantle} = 2900, $$ \n",
    "$$T_{ocore}  = 2250, $$ \n",
    "$$T_{icore}  = 1196, $$\n"
   ]
  },
  {
   "cell_type": "code",
   "execution_count": 21,
   "metadata": {},
   "outputs": [
    {
     "name": "stdout",
     "output_type": "stream",
     "text": [
      " \n",
      "     Tierra         Balón  Espesores\n",
      "    16.0 km    0.30463 mm  Atmósfera\n",
      "    25.0 km    0.47598 mm  Corteza\n",
      "  2900.0 km   55.21425 mm  Manto\n",
      "  2250.0 km   42.83864 mm  Núcleo Externo\n",
      "  1196.0 km   22.77112 mm  Núcleo Interno\n",
      "\n",
      "\n",
      "     Tierra         Balón  Prof. Interfase\n",
      "    25.0 km    0.47598 mm  Moho\n",
      "  2925.0 km   55.69024 mm  CMB\n",
      "  5175.0 km   98.52888 mm  ICB\n"
     ]
    }
   ],
   "source": [
    "# tierra_balon.py\n",
    "# Dado radio de las diferentes interfases, \n",
    "# compare si la Tierra tuviera el tamaño de un \n",
    "# balón de Basketball \n",
    "\n",
    "import numpy as np\n",
    "\n",
    "fmt = \"%8.1f km %10.5f mm\"\n",
    "R_E = 6371.     # km\n",
    "R_b = 242.6/2.0 # mm, diametro/2\n",
    "\n",
    "T_crust  = 25    # km \n",
    "T_mantle = 2900\n",
    "T_ocore  = 2250\n",
    "T_icore  = 1196\n",
    "T_atm    = 16\n",
    "\n",
    "T_batm    = T_atm/R_E*R_b \n",
    "T_bcrust  = T_crust/R_E*R_b\n",
    "T_bmantle = T_mantle/R_E*R_b\n",
    "T_bocore  = T_ocore/R_E*R_b\n",
    "T_bicore  = T_icore/R_E*R_b\n",
    "\n",
    "P_moho   = T_crust\n",
    "P_cmb    = P_moho+T_mantle\n",
    "P_icb    = P_cmb+T_ocore\n",
    "\n",
    "P_bmoho   = T_bcrust\n",
    "P_bcmb    = P_bmoho+T_bmantle\n",
    "P_bicb    = P_bcmb+T_bocore\n",
    "\n",
    "print(\" \")\n",
    "print('     Tierra         Balón  Espesores')\n",
    "print(fmt %(T_atm, T_batm), ' Atmósfera')\n",
    "print(fmt %(T_crust, T_bcrust), ' Corteza')\n",
    "print(fmt %(T_mantle,T_bmantle), ' Manto')\n",
    "print(fmt %(T_ocore, T_bocore), ' Núcleo Externo')\n",
    "print(fmt %(T_icore, T_bicore), ' Núcleo Interno')\n",
    "\n",
    "print('\\n')\n",
    "\n",
    "print('     Tierra         Balón  Prof. Interfase')\n",
    "print(fmt %(P_moho, P_bmoho), ' Moho')\n",
    "print(fmt %(P_cmb, P_bcmb), ' CMB')\n",
    "print(fmt %(P_icb,P_bicb), ' ICB')\n",
    "\n",
    "\n"
   ]
  },
  {
   "cell_type": "markdown",
   "metadata": {},
   "source": [
    "### Ejercicio 6\n",
    "\n",
    " Calcule la presión $P$ en el interior de la  Tierra, a diferentes profundidades $h$.  Asuma presión hidrostática para la corteza,  densidad del granito $\\rho$, y que $g$ (acc gravedad) es constante.\n",
    "$$\n",
    "P = g*\\rho*h     \n",
    "$$\n"
   ]
  },
  {
   "cell_type": "code",
   "execution_count": 24,
   "metadata": {},
   "outputs": [
    {
     "name": "stdout",
     "output_type": "stream",
     "text": [
      "Prof.  Presión (MPa)\n",
      "  0.0            0.0 \n",
      "  5.0          132.3 \n",
      " 10.0          264.6 \n",
      " 15.0          396.9 \n",
      " 20.0          529.2 \n",
      " 25.0          661.5 \n",
      " 30.0          793.8 \n",
      " 35.0          926.1 \n",
      " 40.0         1058.4 \n",
      " 45.0         1190.7 \n",
      " 50.0         1323.0 \n"
     ]
    }
   ],
   "source": [
    "# pres_tierra.py\n",
    "# Calcule la presión en el interior de la \n",
    "# Tierra, a diferentes profundidades. \n",
    "# Asuma presión hidrostática para la corteza, \n",
    "# densidad del granito, y que g (acc gravedad) es\n",
    "# constante.\n",
    "#\n",
    "\n",
    "import numpy as np\n",
    "\n",
    "fmt = \"%5.1f %14.1f \"\n",
    "g   = 9.8    # m/s2\n",
    "rho = 2700.0 # kg/m3\n",
    "\n",
    "print('Prof.  Presión (MPa)')\n",
    "for i in range(11):\n",
    "   h = float(i)*5*1000  # depth(m)\n",
    "   P = g*rho*h        # Pascal\n",
    "   PMpa = P/1e6      # MPa\n",
    "   print(fmt %(h/1000 ,PMpa))\n"
   ]
  }
 ],
 "metadata": {
  "kernelspec": {
   "display_name": "Python 3",
   "language": "python",
   "name": "python3"
  },
  "language_info": {
   "codemirror_mode": {
    "name": "ipython",
    "version": 3
   },
   "file_extension": ".py",
   "mimetype": "text/x-python",
   "name": "python",
   "nbconvert_exporter": "python",
   "pygments_lexer": "ipython3",
   "version": "3.7.6"
  }
 },
 "nbformat": 4,
 "nbformat_minor": 4
}
