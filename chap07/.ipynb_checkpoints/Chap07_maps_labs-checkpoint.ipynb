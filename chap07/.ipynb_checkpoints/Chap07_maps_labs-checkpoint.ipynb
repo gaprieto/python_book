{
 "cells": [
  {
   "cell_type": "markdown",
   "metadata": {},
   "source": [
    "# Capítulo 7\n",
    "## Mapas con `cartopy` y `PyGMT`"
   ]
  },
  {
   "cell_type": "markdown",
   "metadata": {},
   "source": [
    "Estos dos paquetes están en creación, con versiones `v0.1.2` y `v0.18.0`. El hecho que las versiones para ambos paquetes empiezan con `0.x.t`, significa que los paquetes están en etapa de desarrollo. Esto también significa que los comandos pueden cambiar bruscamente y no hay necesariamente compatibilidad con versiones anteriores. \n",
    "\n",
    "`PyGMT` (<a href=\"https://www.pygmt.org/latest/\">link</a>) es un paquete que utiliza el famoso programa `GMT` o Generic Mapping Tools cuya primera versión fue creada en 1988. `GMT` es un programa (versión actual 6.0) de lineas de comando que genera figuras *postscript* p `PS`. Estas figuras se pueden convertir a `PDF` fácilmente. Adicionalmente tiene varias funciones para generar figuras cartesianas, mapas, filtros y mucho más, que no vamos a ver acá. Seguramente muchos de las figuras en los artículos en revistas científicas usan `GMT`. Por lo tanto `PyGMT` utiliza `GMT` para generar sus figuras. \n",
    "\n",
    "`cartopy` (<a href=\"https://scitools.org.uk/cartopy/\">cartopy</a>) es un paquete para procesamiento de datos geoespaciales y producir mapas. La gran diferencia es que `cartopy` usa `matplotlib` para generar los mapas y por lo tanto tiene todas las ventajas interactivas de `matplotlib` y su *lenguaje* sigue las reglas que hemos aprendido. \n",
    "\n",
    "En esta sección se mostrará como generar mapas de alta calidad con ambos paquetes. No es una compilación exhaustiva de todas las capacidades de ambos paquetes, simplemente una introducción.  "
   ]
  },
  {
   "cell_type": "markdown",
   "metadata": {},
   "source": [
    "## `cartopy`"
   ]
  },
  {
   "cell_type": "markdown",
   "metadata": {},
   "source": [
    "Para la generación de un mapa en `cartopy` y `pyGMT` se debe hacer una proyección para *aplanar* el globo terráqueo a una superficie plana (la pantalla del computador o una hoja de papel) para hacer un mapa, lo que requiere una transformación sistemática de latitud y longitud en la esfera a (x,y) en un plano. Toda proyección de la esfera al plano necesariamente distorsiona la superficie. Dependiendo de lo que se quiera, algunas distorsiones son aceptables y otras no, por lo que es importante saber que tipo de proyeccion se quiere utilizar. \n",
    "\n",
    "Un primer ejemplo de un mapa a escala global. Note como la forma de hacer las figuras es similar a utilizar `matplotlib`."
   ]
  },
  {
   "cell_type": "code",
   "execution_count": 1,
   "metadata": {},
   "outputs": [
    {
     "data": {
      "text/plain": [
       "<Figure size 720x576 with 0 Axes>"
      ]
     },
     "metadata": {},
     "output_type": "display_data"
    }
   ],
   "source": [
    "# cartomap01.py\n",
    "# Mapa global general\n",
    "#\n",
    "import cartopy.crs as ccrs\n",
    "import matplotlib.pyplot as plt\n",
    "\n",
    "# Proyección PlateCaree \n",
    "proj0 = ccrs.PlateCarree(central_longitude=180.0)\n",
    "\n",
    "fig = plt.figure(figsize=(10,8))\n"
   ]
  },
  {
   "cell_type": "markdown",
   "metadata": {},
   "source": [
    "#### Explicación\n",
    "\n",
    "Lo primero es la proyección `Plate Carree` o proyección geográfica que usa\n",
    "```\n",
    "proj0 = ccrs.PlateCarree(central_longitude=180.0)\n",
    "...\n",
    "ax1  = fig.add_subplot(111,projection=proj0)\n",
    "```\n",
    "donde el `axes=ax` presenta la proyección de la esfera a un plano. En este momento la figura está vacía. Adicionalmente se centra la figura en la longitud deseada `central_longitude=180.0` o `0.0` si no se define. \n",
    "\n",
    "Posteriormente se grafican las lineas de costa\n",
    "```\n",
    "ax.coastlines()\n",
    "```\n",
    "`cartopy` de manera automática crea un borde de la figura, pero no pone los valores en los ejes (latitud y longitud). Este se puede adicionar con\n",
    "```\n",
    "ax.set_xticks([-180, -120, -60, 0, 60, 120, 180], crs=proj0)\n",
    "ax.set_yticks([-90, -60, -30, 0, 30, 60, 90], crs=proj0)\n",
    "```\n"
   ]
  },
  {
   "cell_type": "markdown",
   "metadata": {},
   "source": [
    "### Hazlo tu mismo\n",
    "\n",
    "Genera un mapa global, con una proyección esférica (`Mollweide` o `Orthographic`), centrada en Suramérica. Adiciona una imagen de lo topografía con `ax.stock_img()`."
   ]
  },
  {
   "cell_type": "code",
   "execution_count": 2,
   "metadata": {},
   "outputs": [],
   "source": [
    "# cartomap02.py\n",
    "# Mapa del globo general com topografía\n",
    "#\n",
    "import cartopy.crs as ccrs\n",
    "import matplotlib.pyplot as plt\n",
    "\n",
    "#proj = ccrs.Mollweide(central_longitude=-90.0)\n",
    "proj = ccrs.Orthographic(central_longitude=-90.0)\n"
   ]
  },
  {
   "cell_type": "markdown",
   "metadata": {},
   "source": [
    "Para la imagen de fondo, que muestra en colores la topografía y batimetría `cartopy` tiene previamente cargada la imagen y simplemente la incluye con la proyecciónh deseada a través de `ax.stock_img()`. Esta es una imagen de baja resolución, asi que al hacer `zoom` en alguna parte de la figura, se vería mal. Para mayor resoluci´øn de la topografía ver más adelante.  \n",
    "\n",
    "Otras proyecciones se pueden encontrar con descripción <a href=\"https://scitools.org.uk/cartopy/docs/latest/crs/projections.html\"> acá </a>\n"
   ]
  },
  {
   "cell_type": "markdown",
   "metadata": {},
   "source": [
    "### Hazlo tu mismo\n",
    "\n",
    "Los paquetes de mapas, además tienen la posibilidad de incluir otro tipo de información geográfica como ríso, lagos, fronteras políticas, etc. \n",
    "\n",
    "Genere un mapa de Suramérica, que incluya los límites políticos. \n"
   ]
  },
  {
   "cell_type": "code",
   "execution_count": 3,
   "metadata": {},
   "outputs": [
    {
     "data": {
      "text/plain": [
       "<Figure size 720x576 with 0 Axes>"
      ]
     },
     "metadata": {},
     "output_type": "display_data"
    }
   ],
   "source": [
    "# cartomap03.py\n",
    "# Mapa Suramérica con limites políticos\n",
    "#\n",
    "import cartopy.crs as ccrs\n",
    "import matplotlib.pyplot as plt\n",
    "import cartopy.feature as cfeature\n",
    "\n",
    "reg = [-85, -35, -60, 15]\n",
    "\n",
    "fig = plt.figure(figsize=(10,8))\n"
   ]
  },
  {
   "cell_type": "markdown",
   "metadata": {},
   "source": [
    "El código tiene la misma estructura que los anteriores, excepto por la región que se define con\n",
    "```\n",
    "ax.set_extent(reg)\n",
    "```\n",
    "Para adicionar los límites políticos\n",
    "```\n",
    "ax.add_feature(cfeature.BORDERS, linestyle=':')\n",
    "```\n",
    "que quedan con una linea punteada. \n"
   ]
  },
  {
   "cell_type": "markdown",
   "metadata": {},
   "source": [
    "### Hazlo tu mismo\n",
    "\n",
    "A veces sólo queremos mostrar un mapa con colores, donde se separe los cuerpos de agua de tierra. Genere dos mapas, uno general en la región `[-170, -100, 20, 60]` y el otro un zoom en la región `[-130, -120, 46, 52]`. El objetivo es que el mar esté de azul y la Tierra de otro color. \n"
   ]
  },
  {
   "cell_type": "code",
   "execution_count": 4,
   "metadata": {},
   "outputs": [],
   "source": [
    "# cartomap04.py\n",
    "# Mapa con Tierra y oceano, dos escalas\n",
    "#\n",
    "import cartopy.crs as ccrs\n",
    "import matplotlib.pyplot as plt\n",
    "import cartopy.feature as cfeature\n",
    "\n",
    "reg1 = [-170, -100, 20, 60]\n",
    "reg2 = [-130, -120, 46, 52]\n",
    "proj = ccrs.Mercator()\n",
    "\n"
   ]
  },
  {
   "cell_type": "markdown",
   "metadata": {},
   "source": [
    "#### Explicación\n",
    "\n",
    "Comenzando con la definición de la proyección (Mercator) `proj = ccrs.Mercator()` se generan los dos subplots\n",
    "de igual manera a lo que hacemos con `matplotlib`. \n",
    "```\n",
    "fig = plt.figure(figsize=(12,10))\n",
    "ax1 = fig.add_subplot(2, 1, 1, projection=proj)\n",
    "...\n",
    "ax2 = fig.add_subplot(2, 1, 2, projection=proj)\n",
    "```\n",
    "Para la primera región (la grande)\n",
    "\n",
    "```\n",
    "ax1.add_feature(cfeature.LAND)\n",
    "ax1.add_feature(cfeature.OCEAN,color='lightblue') \n",
    "ax1.coastlines(resolution='50m')\n",
    "\n",
    "```\n",
    "se incluyen `features` de tierra y océano (`cfeature.LAND` y `cfeature.OCEAN`), las líneas de costa y se puede adicionar un cuadro que muestre la zona o región más pequeña\n",
    "```\n",
    "ax1.plot([-130, -130, -120, -120, -130], [46, 52, 52, 46, 46],\n",
    "         color='red', linestyle='--',\n",
    "         transform=ccrs.PlateCarree(),\n",
    "         )\n",
    "```\n",
    "Para la segunda región (la pequeña), en principio podríamos hacer exactamente lo mismo. Sin embargo, se muestra otra forma de utilizar `features`, que simplemente descargan *shapefiles* de mayor resolución de las bases de datos de <a href=\"http://www.naturalearthdata.com/\">Natural Earth Data</a> o de la base de datos <a href=\"https://www.ngdc.noaa.gov/mgg/shorelines/gshhs.html\">GSHHS</a>.\n",
    "\n",
    "```\n",
    "ax2 = fig.add_subplot(2, 1, 2, projection=proj)\n",
    "ax2.set_extent(reg2)\n",
    "ax2.add_feature(\n",
    "            cfeature.GSHHSFeature(scale='auto'),\n",
    "            facecolor=cfeature.COLORS['land'],\n",
    "        )\n",
    "ax2.patch.set_facecolor('lightblue')\n",
    "```\n",
    "Note que en este caso se descarga la información de Tierra y se pone el fondo de color azul (el océano)."
   ]
  },
  {
   "cell_type": "markdown",
   "metadata": {},
   "source": [
    "### Hazlo tu mismo\n",
    "\n",
    "Genere un mapa similar al anterior para Colombia y sus alrededores, incluyendo limites políticos de paises y los ríos principales en color azul. \n",
    "\n"
   ]
  },
  {
   "cell_type": "code",
   "execution_count": 5,
   "metadata": {},
   "outputs": [
    {
     "data": {
      "image/png": "[encoded data removed]",
      "text/plain": [
       "<Figure size 432x288 with 1 Axes>"
      ]
     },
     "metadata": {
      "needs_background": "light"
     },
     "output_type": "display_data"
    }
   ],
   "source": [
    "# cartomap05.py\n",
    "# Colombia, rios y fronteras\n",
    "#\n",
    "import matplotlib.pyplot as plt\n",
    "import cartopy.crs as ccrs\n",
    "import cartopy.feature as cfeature\n",
    "\n",
    "proj4 = ccrs.Mercator()\n",
    "fig = plt.figure()\n",
    "ax = fig.add_subplot(1, 1, 1, projection=proj4)\n",
    "ax.set_extent([-90, -60, -10, 15])\n",
    "\n",
    "# Descargue info de fronteras y ríos de Natural Earth Data\n"
   ]
  },
  {
   "cell_type": "markdown",
   "metadata": {},
   "source": [
    "Para extraer la información del shapefile de fronteras\n",
    "```\n",
    "countries = cfeature.NaturalEarthFeature(\n",
    "        category='cultural',\n",
    "        name='admin_0_boundary_lines_land',\n",
    "        scale='10m',\n",
    "        facecolor='none')\n",
    "```\n",
    "se define la categoría (`cultural` o `physical`), el nombre del shapefile \n",
    "(`admin_0_boundary_lines_land`) y la escala (`10m`). \n",
    "\n",
    "Igualmente se hace para los ríos, una propiedad física, con la resolución deseada. \n",
    "```\n",
    "rivers_10m = cfeature.NaturalEarthFeature('physical', 'rivers_lake_centerlines', '10m')\n",
    "```\n",
    "En este caso `10m` equivale a una escala `1:10.000.000`. \n",
    "\n",
    "La información de categorías <a href=https://www.naturalearthdata.com/downloads/10m-physical-vectors/> físicas</a> y <a href=https://www.naturalearthdata.com/downloads/10m-cultural-vectors/> culturales</a> se pueden encontrar en la página de Natural Earth.  \n"
   ]
  },
  {
   "cell_type": "markdown",
   "metadata": {},
   "source": [
    "###  Hazlo tu mismo\n",
    "\n",
    "Como último ejemplo, muchas veces es importante incluir la **topografía** en el mapa, ya que puede mostrar algunos patrones importantes que se quiera resaltar. Además muchas veces queremos desplegar **información adicional** (puntos donde se tomaron datos, una ubicación, etc.), es decir **datos**.  \n",
    "\n",
    "Los datos en el archivo `rsnc.dat` tiene la latitud y longitud de las estaciones sismológicas del servicio geológico colombiano. Haga un mapa, con topografía en el fondo, de la red sismológica en el territorio colombiano. "
   ]
  },
  {
   "cell_type": "code",
   "execution_count": 6,
   "metadata": {},
   "outputs": [
    {
     "data": {
      "text/plain": [
       "<Figure size 432x288 with 0 Axes>"
      ]
     },
     "metadata": {},
     "output_type": "display_data"
    }
   ],
   "source": [
    "# cartomap06.py\n",
    "# Con topo, y estaciones lat/lon\n",
    "#\n",
    "import numpy as np\n",
    "import matplotlib.pyplot as plt\n",
    "import pandas as pd\n",
    "import cartopy.crs as ccrs\n",
    "import cartopy.io.img_tiles as cio\n",
    "import cartopy.feature as cfeature\n",
    "\n",
    "# lectura del archivo\n",
    "fname = 'data/rsnc.dat'\n",
    "data = pd.read_csv(fname, delim_whitespace=True, header=None)\n",
    "sta = np.array(data[0])\n",
    "lat = np.array(data[1])\n",
    "lon = np.array(data[2])\n",
    "ele = np.array(data[3])\n",
    "\n",
    "# descargar topografía\n",
    "tiler = cio.Stamen('terrain-background')\n",
    "\n",
    "fig = plt.figure()\n"
   ]
  },
  {
   "cell_type": "markdown",
   "metadata": {},
   "source": [
    "#### Explicación\n",
    "`cartopy` tiene en `ax.stock_img()` la imagen de baja resolución de la topografía (y batimetría), pero si estamos mirando escalas regionales, esto no es suficiente. \n",
    "\n",
    "Para obtener datos de la topografía de mayor resolución, se pueden descargar archivos tipo `tile` con los módulos de cartopy\n",
    "```\n",
    "import cartopy.io.img_tiles as cio\n",
    "...\n",
    "tiler = cio.Stamen('terrain-background')\n",
    "```\n",
    "Los `tile` tienen diferentes resoluciones que se pueden elegir en el momento de generar el mapa\n",
    "```\n",
    "...\n",
    "ax.add_image(tiler, 6)\n",
    "...\n",
    "ax.coastlines()\n",
    "```\n",
    "Finalmente se pueden graficar las estaciones usando el comando simple \n",
    "```\n",
    "ax.plot(lon,lat,label='Estaciones')\n",
    "``` \n",
    "como se haría en una figura normal, incluyendo la leyenda explicativa. La proyección se tendrá en cuenta. "
   ]
  },
  {
   "cell_type": "markdown",
   "metadata": {},
   "source": [
    "### `pyGMT`\n",
    "\n",
    "El paquete de `pyGMT` no está basado en `matplotlib` y dado que se basa en `GMT`, las figuras que se generan son figuras `PS` o postscript, por lo que no tiene la capacidad de interacción que si tiene `cartopy`. \n",
    "\n",
    "Para demostrar las ventajas y desventajas de ambos paquetes, haremos los mismos ejercicios con `pyGMT` que se hicieron arriba con `cartopy`. Es decisión de Ud. escoger el que más le gusta o usar ambos dependiendo de lo que quiera hacer. \n",
    "\n"
   ]
  },
  {
   "cell_type": "markdown",
   "metadata": {},
   "source": [
    "### Hazlo tu mismo\n",
    "\n",
    "Un primer ejemplo de un mapa a escala global. "
   ]
  },
  {
   "cell_type": "code",
   "execution_count": 7,
   "metadata": {},
   "outputs": [],
   "source": [
    "# gmtmap01.py\n",
    "# Mapa global general\n",
    "#\n",
    "import pygmt\n",
    "\n",
    "# Proyección Cilíndrica\n",
    "proj = 'Cyl_stere/180/0/8i'\n",
    "\n",
    "fig = pygmt.Figure()\n"
   ]
  },
  {
   "cell_type": "markdown",
   "metadata": {},
   "source": [
    "#### Explicación\n",
    "\n",
    "Lo primero, es importar el paquete con `import pygmt`. La proyección utilizada en este caso es una cilíndrica estereográfica\n",
    "```\n",
    "proj = 'Cyl_stere/180/0/8i'\n",
    "```\n",
    "centrada en longitud 180 y latitud 0. El tamaño de la figura es de `8i`, ocho pulgadas. \n",
    "\n",
    "Para iniciar la figura\n",
    "```\n",
    "fig = pygmt.Figure()\n",
    "```\n",
    "Note la diferencia con `matplotlib`. \n",
    "\n",
    "El comando `coast` dibuja las líneas de costa\n",
    "```\n",
    "fig.coast(\n",
    "    region='g',\n",
    "    projection=proj,\n",
    "    shorelines=True,\n",
    "    water=False,\n",
    "    land=False,\n",
    "    frame=True,\n",
    ")\n",
    "```\n",
    "donde se debe definir la región, que en nuestro caso es `g` global. Se permite definir regions por siglas de países, estados (de EEUU) o definir los límites `[lon1, lon2, lat1, lat2]`. Se define también la proyección y si se quiere dibujar las líneas de costa con `shoreline=True`. Se puede solicitar que se coloree el agua o la Tierra aunque en este ejemplo no se hizo. Por ejemplo `water='lightblue` colorea el mar de azul.  \n",
    "\n",
    "Por último, y en este caso es **necesario**, se debe pedir explicitamente que la figura sea mostrada con\n",
    "```\n",
    "fig.show()\n",
    "```"
   ]
  },
  {
   "cell_type": "markdown",
   "metadata": {},
   "source": [
    "### Hazlo tu mismo\n",
    "\n",
    "Genera un mapa global, con una proyección esférica (ortográfica `-G` o Mollweide `Moll`), \n",
    "centrada en Suramérica. Adiciona una imagen de lo topografía con `grdimage`."
   ]
  },
  {
   "cell_type": "code",
   "execution_count": 9,
   "metadata": {},
   "outputs": [],
   "source": [
    "# gmtmap02.py\n",
    "# Mapa del globo general con topografía\n",
    "#\n",
    "import pygmt\n",
    "\n",
    "#proj = 'Moll/-70/4.5i',    \n",
    "proj = 'G-70/0/4.5i'\n",
    "fig = pygmt.Figure()\n"
   ]
  },
  {
   "cell_type": "markdown",
   "metadata": {},
   "source": [
    "La proyección ortográfica se solicita con `G-70/0/4.5i`, centrada en longitud `-70` y latitud ecuatorial, y genera una figura de 4 pulgadas. \n",
    "\n",
    "Para la imagen de fondo se usa `grdimage`\n",
    "```\n",
    "fig.grdimage(\n",
    "    '@earth_relief_30m',\n",
    "    region='g',\n",
    "    projection=proj,\n",
    "    cmap='globe',\n",
    "    shading=True,\n",
    ")\n",
    "```\n",
    "y el archivo a utilizar es `@earth_relief_30m`, que es un archivo en la base de datos de GMT, lo baja y lo utiliza.  Es decir, el computador va a bajar el archivo de internet y lo coloca en una ubicación conocida por `pyGMT`. El archivo descargado es un archivo en formato de arreglo o grilla, y le podemos pedir que use una escala de colores (*colormap*) predefinido por GMT (`cmap='globe'`), e incluso ponerle sombra (`shading`). \n",
    "\n",
    "Los datos con la topografía y batimetría global tienen multiples resoluciones. Tener cuidado de no usar una resolución muy alta para la escala global, ya que el archivo sería muy pesado (cientos de Gbytes). Las resoluciones disponibles son \n",
    "- Para bajas resoluciones (non-tiled) [\"01d\", \"30m\", \"20m\", \"15m\", \"10m\", \"06m\"]\n",
    "\n",
    "- Para altas resoluciones (tiled)  [\"05m\", \"04m\", \"03m\", \"02m\", \"01m\", \"30s\", \"15s\", \"03s\", \"01s\"]\n",
    "\n",
    "Las segundas bases de datos están `tiled` o por partes, es decir si uno solicita un archivo de alta resolución, `pyGMT` sólo baja las partes que necesita, baado en la región que se va a graficar. \n",
    "\n",
    "Los *colormaps* automaticos de GMT se pueden encontrar <a href=\"https://docs.generic-mapping-tools.org/latest/cookbook/cpts.html\" > acá </a>, pero ud puede diseñar su colormap si así lo quiere (aunque no lo vamos a ver en este curso). Algunos colormap incluyen `seis`, `polar`, `gray`, `etopo1` y muchos más. \n"
   ]
  },
  {
   "cell_type": "markdown",
   "metadata": {},
   "source": [
    "### Hazlo tu mismo\n",
    "\n",
    "Los paquetes de mapas, además tienen la posibilidad de incluir otro tipo de información geográfica como ríso, lagos, fronteras políticas, etc. \n",
    "\n",
    "Genere un mapa de Suramérica, que incluya los límites políticos. \n"
   ]
  },
  {
   "cell_type": "code",
   "execution_count": 10,
   "metadata": {},
   "outputs": [],
   "source": [
    "# gmtmap03.py\n",
    "# Mapa Suramérica con limites políticos\n",
    "#\n",
    "import pygmt\n",
    "\n",
    "reg  = [-85, -35, -60, 15]\n",
    "proj = 'M0/0/4i'\n",
    "\n",
    "fig = pygmt.Figure()\n"
   ]
  },
  {
   "cell_type": "markdown",
   "metadata": {},
   "source": [
    "Este mapa usa las mismas herramientas anteriorews, sin embargo dentro del comando `coast` se puede solicitar además de las costas, los límites políticos con `borders=1`. El número `1` representa fronteras políticas de países. Para departamentos o estados el código es `2` y en algunos casos el `3` puede mostrar fronteras entre condados. Para incluir varios límites políticos `borders=[1,2,3]` y si quiere mayor control del formato puede utilizar `[\"1/0.5p,white\", \"2/0.5p,red\", \"3/0.5p,blue\"]`. \n",
    "\n",
    "Adicionalmente se define la resolución del `shapefile` que tiene las lineas de costa con `resolution='l'`, que en nuestro caso, por ser un mapa general, usamos baja resolución (l=low). Ecisten 5 niveles de resolución (con un cambio de 80% entre niveles):\n",
    "- \"c\": crude\n",
    "- \"l\": low (default)\n",
    "- \"i\": intermediate\n",
    "- \"h\": high\n",
    "- \"f\": full\n",
    "Se recomienda no usar inmediatamente la resolución máxima, ya que los `shapefile` pueden ser muy pesados. "
   ]
  },
  {
   "cell_type": "markdown",
   "metadata": {},
   "source": [
    "### Hazlo tu mismo\n",
    "\n",
    "A veces sólo queremos mostrar un mapa con colores, donde se separe los cuerpos de agua de tierra. Genere dos mapas, uno general en la región `[-170, -100, 20, 60]` y el otro un zoom en la región `[-130, -120, 46, 52]`. El objetivo es que el mar esté de azul y la Tierra de otro color. \n"
   ]
  },
  {
   "cell_type": "code",
   "execution_count": 11,
   "metadata": {},
   "outputs": [],
   "source": [
    "# gmtmap04.py\n",
    "# Mapa con Tierra y oceano, dos escalas\n",
    "#\n",
    "import pygmt\n",
    "\n",
    "reg1 = [-170, -100, 20, 60]\n",
    "reg2 = [-130, -120, 46, 52]\n",
    "\n",
    "fig = pygmt.Figure()\n"
   ]
  },
  {
   "cell_type": "markdown",
   "metadata": {},
   "source": [
    "#### Explicación\n",
    "\n",
    "La proyección en ambas figuras será Mercator (`M8i`, `M4i`), los mapas tendrán dos tamaños distintos. Como `pyGMT` no usa el mismo modelo de `matplotlib`, las dos figuras se crean \n",
    "```\n",
    "fig = pygmt.Figure()\n",
    "fig.coast(\n",
    "...\n",
    "fig.shift_origin(xshift='0.2i',yshift='0.1i')  \n",
    "```\n",
    "donde usando la misma figura `fig`, se redefine el origen. `GMT` genera las figuras en el orden en que se programa, es decir, si se hace primero la figura pequeña y luego la grande, la grande estaría encima y no se verían las dos. \n",
    "\n",
    "Ambas figuras tienen el mismo patrón, y el agua y tierra se colorean con el comando\n",
    "```\n",
    "fig.coast(\n",
    "    ...,\n",
    "    water='lightblue',\n",
    "    land='grey',\n",
    "    frame='f'\n",
    ")\n",
    "```\n",
    "y el `frame` define si existe un cajón que encierre a la figura y si tiene o no valores en los ejes `x` o `y`.\n",
    "\n"
   ]
  },
  {
   "cell_type": "markdown",
   "metadata": {},
   "source": [
    "### Hazlo tu mismo\n",
    "\n",
    "Genere un mapa similar al anterior para Colombia y sus alrededores, incluyendo limites políticos de paises y los ríos principales en color azul. \n"
   ]
  },
  {
   "cell_type": "code",
   "execution_count": 12,
   "metadata": {},
   "outputs": [],
   "source": [
    "# gmtmap05.py\n",
    "# Colombia, rios y fronteras\n",
    "#\n",
    "import pygmt\n",
    "\n",
    "reg  = [-90, -60, -10, 15]\n",
    "proj = 'M6i' \n",
    "fig = pygmt.Figure()\n"
   ]
  },
  {
   "cell_type": "markdown",
   "metadata": {},
   "source": [
    "Para extraer la información del shapefile de fronteras y ríos, dentro del comando `coast`\n",
    "```\n",
    "fig.coast(\n",
    "    ...\n",
    "    borders=['1/1p,black'],\n",
    "    rivers= ['1/blue']\n",
    "    water='lightblue',\n",
    "    land=\"white\",\n",
    "    )\n",
    "```\n",
    "El comando en ambos casos es `1/1p,color`, donde el primer número es el tipo de característica (rios principales, límites de países, o rios secundarios y límites departamentales. La segunda parte es la descripción las líneas, su tamaño y color. Si Ud. quiere mayor precisión en límites políticos o ríos puede solicitarlo `borders=['1/1p,black','2/0.5p,gray']` o `rivers= ['1/blue','2/blue','3/blue','4/blue']`. \n",
    "\n",
    "\n"
   ]
  },
  {
   "cell_type": "markdown",
   "metadata": {},
   "source": [
    "###  Hazlo tu mismo\n",
    "\n",
    "Como último ejemplo, muchas veces es importante incluir la **topografía** en el mapa, ya que puede mostrar algunos patrones importantes que se quiera resaltar. Además muchas veces queremos desplegar **información adicional** (puntos donde se tomaron datos, una ubicación, etc.), es decir **datos**.  \n",
    "\n",
    "Los datos en el archivo `rsnc.dat` tiene la latitud y longitud de las estaciones sismológicas del servicio geológico colombiano. Haga un mapa, con topografía en el fondo, de la red sismológica en el territorio colombiano. "
   ]
  },
  {
   "cell_type": "code",
   "execution_count": 13,
   "metadata": {},
   "outputs": [],
   "source": [
    "# gmtmap06.py\n",
    "# Con topo, y estaciones lat/lon\n",
    "#\n",
    "import numpy as np\n",
    "import pandas as pd\n",
    "import pygmt\n",
    "\n",
    "fname = 'data/rsnc.dat'\n",
    "data = pd.read_csv(fname, delim_whitespace=True, header=None)\n",
    "sta = np.array(data[0])\n",
    "lat = np.array(data[1])\n",
    "lon = np.array(data[2])\n",
    "ele = np.array(data[3])\n",
    "\n",
    "reg  = [-90, -60, -5, 15]\n",
    "proj = 'M6i'\n",
    "\n",
    "fig = pygmt.Figure()\n"
   ]
  },
  {
   "cell_type": "markdown",
   "metadata": {},
   "source": [
    "#### Explicación\n",
    "\n",
    "Esta tarea combina los diferentes comandos ya utilizados. Primero, la topografía\n",
    "```\n",
    "fig.grdimage(\n",
    "    '@earth_relief_05m',\n",
    "    ...\n",
    "    cmap='etopo1',\n",
    "    shading=True,\n",
    ")\n",
    "```\n",
    "donde se incluye la topografía con resolución suficiente para este mapa, incluyendo sombras.\n",
    "\n",
    "Sigue la inclusión de los límites y costas\n",
    "```\n",
    "fig.coast(\n",
    "    ...)\n",
    "\n",
    "```\n",
    "donde subrimos el agua de azul. Si no se pone `water='lightblue'`, la batimetría estaría desplegada. \n",
    "\n",
    "Por último, se ponen las estaciones (lon,lat), indicando que se ponen de color negro y en forma de triángulos. \n",
    "```\n",
    "fig.plot(lon,lat,\n",
    "    style='t0.2i',\n",
    "    color='black',\n",
    "    label='Estaciones',\n",
    "        )\n",
    "fig.legend()\n",
    "```\n",
    "y se incluye la leyenda explicativa. "
   ]
  },
  {
   "cell_type": "markdown",
   "metadata": {},
   "source": [
    "## Cuál escoger?\n",
    "\n",
    "Antes de contestar, es importante recordar que ambos paquetes están en etapa de desarrollo, \n",
    "por lo que pueden mejorar mucho. O volverse muy complicados. \n",
    "\n",
    "Ambos tienen ventajas y desventajas y creo que por ahora es cuestión personal sobre cual prefiere. "
   ]
  },
  {
   "cell_type": "markdown",
   "metadata": {},
   "source": [
    "## Qué nos faltó?\n",
    "\n",
    "Hay muchas cosas que uno quiere hacer cuando quiere desplegar información en mapas. En los ejemplos mostrados, se usó en ambos casos información de `shapefiles` y `tiles` disponibles, por lo que no hemos discutido cómo incluir información que Ud pueda tener. Información de shapefiles de carreteras o caminos, o grillas (en formato `NetCDF`por ejemplo) con información que el usuario haya tomado en campo (gravimetría, sísmica, etc.). \n",
    "\n",
    "En ambos paquetes es posible desplegar esta información, sin embargo está por fuera del enfoque introductorio del curso y seguramente Ud puede averiguar como incluir sus datos y ponerlos en un mapa con `cartopy` o con `pyGMT`. \n"
   ]
  },
  {
   "cell_type": "code",
   "execution_count": null,
   "metadata": {},
   "outputs": [],
   "source": []
  }
 ],
 "metadata": {
  "kernelspec": {
   "display_name": "Python 3",
   "language": "python",
   "name": "python3"
  },
  "language_info": {
   "codemirror_mode": {
    "name": "ipython",
    "version": 3
   },
   "file_extension": ".py",
   "mimetype": "text/x-python",
   "name": "python",
   "nbconvert_exporter": "python",
   "pygments_lexer": "ipython3",
   "version": "3.7.8"
  }
 },
 "nbformat": 4,
 "nbformat_minor": 4
}
